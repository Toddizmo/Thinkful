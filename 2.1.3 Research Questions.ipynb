{
 "cells": [
  {
   "cell_type": "markdown",
   "metadata": {},
   "source": [
    "**Categorize each of the following research questions as \"good\" or \"bad\", and provide alternative formulations for the bad ones.**\n",
    "\n",
    "\n",
    "What is the 1994 rate of juvenile delinquency in the U.S.?<br>\n",
    "Good.\n",
    "\n",
    "\n",
    "What can we do to reduce juvenile delinquency in the U.S.?<br>\n",
    "Bad. Question can't be measured using quantities or probabilities. Perhaps it would be better to find out \"what factors influence juvenile delinquency?\"\n",
    "\n",
    "Does education play a role in reducing juvenile delinquents' return to crime?<br>\n",
    "Good.\n",
    "\n",
    "How many customers does AT&T currently serve in Washington, DC?<br>\n",
    "Bad. Far too simple. A better questions could be: \"What is the cellular usage of AT&T customers in Washington DC?\"\n",
    "\n",
    "What factors lead consumers to choose AT&T over other service providers?<br>\n",
    "Good.\n",
    "\n",
    "How can AT&T attract more customers?<br>\n",
    "Bad. \"What factors have the greatest influence on a consumer choosing a specific cellular carrier.\"\n",
    "\n",
    "Why did the Challenger Shuttle explode?<br>\n",
    "Bad. \"What factors lead to the Challenger Shuttle explosion.\"\n",
    "\n",
    "Which genes are associated with increased risk of breast cancer?<br>\n",
    "Good.\n",
    "\n",
    "Is it better to read to children at night or in the morning?<br>\n",
    "Good.\n",
    "\n",
    "How does Google’s search algorithm work?<br>\n",
    "Bad. Far to broad of a question. \"After using Google's search engine, which number link do individual's choose.\""
   ]
  }
 ],
 "metadata": {
  "kernelspec": {
   "display_name": "Python 3",
   "language": "python",
   "name": "python3"
  },
  "language_info": {
   "codemirror_mode": {
    "name": "ipython",
    "version": 3
   },
   "file_extension": ".py",
   "mimetype": "text/x-python",
   "name": "python",
   "nbconvert_exporter": "python",
   "pygments_lexer": "ipython3",
   "version": "3.6.2"
  }
 },
 "nbformat": 4,
 "nbformat_minor": 2
}
