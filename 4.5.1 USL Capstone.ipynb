{
 "cells": [
  {
   "cell_type": "code",
   "execution_count": 67,
   "metadata": {},
   "outputs": [],
   "source": [
    "import pandas as pd\n",
    "import numpy as np\n",
    "import scipy as sp\n",
    "import nltk\n",
    "import seaborn as sns\n",
    "import re\n",
    "from time import time\n",
    "from wordcloud import WordCloud\n",
    "from sklearn.decomposition import PCA\n",
    "from sklearn import ensemble\n",
    "from sklearn.model_selection import train_test_split\n",
    "from sklearn.model_selection import cross_val_score\n",
    "from sklearn.feature_extraction.text import CountVectorizer, TfidfVectorizer\n",
    "from sklearn.linear_model import LogisticRegression\n",
    "from sklearn import metrics\n",
    "from textblob import TextBlob, Word\n",
    "from nltk.stem.snowball import SnowballStemmer\n",
    "import matplotlib.pyplot as plt\n",
    "from sklearn.preprocessing import normalize\n",
    "from sklearn.cluster import KMeans, MiniBatchKMeans\n",
    "from __future__ import unicode_literals\n",
    "%matplotlib inline"
   ]
  },
  {
   "cell_type": "code",
   "execution_count": 2,
   "metadata": {},
   "outputs": [],
   "source": [
    "lyrics = pd.read_csv('Lyrics1.csv', encoding='utf-8')"
   ]
  },
  {
   "cell_type": "code",
   "execution_count": 3,
   "metadata": {},
   "outputs": [],
   "source": [
    "# choose 10 similar bands\n",
    "lyrics = lyrics[lyrics['Band'].str.match('Weezer|The Black Keys|Green Day|Arctic Monkeys|Black Rebel Motorcycle Club|Foo Fighters|Red Hot Chili Peppers|Smashing Pumpkins|Muse|blink-182')]"
   ]
  },
  {
   "cell_type": "code",
   "execution_count": 4,
   "metadata": {},
   "outputs": [
    {
     "data": {
      "text/html": [
       "<div>\n",
       "<style scoped>\n",
       "    .dataframe tbody tr th:only-of-type {\n",
       "        vertical-align: middle;\n",
       "    }\n",
       "\n",
       "    .dataframe tbody tr th {\n",
       "        vertical-align: top;\n",
       "    }\n",
       "\n",
       "    .dataframe thead th {\n",
       "        text-align: right;\n",
       "    }\n",
       "</style>\n",
       "<table border=\"1\" class=\"dataframe\">\n",
       "  <thead>\n",
       "    <tr style=\"text-align: right;\">\n",
       "      <th></th>\n",
       "      <th>Lyrics</th>\n",
       "      <th>Song</th>\n",
       "    </tr>\n",
       "    <tr>\n",
       "      <th>Band</th>\n",
       "      <th></th>\n",
       "      <th></th>\n",
       "    </tr>\n",
       "  </thead>\n",
       "  <tbody>\n",
       "    <tr>\n",
       "      <th>Arctic Monkeys</th>\n",
       "      <td>79</td>\n",
       "      <td>79</td>\n",
       "    </tr>\n",
       "    <tr>\n",
       "      <th>Black Rebel Motorcycle Club</th>\n",
       "      <td>104</td>\n",
       "      <td>104</td>\n",
       "    </tr>\n",
       "    <tr>\n",
       "      <th>Foo Fighters</th>\n",
       "      <td>83</td>\n",
       "      <td>83</td>\n",
       "    </tr>\n",
       "    <tr>\n",
       "      <th>Green Day</th>\n",
       "      <td>243</td>\n",
       "      <td>243</td>\n",
       "    </tr>\n",
       "    <tr>\n",
       "      <th>Muse</th>\n",
       "      <td>144</td>\n",
       "      <td>144</td>\n",
       "    </tr>\n",
       "    <tr>\n",
       "      <th>Red Hot Chili Peppers</th>\n",
       "      <td>200</td>\n",
       "      <td>200</td>\n",
       "    </tr>\n",
       "    <tr>\n",
       "      <th>Smashing Pumpkins</th>\n",
       "      <td>203</td>\n",
       "      <td>203</td>\n",
       "    </tr>\n",
       "    <tr>\n",
       "      <th>The Black Keys</th>\n",
       "      <td>41</td>\n",
       "      <td>41</td>\n",
       "    </tr>\n",
       "    <tr>\n",
       "      <th>Weezer</th>\n",
       "      <td>60</td>\n",
       "      <td>60</td>\n",
       "    </tr>\n",
       "    <tr>\n",
       "      <th>blink-182</th>\n",
       "      <td>145</td>\n",
       "      <td>145</td>\n",
       "    </tr>\n",
       "  </tbody>\n",
       "</table>\n",
       "</div>"
      ],
      "text/plain": [
       "                             Lyrics  Song\n",
       "Band                                     \n",
       "Arctic Monkeys                   79    79\n",
       "Black Rebel Motorcycle Club     104   104\n",
       "Foo Fighters                     83    83\n",
       "Green Day                       243   243\n",
       "Muse                            144   144\n",
       "Red Hot Chili Peppers           200   200\n",
       "Smashing Pumpkins               203   203\n",
       "The Black Keys                   41    41\n",
       "Weezer                           60    60\n",
       "blink-182                       145   145"
      ]
     },
     "execution_count": 4,
     "metadata": {},
     "output_type": "execute_result"
    }
   ],
   "source": [
    "# find the lowest number of songs\n",
    "lyrics.groupby('Band').count()"
   ]
  },
  {
   "cell_type": "code",
   "execution_count": 5,
   "metadata": {},
   "outputs": [],
   "source": [
    "# take a sample of the other artists equal to the band with the lowest number of songs\n",
    "# lyrics = lyrics.groupby('Band').apply(lambda x: x.sample(41)).reset_index(drop=True)"
   ]
  },
  {
   "cell_type": "code",
   "execution_count": 6,
   "metadata": {},
   "outputs": [],
   "source": [
    "import spacy\n",
    "# We want to use the standard english-language parser.\n",
    "nlp = spacy.load('en')\n",
    "\n",
    "weezer = lyrics.Lyrics[lyrics.Band == 'Weezer']\n",
    "weezer = weezer.sample(n=30)\n",
    "weezer = ' '.join(weezer.tolist())\n",
    "\n",
    "# Parsing\n",
    "weezer = nlp(weezer)"
   ]
  },
  {
   "cell_type": "code",
   "execution_count": 27,
   "metadata": {},
   "outputs": [],
   "source": [
    "gd = lyrics.Lyrics[lyrics.Band == 'Green Day']\n",
    "gd = gd.sample(n=30)\n",
    "gd = ' '.join(gd.tolist())\n",
    "gd = nlp(gd)"
   ]
  },
  {
   "cell_type": "code",
   "execution_count": 8,
   "metadata": {},
   "outputs": [],
   "source": [
    "am = lyrics.Lyrics[lyrics.Band == 'Arctic Monkeys']\n",
    "am = am.sample(n=30)\n",
    "am = ' '.join(am.tolist())\n",
    "am = nlp(am)"
   ]
  },
  {
   "cell_type": "code",
   "execution_count": 9,
   "metadata": {},
   "outputs": [],
   "source": [
    "brmc = lyrics.Lyrics[lyrics.Band == 'Black Rebel Motorcycle Club']\n",
    "brmc = brmc.sample(n=30)\n",
    "brmc = ' '.join(brmc.tolist())\n",
    "brmc = nlp(brmc)"
   ]
  },
  {
   "cell_type": "code",
   "execution_count": 10,
   "metadata": {},
   "outputs": [],
   "source": [
    "ff = lyrics.Lyrics[lyrics.Band == 'Foo Fighters']\n",
    "ff = ff.sample(n=30)\n",
    "ff = ' '.join(ff.tolist())\n",
    "ff = nlp(ff)"
   ]
  },
  {
   "cell_type": "code",
   "execution_count": 11,
   "metadata": {},
   "outputs": [],
   "source": [
    "muse = lyrics.Lyrics[lyrics.Band == 'Muse']\n",
    "muse = muse.sample(n=30)\n",
    "muse = ' '.join(muse.tolist())\n",
    "muse = nlp(muse)"
   ]
  },
  {
   "cell_type": "code",
   "execution_count": 12,
   "metadata": {},
   "outputs": [],
   "source": [
    "rhcp = lyrics.Lyrics[lyrics.Band == 'Red Hot Chili Peppers']\n",
    "rhcp = rhcp.sample(n=30)\n",
    "rhcp = ' '.join(rhcp.tolist())\n",
    "rhcp = nlp(rhcp)"
   ]
  },
  {
   "cell_type": "code",
   "execution_count": 13,
   "metadata": {},
   "outputs": [],
   "source": [
    "sp = lyrics.Lyrics[lyrics.Band == 'Smashing Pumpkins']\n",
    "sp = sp.sample(n=30)\n",
    "sp = ' '.join(sp.tolist())\n",
    "sp = nlp(sp)"
   ]
  },
  {
   "cell_type": "code",
   "execution_count": 14,
   "metadata": {},
   "outputs": [],
   "source": [
    "tbk = lyrics.Lyrics[lyrics.Band == 'The Black Keys']\n",
    "tbk = tbk.sample(n=30)\n",
    "tbk = ' '.join(tbk.tolist())\n",
    "tbk = nlp(tbk)"
   ]
  },
  {
   "cell_type": "code",
   "execution_count": 15,
   "metadata": {},
   "outputs": [],
   "source": [
    "blink = lyrics.Lyrics[lyrics.Band == 'blink-182']\n",
    "blink = blink.sample(n=30)\n",
    "blink = ' '.join(blink.tolist())\n",
    "blink = nlp(blink)"
   ]
  },
  {
   "cell_type": "code",
   "execution_count": 96,
   "metadata": {},
   "outputs": [
    {
     "data": {
      "image/png": "[encoded data removed]",
      "text/plain": [
       "<Figure size 432x288 with 1 Axes>"
      ]
     },
     "metadata": {},
     "output_type": "display_data"
    },
    {
     "data": {
      "image/png": "[encoded data removed]",
      "text/plain": [
       "<Figure size 432x288 with 1 Axes>"
      ]
     },
     "metadata": {},
     "output_type": "display_data"
    }
   ],
   "source": [
    "weezer2 = lyrics.Lyrics[lyrics.Band == 'Weezer']\n",
    "text = ' '.join(weezer.tolist())\n",
    "wordcloud = WordCloud(width=800, height=500, margin=0, stopwords=None, max_words=70).generate(text)\n",
    "\n",
    "# Display the generated image:\n",
    "plt.subplot(1, 2, 1)\n",
    "plt.imshow(wordcloud, interpolation='bilinear')\n",
    "plt.axis(\"off\")\n",
    "plt.margins(x=0, y=0)\n",
    "plt.title(\"Weezer\", fontsize=20)\n",
    "plt.show()\n",
    "\n",
    "gd2 = lyrics.Lyrics[lyrics.Band == 'Green Day']\n",
    "text = ' '.join(gd2.tolist())\n",
    "wordcloud = WordCloud(width=800, height=500, margin=0, stopwords=None, max_words=70).generate(text)\n",
    "\n",
    "\n",
    "# Display the generated image:\n",
    "plt.subplot(1, 2, 2)\n",
    "plt.imshow(wordcloud, interpolation='bilinear')\n",
    "plt.axis(\"off\")\n",
    "plt.margins(x=0, y=0)\n",
    "plt.title(\"Green Day\", fontsize=20)\n",
    "plt.show()"
   ]
  },
  {
   "cell_type": "code",
   "execution_count": 20,
   "metadata": {},
   "outputs": [],
   "source": [
    "# define X and y\n",
    "X = lyrics['Lyrics']\n",
    "y = lyrics['Band']\n",
    "\n",
    "# split the new DataFrame into training and testing sets\n",
    "X_train, X_test, y_train, y_test = train_test_split(X, y, random_state=1)"
   ]
  },
  {
   "cell_type": "code",
   "execution_count": 21,
   "metadata": {},
   "outputs": [],
   "source": [
    "vect_tfidf = TfidfVectorizer(max_df=0.5, # drop words that occur in more than half of texts\n",
    "                             min_df=2, # only use words that appear at least twice\n",
    "                             stop_words='english', \n",
    "                             lowercase=True, #convert everything to lower case\n",
    "                             use_idf=True,#we definitely want to use inverse document frequencies in our weighting\n",
    "                             norm=u'l2', #longer paragraphs and shorter paragraphs get treated equally\n",
    "                             smooth_idf=True #adds 1 to all document frequencies\n",
    "                            )\n",
    "X_train_dtm = vect_tfidf.fit_transform(X_train)\n",
    "X_test_dtm = vect_tfidf.fit_transform(X_test)"
   ]
  },
  {
   "cell_type": "code",
   "execution_count": 22,
   "metadata": {},
   "outputs": [
    {
     "name": "stdout",
     "output_type": "stream",
     "text": [
      "(976, 4100)\n",
      "(326, 1920)\n"
     ]
    }
   ],
   "source": [
    "print (X_train_dtm.shape)\n",
    "print (X_test_dtm.shape)"
   ]
  },
  {
   "cell_type": "code",
   "execution_count": 23,
   "metadata": {},
   "outputs": [
    {
     "name": "stdout",
     "output_type": "stream",
     "text": [
      "Accuracy:  0.4239561568555598\n"
     ]
    }
   ],
   "source": [
    "logreg = LogisticRegression()\n",
    "print ('Accuracy: ', cross_val_score(logreg, X_train_dtm, y_train, cv=5, scoring='accuracy').mean())"
   ]
  },
  {
   "cell_type": "code",
   "execution_count": 24,
   "metadata": {},
   "outputs": [
    {
     "name": "stdout",
     "output_type": "stream",
     "text": [
      "Accuracy:  0.39033913942589155\n"
     ]
    }
   ],
   "source": [
    "rfc = ensemble.RandomForestClassifier()\n",
    "print ('Accuracy: ', cross_val_score(rfc, X_train_dtm, y_train, cv=5, scoring='accuracy').mean())"
   ]
  },
  {
   "cell_type": "code",
   "execution_count": 25,
   "metadata": {},
   "outputs": [
    {
     "name": "stdout",
     "output_type": "stream",
     "text": [
      "Accuracy:  0.38471700835568756\n"
     ]
    }
   ],
   "source": [
    "clf = ensemble.GradientBoostingClassifier()\n",
    "print ('Accuracy: ', cross_val_score(clf, X_train_dtm, y_train, cv=5, scoring='accuracy').mean())"
   ]
  },
  {
   "cell_type": "code",
   "execution_count": 26,
   "metadata": {},
   "outputs": [],
   "source": [
    "vect = CountVectorizer()\n",
    "X_train_dtm = vect.fit_transform(X_train)\n",
    "X_test_dtm = vect.transform(X_test)"
   ]
  },
  {
   "cell_type": "code",
   "execution_count": 27,
   "metadata": {},
   "outputs": [
    {
     "name": "stdout",
     "output_type": "stream",
     "text": [
      "Accuracy:  0.5065080403290583\n"
     ]
    }
   ],
   "source": [
    "print ('Accuracy: ', cross_val_score(logreg, X_train_dtm, y_train, cv=5, scoring='accuracy').mean())"
   ]
  },
  {
   "cell_type": "code",
   "execution_count": 28,
   "metadata": {},
   "outputs": [
    {
     "name": "stdout",
     "output_type": "stream",
     "text": [
      "Accuracy:  0.38819928866751674\n"
     ]
    }
   ],
   "source": [
    "print ('Accuracy: ', cross_val_score(rfc, X_train_dtm, y_train, cv=5, scoring='accuracy').mean())"
   ]
  },
  {
   "cell_type": "code",
   "execution_count": 29,
   "metadata": {},
   "outputs": [
    {
     "name": "stdout",
     "output_type": "stream",
     "text": [
      "Accuracy:  0.4231130951883415\n"
     ]
    }
   ],
   "source": [
    "print ('Accuracy: ', cross_val_score(clf, X_train_dtm, y_train, cv=5, scoring='accuracy').mean())"
   ]
  }
 ],
 "metadata": {
  "kernelspec": {
   "display_name": "Python 3",
   "language": "python",
   "name": "python3"
  },
  "language_info": {
   "codemirror_mode": {
    "name": "ipython",
    "version": 3
   },
   "file_extension": ".py",
   "mimetype": "text/x-python",
   "name": "python",
   "nbconvert_exporter": "python",
   "pygments_lexer": "ipython3",
   "version": "3.6.5"
  }
 },
 "nbformat": 4,
 "nbformat_minor": 2
}
