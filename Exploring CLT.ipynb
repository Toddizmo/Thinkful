{
 "cells": [
  {
   "cell_type": "code",
   "execution_count": 1,
   "metadata": {
    "collapsed": true
   },
   "outputs": [],
   "source": [
    "import numpy as np\n",
    "import pandas as pd\n",
    "import scipy\n",
    "import matplotlib.pyplot as plt\n",
    "%matplotlib inline"
   ]
  },
  {
   "cell_type": "code",
   "execution_count": 2,
   "metadata": {},
   "outputs": [],
   "source": [
    "pop1 = np.random.binomial(10, 0.2, 10000)\n",
    "pop2 = np.random.binomial(10,0.5, 10000) "
   ]
  },
  {
   "cell_type": "code",
   "execution_count": 3,
   "metadata": {},
   "outputs": [
    {
     "name": "stdout",
     "output_type": "stream",
     "text": [
      "Mean of sample #1:\n",
      "1.89\n",
      "Standard deviation of sample #1:\n",
      "1.18232821162\n",
      "\n",
      "\n",
      "Mean of sample #2:\n",
      "4.92\n",
      "Standard deviation of sample #2:\n",
      "1.38332931726\n"
     ]
    }
   ],
   "source": [
    "sample1 = np.random.choice(pop1, 100, replace=True)\n",
    "sample2 = np.random.choice(pop2, 100, replace=True)\n",
    "print(\"Mean of sample #1:\")\n",
    "print(np.mean(sample1))\n",
    "print(\"Standard deviation of sample #1:\")\n",
    "print(np.std(sample1))\n",
    "print(\"\\n\")\n",
    "print(\"Mean of sample #2:\")\n",
    "print(np.mean(sample2))\n",
    "print(\"Standard deviation of sample #2:\")\n",
    "print(np.std(sample2))"
   ]
  },
  {
   "cell_type": "code",
   "execution_count": 4,
   "metadata": {},
   "outputs": [
    {
     "data": {
      "image/png": "[encoded data removed]",
      "text/plain": [
       "<matplotlib.figure.Figure at 0x28a01bb2f98>"
      ]
     },
     "metadata": {},
     "output_type": "display_data"
    },
    {
     "name": "stdout",
     "output_type": "stream",
     "text": [
      "Mean of sample #3:\n",
      "2.012\n",
      "Standard deviation of sample #3:\n",
      "1.25930774634\n",
      "\n",
      "\n",
      "Mean of sample #4:\n",
      "4.957\n",
      "Standard deviation of sample #4:\n",
      "1.54309785821\n"
     ]
    }
   ],
   "source": [
    "sample3 = np.random.choice(pop1, 1000, replace=True)\n",
    "sample4 = np.random.choice(pop2, 1000, replace=True)\n",
    "\n",
    "plt.hist(sample3, alpha=0.5, label='Sample 1', color = \"blue\") \n",
    "plt.hist(sample4, alpha=0.5, label='Sample 2', color = \"c\") \n",
    "plt.legend(loc='upper right') \n",
    "plt.show()\n",
    "print(\"Mean of sample #3:\")\n",
    "print(np.mean(sample3))\n",
    "print(\"Standard deviation of sample #3:\")\n",
    "print(np.std(sample3))\n",
    "print(\"\\n\")\n",
    "print(\"Mean of sample #4:\")\n",
    "print(np.mean(sample4))\n",
    "print(\"Standard deviation of sample #4:\")\n",
    "print(np.std(sample4))"
   ]
  },
  {
   "cell_type": "code",
   "execution_count": 5,
   "metadata": {},
   "outputs": [
    {
     "data": {
      "image/png": "[encoded data removed]",
      "text/plain": [
       "<matplotlib.figure.Figure at 0x28a01bb25c0>"
      ]
     },
     "metadata": {},
     "output_type": "display_data"
    },
    {
     "name": "stdout",
     "output_type": "stream",
     "text": [
      "Mean of sample #5:\n",
      "2.65\n",
      "Standard deviation of sample #5:\n",
      "1.06183802908\n",
      "\n",
      "\n",
      "Mean of sample #6:\n",
      "4.7\n",
      "Standard deviation of sample #6:\n",
      "1.58429795178\n"
     ]
    }
   ],
   "source": [
    "sample5 = np.random.choice(pop1, 20, replace=True)\n",
    "sample6 = np.random.choice(pop2, 20, replace=True)\n",
    "\n",
    "plt.hist(sample5, alpha=0.5, label='Sample 3', color = \"blue\") \n",
    "plt.hist(sample6, alpha=0.5, label='Sample 4', color = \"c\") \n",
    "plt.legend(loc='upper right') \n",
    "plt.show()\n",
    "print(\"Mean of sample #5:\")\n",
    "print(np.mean(sample5))\n",
    "print(\"Standard deviation of sample #5:\")\n",
    "print(np.std(sample5))\n",
    "print(\"\\n\")\n",
    "print(\"Mean of sample #6:\")\n",
    "print(np.mean(sample6))\n",
    "print(\"Standard deviation of sample #6:\")\n",
    "print(np.std(sample6))"
   ]
  },
  {
   "cell_type": "code",
   "execution_count": 11,
   "metadata": {},
   "outputs": [
    {
     "name": "stdout",
     "output_type": "stream",
     "text": [
      "Ttest_indResult(statistic=-9.5730447278963329, pvalue=4.4801001070929883e-18)\n"
     ]
    }
   ],
   "source": [
    "pop1 = np.random.binomial(10, 0.3, 10000)\n",
    "pop2 = np.random.binomial(10,0.5, 10000) \n",
    "\n",
    "sample7 = np.random.choice(pop1, 100, replace=True)\n",
    "sample8 = np.random.choice(pop2, 100, replace=True)\n",
    "\n",
    "from scipy.stats import ttest_ind\n",
    "print(ttest_ind(sample7, sample8, equal_var=False))"
   ]
  },
  {
   "cell_type": "code",
   "execution_count": null,
   "metadata": {
    "collapsed": true
   },
   "outputs": [],
   "source": []
  }
 ],
 "metadata": {
  "kernelspec": {
   "display_name": "Python 3",
   "language": "python",
   "name": "python3"
  },
  "language_info": {
   "codemirror_mode": {
    "name": "ipython",
    "version": 3
   },
   "file_extension": ".py",
   "mimetype": "text/x-python",
   "name": "python",
   "nbconvert_exporter": "python",
   "pygments_lexer": "ipython3",
   "version": "3.6.2"
  }
 },
 "nbformat": 4,
 "nbformat_minor": 2
}
