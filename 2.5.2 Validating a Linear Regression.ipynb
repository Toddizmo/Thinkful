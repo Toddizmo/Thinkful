{
 "cells": [
  {
   "cell_type": "code",
   "execution_count": 1,
   "metadata": {
    "collapsed": true
   },
   "outputs": [],
   "source": [
    "%matplotlib inline\n",
    "import pandas as pd\n",
    "import numpy as np\n",
    "import matplotlib.pyplot as plt\n",
    "import statistics\n",
    "import seaborn as sns\n",
    "from scipy.stats import ttest_ind, ttest_ind_from_stats\n",
    "from scipy.special import stdtr\n",
    "from scipy import stats\n",
    "from scipy.stats import ttest_ind\n",
    "from matplotlib.mlab import PCA as mlabPCA\n",
    "from sklearn.preprocessing import StandardScaler\n",
    "from sklearn.decomposition import PCA\n",
    "import pandas as pd\n",
    "from sklearn import linear_model\n",
    "from sklearn.linear_model import LinearRegression"
   ]
  },
  {
   "cell_type": "code",
   "execution_count": 2,
   "metadata": {
    "collapsed": true
   },
   "outputs": [],
   "source": [
    "df2013 = pd.read_csv(\"ny_crime_2013.csv\")\n",
    "df2014 = pd.read_csv(\"ny_crime_2014.csv\")"
   ]
  },
  {
   "cell_type": "code",
   "execution_count": 3,
   "metadata": {
    "collapsed": true
   },
   "outputs": [],
   "source": [
    "#drop column that contains no data\n",
    "df2013 = df2013.drop('Rape\\n(revised\\ndefinition)1', axis=1)"
   ]
  },
  {
   "cell_type": "code",
   "execution_count": 4,
   "metadata": {
    "collapsed": true
   },
   "outputs": [],
   "source": [
    "#simplify column names\n",
    "df2013.columns = ['city', 'population', 'violent crime', 'murder', 'rape', 'robbery', 'assault', \n",
    "              'property crime','burglary', 'larceny/theft', 'motor vehicle theft', 'arson']\n",
    "df2014.columns = ['city', 'population', 'violent crime', 'murder', 'rape v1', 'rape v2', 'robbery', 'assault', \n",
    "              'property crime','burglary', 'larceny/theft', 'motor vehicle theft', 'arson']"
   ]
  },
  {
   "cell_type": "code",
   "execution_count": 5,
   "metadata": {},
   "outputs": [],
   "source": [
    "df2013 = df2013.drop(columns=['city', 'rape', 'arson'])\n",
    "df2014 = df2014.drop(columns=['city', 'rape v1', 'rape v2'])\n",
    "\n",
    "df2013 = df2013.replace({',': ''}, regex=True)\n",
    "df2014 = df2014.replace({',': ''}, regex=True)"
   ]
  },
  {
   "cell_type": "code",
   "execution_count": 6,
   "metadata": {},
   "outputs": [],
   "source": [
    "#convert all data into floats\n",
    "df2013[['population', 'violent crime', 'murder', 'robbery', 'assault', \n",
    "              'property crime','burglary', 'larceny/theft', 'motor vehicle theft']] = df2013[['population', 'violent crime', 'murder', 'robbery', 'assault', \n",
    "              'property crime','burglary', 'larceny/theft', 'motor vehicle theft']].astype(float)\n",
    "df2014[['population', 'violent crime', 'murder', 'robbery', 'assault', \n",
    "              'property crime','burglary', 'larceny/theft', 'motor vehicle theft', 'arson']] = df2014[['population', 'violent crime', 'murder', 'robbery', 'assault', \n",
    "              'property crime','burglary', 'larceny/theft', 'motor vehicle theft', 'arson']].astype(float)"
   ]
  },
  {
   "cell_type": "code",
   "execution_count": 7,
   "metadata": {
    "collapsed": true
   },
   "outputs": [],
   "source": [
    "#remove outliers (based off of 3 standard deviations)\n",
    "df2013[np.abs(df2013.population-df2013.population.mean())<=(3*df2013.population.std())] \n",
    "df2013 = df2013[~(np.abs(df2013.population-df2013.population.mean())>(3*df2013.population.std()))]\n",
    "\n",
    "df2014[np.abs(df2014.population-df2014.population.mean())<=(3*df2014.population.std())] \n",
    "df2014 = df2014[~(np.abs(df2014.population-df2014.population.mean())>(3*df2014.population.std()))]"
   ]
  },
  {
   "cell_type": "code",
   "execution_count": 8,
   "metadata": {
    "collapsed": true
   },
   "outputs": [],
   "source": [
    "#disable warning\n",
    "pd.options.mode.chained_assignment = None\n",
    "\n",
    "#create population squared column\n",
    "df2013['population squared'] = np.square(df2013['population'])\n",
    "df2014['population squared'] = np.square(df2014['population'])"
   ]
  },
  {
   "cell_type": "code",
   "execution_count": 9,
   "metadata": {
    "collapsed": true
   },
   "outputs": [],
   "source": [
    "#convert murder and robbery (continuous data) columns into categorical data\n",
    "df2013['murder'] = np.where(df2013['murder']>0, 1, 0)\n",
    "df2013['robbery'] = np.where(df2013['robbery']>0, 1, 0)\n",
    "\n",
    "df2014['murder'] = np.where(df2014['murder']>0, 1, 0)\n",
    "df2014['robbery'] = np.where(df2014['robbery']>0, 1, 0)"
   ]
  },
  {
   "cell_type": "code",
   "execution_count": 10,
   "metadata": {},
   "outputs": [],
   "source": [
    "#create population log columns\n",
    "df2013['population log'] = pd.DataFrame(np.log(df2013['population']))\n",
    "df2014['population log'] = pd.DataFrame(np.log(df2014['population']))"
   ]
  },
  {
   "cell_type": "code",
   "execution_count": 11,
   "metadata": {
    "collapsed": true
   },
   "outputs": [],
   "source": [
    "#drop NaN values\n",
    "df2013 = df2013.dropna()\n",
    "df2014 = df2014.dropna()"
   ]
  },
  {
   "cell_type": "code",
   "execution_count": 12,
   "metadata": {},
   "outputs": [
    {
     "name": "stdout",
     "output_type": "stream",
     "text": [
      "\n",
      "Coefficients: \n",
      " [5.65282537e-03 1.40183952e-07 6.07703663e+01 1.68486011e+02\n",
      " 8.99482841e+01]\n",
      "\n",
      "Intercept: \n",
      " -474.6952485891337\n",
      "\n",
      "R-squared:\n",
      "0.8279720763932436\n"
     ]
    }
   ],
   "source": [
    "df2013['propert crime'] = df2013['property crime'].values.reshape(-1,1)\n",
    "X = df2013[['population', 'population squared', 'population log', 'murder', 'robbery']]\n",
    "y = df2013['property crime']\n",
    "regr = linear_model.LinearRegression() \n",
    "regr.fit(X,y)\n",
    "print('\\nCoefficients: \\n', regr.coef_)\n",
    "print('\\nIntercept: \\n', regr.intercept_)\n",
    "print('\\nR-squared:')\n",
    "print(regr.score(X, y))"
   ]
  },
  {
   "cell_type": "code",
   "execution_count": 13,
   "metadata": {},
   "outputs": [
    {
     "name": "stdout",
     "output_type": "stream",
     "text": [
      "Cross Validation Scores:\n",
      " [-0.02621307  0.93727081  0.30749063  0.84185228  0.76152037  0.79262981\n",
      "  0.52999227  0.89926571  0.78755618 -1.45071752]\n"
     ]
    }
   ],
   "source": [
    "from sklearn.model_selection import cross_val_score\n",
    "print('Cross Validation Scores:\\n', cross_val_score(regr, X, y, cv=10))"
   ]
  },
  {
   "cell_type": "code",
   "execution_count": 14,
   "metadata": {},
   "outputs": [
    {
     "name": "stdout",
     "output_type": "stream",
     "text": [
      "\n",
      "Coefficients: \n",
      " [ 2.06000004e-02  3.96421071e-08 -5.82633953e+01  2.45264765e+02\n",
      "  8.34775179e+01]\n",
      "\n",
      "Intercept: \n",
      " 410.34687453880144\n",
      "\n",
      "R-squared:\n",
      "0.7550625074652999\n"
     ]
    }
   ],
   "source": [
    "df2014['propert crime'] = df2014['property crime'].values.reshape(-1,1)\n",
    "X2 = df2014[['population', 'population squared', 'population log', 'murder', 'robbery']]\n",
    "y2 = df2014['property crime']\n",
    "regr.fit(X2,y2)\n",
    "print('\\nCoefficients: \\n', regr.coef_)\n",
    "print('\\nIntercept: \\n', regr.intercept_)\n",
    "print('\\nR-squared:')\n",
    "print(regr.score(X2, y2))"
   ]
  },
  {
   "cell_type": "code",
   "execution_count": 15,
   "metadata": {},
   "outputs": [
    {
     "name": "stdout",
     "output_type": "stream",
     "text": [
      "Cross Validation Scores:\n",
      " [ 0.80351479  0.8712423   0.67495926  0.768288    0.73621998  0.46295017\n",
      "  0.53347672  0.56122402  0.81697679 -2.75639745]\n"
     ]
    }
   ],
   "source": [
    "print('Cross Validation Scores:\\n', cross_val_score(regr, X2, y2, cv=10))"
   ]
  }
 ],
 "metadata": {
  "kernelspec": {
   "display_name": "Python 3",
   "language": "python",
   "name": "python3"
  },
  "language_info": {
   "codemirror_mode": {
    "name": "ipython",
    "version": 3
   },
   "file_extension": ".py",
   "mimetype": "text/x-python",
   "name": "python",
   "nbconvert_exporter": "python",
   "pygments_lexer": "ipython3",
   "version": "3.6.2"
  }
 },
 "nbformat": 4,
 "nbformat_minor": 2
}
