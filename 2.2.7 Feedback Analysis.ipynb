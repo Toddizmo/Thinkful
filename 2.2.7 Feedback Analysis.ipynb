{
 "cells": [
  {
   "cell_type": "code",
   "execution_count": 1,
   "metadata": {
    "collapsed": true
   },
   "outputs": [],
   "source": [
    "%matplotlib inline\n",
    "import numpy as np\n",
    "import pandas as pd\n",
    "import scipy\n",
    "import sklearn\n",
    "import matplotlib.pyplot as plt\n",
    "import seaborn as sns"
   ]
  },
  {
   "cell_type": "code",
   "execution_count": 2,
   "metadata": {},
   "outputs": [],
   "source": [
    "sms_raw = pd.read_csv(\"amazon_cells_labelled.txt\", delimiter= '\\t', header=None)\n",
    "sms_raw.columns = ['review', 'positive_review']"
   ]
  },
  {
   "cell_type": "code",
   "execution_count": 3,
   "metadata": {},
   "outputs": [
    {
     "name": "stdout",
     "output_type": "stream",
     "text": [
      "                                                review  positive_review\n",
      "0    so there is no way for me to plug it in here i...                0\n",
      "1                          good case, excellent value.                1\n",
      "2                               great for the jawbone.                1\n",
      "3    tied to charger for conversations lasting more...                0\n",
      "4                                    the mic is great.                1\n",
      "5    i have to jiggle the plug to get it to line up...                0\n",
      "6    if you have several dozen or several hundred c...                0\n",
      "7          if you are razr owner...you must have this!                1\n",
      "8                  needless to say, i wasted my money.                0\n",
      "9                     what a waste of money and time!.                0\n",
      "10                     and the sound quality is great.                1\n",
      "11   he was very impressed when going from the orig...                1\n",
      "12   if the two were seperated by a mere 5+ ft i st...                0\n",
      "13                            very good quality though                1\n",
      "14   the design is very odd, as the ear \"clip\" is n...                0\n",
      "15   highly recommend for any one who has a blue to...                1\n",
      "16                 i advise everyone do not be fooled!                0\n",
      "17                                    so far so good!.                1\n",
      "18                                       works great!.                1\n",
      "19   it clicks into place in a way that makes you w...                0\n",
      "20   i went on motorola's website and followed all ...                0\n",
      "21   i bought this to use with my kindle fire and a...                1\n",
      "22            the commercials are the most misleading.                0\n",
      "23   i have yet to run this new battery below two b...                1\n",
      "24   i bought it for my mother and she had a proble...                0\n",
      "25                great pocket pc / phone combination.                1\n",
      "26   i've owned this phone for 7 months now and can...                1\n",
      "27   i didn't think that the instructions provided ...                0\n",
      "28   people couldnt hear me talk and i had to pull ...                0\n",
      "29                                doesn't hold charge.                0\n",
      "..                                                 ...              ...\n",
      "970  i plugged it in only to find out not a darn th...                0\n",
      "971                                 excellent product.                1\n",
      "972                        earbud piece breaks easily.                0\n",
      "973                                     lousy product.                0\n",
      "974  this phone tries very hard to do everything bu...                0\n",
      "975  it is the best charger i have seen on the mark...                1\n",
      "976                                  sweetest phone!!!                1\n",
      "977             :-)oh, the charger seems to work fine.                1\n",
      "978  it fits so securely that the ear hook does not...                1\n",
      "979                                 not enough volume.                0\n",
      "980                echo problem....very unsatisfactory                0\n",
      "981  you could only take 2 videos at a time and the...                0\n",
      "982                            don't waste your money.                0\n",
      "983  i am going to have to be the first to negative...                0\n",
      "984  adapter does not provide enough charging current.                0\n",
      "985  there was so much hype over this phone that i ...                0\n",
      "986  you also cannot take pictures with it in the c...                0\n",
      "987                            phone falls out easily.                0\n",
      "988  it didn't work, people can not hear me when i ...                0\n",
      "989  the text messaging feature is really tricky to...                0\n",
      "990  i'm really disappointed all i have now is a ch...                0\n",
      "991                                painful on the ear.                0\n",
      "992                   lasted one day and then blew up.                0\n",
      "993                                      disappointed.                0\n",
      "994                              kind of flops around.                0\n",
      "995  the screen does get smudged easily because it ...                0\n",
      "996  what a piece of junk.. i lose more calls on th...                0\n",
      "997                       item does not match picture.                0\n",
      "998  the only thing that disappoint me is the infra...                0\n",
      "999  you can not answer calls with the unit, never ...                0\n",
      "\n",
      "[1000 rows x 2 columns]\n"
     ]
    }
   ],
   "source": [
    "sms_raw['review'].astype(str);\n",
    "sms_raw['review'] = sms_raw['review'].str.lower()\n",
    "print(sms_raw)"
   ]
  },
  {
   "cell_type": "code",
   "execution_count": 10,
   "metadata": {},
   "outputs": [],
   "source": [
    "keywords = ['good', 'great', 'impressed', 'excellent', 'positive', 'best']\n",
    "\n",
    "for key in keywords:\n",
    "    sms_raw[str(key)] = sms_raw.review.str.contains(\n",
    "        ' ' + str(key) + ' ',\n",
    "        case=False\n",
    "    )"
   ]
  },
  {
   "cell_type": "code",
   "execution_count": 14,
   "metadata": {},
   "outputs": [],
   "source": [
    "sms_raw['positive_review'] = sms_raw['positive_review'].astype(str)\n",
    "sms_raw['positive_review'] = (sms_raw['positive_review'] == 'positive_review')"
   ]
  },
  {
   "cell_type": "code",
   "execution_count": 16,
   "metadata": {},
   "outputs": [],
   "source": [
    "data = sms_raw[keywords]\n",
    "target = sms_raw['positive_review']"
   ]
  },
  {
   "cell_type": "code",
   "execution_count": 7,
   "metadata": {},
   "outputs": [],
   "source": [
    "from sklearn.naive_bayes import BernoulliNB\n",
    "bnb = BernoulliNB()"
   ]
  },
  {
   "cell_type": "code",
   "execution_count": 8,
   "metadata": {},
   "outputs": [
    {
     "name": "stdout",
     "output_type": "stream",
     "text": [
      "Number of good reviews 0 : 1000\n"
     ]
    },
    {
     "name": "stderr",
     "output_type": "stream",
     "text": [
      "C:\\Users\\starr\\Anaconda3\\lib\\site-packages\\sklearn\\naive_bayes.py:461: RuntimeWarning: divide by zero encountered in log\n",
      "  self.class_log_prior_ = (np.log(self.class_count_) -\n"
     ]
    }
   ],
   "source": [
    "#fit the model to the daya\n",
    "bnb.fit(data,target)\n",
    "\n",
    "#classify, store results in new variable\n",
    "y_pred = bnb.predict(data)\n",
    "\n",
    "#display results\n",
    "print(\"Number of good reviews {} : {}\".format(\n",
    "    (target != y_pred).sum(),\n",
    "    data.shape[0]\n",
    "))"
   ]
  },
  {
   "cell_type": "code",
   "execution_count": 9,
   "metadata": {},
   "outputs": [
    {
     "name": "stdout",
     "output_type": "stream",
     "text": [
      "                                                review  positive_review  \\\n",
      "0    so there is no way for me to plug it in here i...            False   \n",
      "1                          good case, excellent value.            False   \n",
      "2                               great for the jawbone.            False   \n",
      "3    tied to charger for conversations lasting more...            False   \n",
      "4                                    the mic is great.            False   \n",
      "5    i have to jiggle the plug to get it to line up...            False   \n",
      "6    if you have several dozen or several hundred c...            False   \n",
      "7          if you are razr owner...you must have this!            False   \n",
      "8                  needless to say, i wasted my money.            False   \n",
      "9                     what a waste of money and time!.            False   \n",
      "10                     and the sound quality is great.            False   \n",
      "11   he was very impressed when going from the orig...            False   \n",
      "12   if the two were seperated by a mere 5+ ft i st...            False   \n",
      "13                            very good quality though            False   \n",
      "14   the design is very odd, as the ear \"clip\" is n...            False   \n",
      "15   highly recommend for any one who has a blue to...            False   \n",
      "16                 i advise everyone do not be fooled!            False   \n",
      "17                                    so far so good!.            False   \n",
      "18                                       works great!.            False   \n",
      "19   it clicks into place in a way that makes you w...            False   \n",
      "20   i went on motorola's website and followed all ...            False   \n",
      "21   i bought this to use with my kindle fire and a...            False   \n",
      "22            the commercials are the most misleading.            False   \n",
      "23   i have yet to run this new battery below two b...            False   \n",
      "24   i bought it for my mother and she had a proble...            False   \n",
      "25                great pocket pc / phone combination.            False   \n",
      "26   i've owned this phone for 7 months now and can...            False   \n",
      "27   i didn't think that the instructions provided ...            False   \n",
      "28   people couldnt hear me talk and i had to pull ...            False   \n",
      "29                                doesn't hold charge.            False   \n",
      "..                                                 ...              ...   \n",
      "970  i plugged it in only to find out not a darn th...            False   \n",
      "971                                 excellent product.            False   \n",
      "972                        earbud piece breaks easily.            False   \n",
      "973                                     lousy product.            False   \n",
      "974  this phone tries very hard to do everything bu...            False   \n",
      "975  it is the best charger i have seen on the mark...            False   \n",
      "976                                  sweetest phone!!!            False   \n",
      "977             :-)oh, the charger seems to work fine.            False   \n",
      "978  it fits so securely that the ear hook does not...            False   \n",
      "979                                 not enough volume.            False   \n",
      "980                echo problem....very unsatisfactory            False   \n",
      "981  you could only take 2 videos at a time and the...            False   \n",
      "982                            don't waste your money.            False   \n",
      "983  i am going to have to be the first to negative...            False   \n",
      "984  adapter does not provide enough charging current.            False   \n",
      "985  there was so much hype over this phone that i ...            False   \n",
      "986  you also cannot take pictures with it in the c...            False   \n",
      "987                            phone falls out easily.            False   \n",
      "988  it didn't work, people can not hear me when i ...            False   \n",
      "989  the text messaging feature is really tricky to...            False   \n",
      "990  i'm really disappointed all i have now is a ch...            False   \n",
      "991                                painful on the ear.            False   \n",
      "992                   lasted one day and then blew up.            False   \n",
      "993                                      disappointed.            False   \n",
      "994                              kind of flops around.            False   \n",
      "995  the screen does get smudged easily because it ...            False   \n",
      "996  what a piece of junk.. i lose more calls on th...            False   \n",
      "997                       item does not match picture.            False   \n",
      "998  the only thing that disappoint me is the infra...            False   \n",
      "999  you can not answer calls with the unit, never ...            False   \n",
      "\n",
      "      good  great  impressed  excellent  positive   best  \n",
      "0    False  False      False      False     False  False  \n",
      "1    False  False      False       True     False  False  \n",
      "2    False  False      False      False     False  False  \n",
      "3    False  False      False      False     False  False  \n",
      "4    False  False      False      False     False  False  \n",
      "5    False  False      False      False     False  False  \n",
      "6    False  False      False      False     False  False  \n",
      "7    False  False      False      False     False  False  \n",
      "8    False  False      False      False     False  False  \n",
      "9    False  False      False      False     False  False  \n",
      "10   False  False      False      False     False  False  \n",
      "11   False  False       True      False     False  False  \n",
      "12   False  False      False      False     False  False  \n",
      "13    True  False      False      False     False  False  \n",
      "14   False  False      False      False     False  False  \n",
      "15   False  False      False      False     False  False  \n",
      "16   False  False      False      False     False  False  \n",
      "17   False  False      False      False     False  False  \n",
      "18   False  False      False      False     False  False  \n",
      "19   False  False      False      False     False  False  \n",
      "20   False  False      False      False     False  False  \n",
      "21   False  False      False      False     False  False  \n",
      "22   False  False      False      False     False  False  \n",
      "23   False  False      False      False     False  False  \n",
      "24   False  False      False      False     False  False  \n",
      "25   False  False      False      False     False  False  \n",
      "26   False  False      False      False     False   True  \n",
      "27   False  False      False      False     False  False  \n",
      "28   False  False      False      False     False  False  \n",
      "29   False  False      False      False     False  False  \n",
      "..     ...    ...        ...        ...       ...    ...  \n",
      "970  False  False      False      False     False  False  \n",
      "971  False  False      False      False     False  False  \n",
      "972  False  False      False      False     False  False  \n",
      "973  False  False      False      False     False  False  \n",
      "974  False  False      False      False     False  False  \n",
      "975  False  False      False      False     False   True  \n",
      "976  False  False      False      False     False  False  \n",
      "977  False  False      False      False     False  False  \n",
      "978  False  False      False      False     False  False  \n",
      "979  False  False      False      False     False  False  \n",
      "980  False  False      False      False     False  False  \n",
      "981  False  False      False      False     False  False  \n",
      "982  False  False      False      False     False  False  \n",
      "983  False  False      False      False     False  False  \n",
      "984  False  False      False      False     False  False  \n",
      "985  False  False      False      False     False  False  \n",
      "986  False  False      False      False     False  False  \n",
      "987  False  False      False      False     False  False  \n",
      "988  False  False      False      False     False  False  \n",
      "989  False  False      False      False     False  False  \n",
      "990  False  False      False      False     False  False  \n",
      "991  False  False      False      False     False  False  \n",
      "992  False  False      False      False     False  False  \n",
      "993  False  False      False      False     False  False  \n",
      "994  False  False      False      False     False  False  \n",
      "995  False  False      False      False     False  False  \n",
      "996  False  False      False      False     False  False  \n",
      "997  False  False      False      False     False  False  \n",
      "998  False  False      False      False     False  False  \n",
      "999  False  False      False      False     False  False  \n",
      "\n",
      "[1000 rows x 8 columns]\n"
     ]
    }
   ],
   "source": [
    "print(sms_raw)"
   ]
  }
 ],
 "metadata": {
  "kernelspec": {
   "display_name": "Python 3",
   "language": "python",
   "name": "python3"
  },
  "language_info": {
   "codemirror_mode": {
    "name": "ipython",
    "version": 3
   },
   "file_extension": ".py",
   "mimetype": "text/x-python",
   "name": "python",
   "nbconvert_exporter": "python",
   "pygments_lexer": "ipython3",
   "version": "3.6.2"
  }
 },
 "nbformat": 4,
 "nbformat_minor": 2
}
