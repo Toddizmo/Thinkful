{
 "cells": [
  {
   "cell_type": "code",
   "execution_count": 1,
   "metadata": {},
   "outputs": [],
   "source": [
    "import numpy as np\n",
    "import pandas as pd"
   ]
  },
  {
   "cell_type": "code",
   "execution_count": 2,
   "metadata": {},
   "outputs": [],
   "source": [
    "vg_reviews = pd.read_json('vg_reviews.json', lines=True)"
   ]
  },
  {
   "cell_type": "code",
   "execution_count": 3,
   "metadata": {},
   "outputs": [
    {
     "data": {
      "text/html": [
       "<div>\n",
       "<style scoped>\n",
       "    .dataframe tbody tr th:only-of-type {\n",
       "        vertical-align: middle;\n",
       "    }\n",
       "\n",
       "    .dataframe tbody tr th {\n",
       "        vertical-align: top;\n",
       "    }\n",
       "\n",
       "    .dataframe thead th {\n",
       "        text-align: right;\n",
       "    }\n",
       "</style>\n",
       "<table border=\"1\" class=\"dataframe\">\n",
       "  <thead>\n",
       "    <tr style=\"text-align: right;\">\n",
       "      <th></th>\n",
       "      <th>asin</th>\n",
       "      <th>helpful</th>\n",
       "      <th>overall</th>\n",
       "      <th>reviewText</th>\n",
       "      <th>reviewTime</th>\n",
       "      <th>reviewerID</th>\n",
       "      <th>reviewerName</th>\n",
       "      <th>summary</th>\n",
       "      <th>unixReviewTime</th>\n",
       "    </tr>\n",
       "  </thead>\n",
       "  <tbody>\n",
       "    <tr>\n",
       "      <th>0</th>\n",
       "      <td>0700099867</td>\n",
       "      <td>[8, 12]</td>\n",
       "      <td>1</td>\n",
       "      <td>Installing the game was a struggle (because of...</td>\n",
       "      <td>07 9, 2012</td>\n",
       "      <td>A2HD75EMZR8QLN</td>\n",
       "      <td>123</td>\n",
       "      <td>Pay to unlock content? I don't think so.</td>\n",
       "      <td>1341792000</td>\n",
       "    </tr>\n",
       "    <tr>\n",
       "      <th>1</th>\n",
       "      <td>0700099867</td>\n",
       "      <td>[0, 0]</td>\n",
       "      <td>4</td>\n",
       "      <td>If you like rally cars get this game you will ...</td>\n",
       "      <td>06 30, 2013</td>\n",
       "      <td>A3UR8NLLY1ZHCX</td>\n",
       "      <td>Alejandro Henao \"Electronic Junky\"</td>\n",
       "      <td>Good rally game</td>\n",
       "      <td>1372550400</td>\n",
       "    </tr>\n",
       "    <tr>\n",
       "      <th>2</th>\n",
       "      <td>0700099867</td>\n",
       "      <td>[0, 0]</td>\n",
       "      <td>1</td>\n",
       "      <td>1st shipment received a book instead of the ga...</td>\n",
       "      <td>06 28, 2014</td>\n",
       "      <td>A1INA0F5CWW3J4</td>\n",
       "      <td>Amazon Shopper \"Mr.Repsol\"</td>\n",
       "      <td>Wrong key</td>\n",
       "      <td>1403913600</td>\n",
       "    </tr>\n",
       "    <tr>\n",
       "      <th>3</th>\n",
       "      <td>0700099867</td>\n",
       "      <td>[7, 10]</td>\n",
       "      <td>3</td>\n",
       "      <td>I got this version instead of the PS3 version,...</td>\n",
       "      <td>09 14, 2011</td>\n",
       "      <td>A1DLMTOTHQ4AST</td>\n",
       "      <td>ampgreen</td>\n",
       "      <td>awesome game, if it did not crash frequently !!</td>\n",
       "      <td>1315958400</td>\n",
       "    </tr>\n",
       "    <tr>\n",
       "      <th>4</th>\n",
       "      <td>0700099867</td>\n",
       "      <td>[2, 2]</td>\n",
       "      <td>4</td>\n",
       "      <td>I had Dirt 2 on Xbox 360 and it was an okay ga...</td>\n",
       "      <td>06 14, 2011</td>\n",
       "      <td>A361M14PU2GUEG</td>\n",
       "      <td>Angry Ryan \"Ryan A. Forrest\"</td>\n",
       "      <td>DIRT 3</td>\n",
       "      <td>1308009600</td>\n",
       "    </tr>\n",
       "  </tbody>\n",
       "</table>\n",
       "</div>"
      ],
      "text/plain": [
       "         asin  helpful  overall  \\\n",
       "0  0700099867  [8, 12]        1   \n",
       "1  0700099867   [0, 0]        4   \n",
       "2  0700099867   [0, 0]        1   \n",
       "3  0700099867  [7, 10]        3   \n",
       "4  0700099867   [2, 2]        4   \n",
       "\n",
       "                                          reviewText   reviewTime  \\\n",
       "0  Installing the game was a struggle (because of...   07 9, 2012   \n",
       "1  If you like rally cars get this game you will ...  06 30, 2013   \n",
       "2  1st shipment received a book instead of the ga...  06 28, 2014   \n",
       "3  I got this version instead of the PS3 version,...  09 14, 2011   \n",
       "4  I had Dirt 2 on Xbox 360 and it was an okay ga...  06 14, 2011   \n",
       "\n",
       "       reviewerID                        reviewerName  \\\n",
       "0  A2HD75EMZR8QLN                                 123   \n",
       "1  A3UR8NLLY1ZHCX  Alejandro Henao \"Electronic Junky\"   \n",
       "2  A1INA0F5CWW3J4          Amazon Shopper \"Mr.Repsol\"   \n",
       "3  A1DLMTOTHQ4AST                            ampgreen   \n",
       "4  A361M14PU2GUEG        Angry Ryan \"Ryan A. Forrest\"   \n",
       "\n",
       "                                           summary  unixReviewTime  \n",
       "0         Pay to unlock content? I don't think so.      1341792000  \n",
       "1                                  Good rally game      1372550400  \n",
       "2                                        Wrong key      1403913600  \n",
       "3  awesome game, if it did not crash frequently !!      1315958400  \n",
       "4                                           DIRT 3      1308009600  "
      ]
     },
     "execution_count": 3,
     "metadata": {},
     "output_type": "execute_result"
    }
   ],
   "source": [
    "vg_reviews.head()"
   ]
  },
  {
   "cell_type": "code",
   "execution_count": 19,
   "metadata": {},
   "outputs": [
    {
     "data": {
      "text/html": [
       "<div>\n",
       "<style scoped>\n",
       "    .dataframe tbody tr th:only-of-type {\n",
       "        vertical-align: middle;\n",
       "    }\n",
       "\n",
       "    .dataframe tbody tr th {\n",
       "        vertical-align: top;\n",
       "    }\n",
       "\n",
       "    .dataframe thead th {\n",
       "        text-align: right;\n",
       "    }\n",
       "</style>\n",
       "<table border=\"1\" class=\"dataframe\">\n",
       "  <thead>\n",
       "    <tr style=\"text-align: right;\">\n",
       "      <th></th>\n",
       "      <th>helpful</th>\n",
       "      <th>score</th>\n",
       "      <th>unix_time</th>\n",
       "      <th>not_helpful</th>\n",
       "      <th>positive_review</th>\n",
       "    </tr>\n",
       "  </thead>\n",
       "  <tbody>\n",
       "    <tr>\n",
       "      <th>count</th>\n",
       "      <td>5000.000000</td>\n",
       "      <td>5000.00000</td>\n",
       "      <td>5.000000e+03</td>\n",
       "      <td>5000.000000</td>\n",
       "      <td>5000.000000</td>\n",
       "    </tr>\n",
       "    <tr>\n",
       "      <th>mean</th>\n",
       "      <td>3.676200</td>\n",
       "      <td>4.06780</td>\n",
       "      <td>1.274692e+09</td>\n",
       "      <td>5.946400</td>\n",
       "      <td>0.748000</td>\n",
       "    </tr>\n",
       "    <tr>\n",
       "      <th>std</th>\n",
       "      <td>17.661227</td>\n",
       "      <td>1.20975</td>\n",
       "      <td>1.160813e+08</td>\n",
       "      <td>23.533778</td>\n",
       "      <td>0.434205</td>\n",
       "    </tr>\n",
       "    <tr>\n",
       "      <th>min</th>\n",
       "      <td>0.000000</td>\n",
       "      <td>1.00000</td>\n",
       "      <td>9.444384e+08</td>\n",
       "      <td>0.000000</td>\n",
       "      <td>0.000000</td>\n",
       "    </tr>\n",
       "    <tr>\n",
       "      <th>25%</th>\n",
       "      <td>0.000000</td>\n",
       "      <td>3.00000</td>\n",
       "      <td>1.208153e+09</td>\n",
       "      <td>0.000000</td>\n",
       "      <td>0.000000</td>\n",
       "    </tr>\n",
       "    <tr>\n",
       "      <th>50%</th>\n",
       "      <td>1.000000</td>\n",
       "      <td>5.00000</td>\n",
       "      <td>1.314706e+09</td>\n",
       "      <td>1.000000</td>\n",
       "      <td>1.000000</td>\n",
       "    </tr>\n",
       "    <tr>\n",
       "      <th>75%</th>\n",
       "      <td>2.000000</td>\n",
       "      <td>5.00000</td>\n",
       "      <td>1.367971e+09</td>\n",
       "      <td>4.000000</td>\n",
       "      <td>1.000000</td>\n",
       "    </tr>\n",
       "    <tr>\n",
       "      <th>max</th>\n",
       "      <td>640.000000</td>\n",
       "      <td>5.00000</td>\n",
       "      <td>1.405987e+09</td>\n",
       "      <td>674.000000</td>\n",
       "      <td>1.000000</td>\n",
       "    </tr>\n",
       "  </tbody>\n",
       "</table>\n",
       "</div>"
      ],
      "text/plain": [
       "           helpful       score     unix_time  not_helpful  positive_review\n",
       "count  5000.000000  5000.00000  5.000000e+03  5000.000000      5000.000000\n",
       "mean      3.676200     4.06780  1.274692e+09     5.946400         0.748000\n",
       "std      17.661227     1.20975  1.160813e+08    23.533778         0.434205\n",
       "min       0.000000     1.00000  9.444384e+08     0.000000         0.000000\n",
       "25%       0.000000     3.00000  1.208153e+09     0.000000         0.000000\n",
       "50%       1.000000     5.00000  1.314706e+09     1.000000         1.000000\n",
       "75%       2.000000     5.00000  1.367971e+09     4.000000         1.000000\n",
       "max     640.000000     5.00000  1.405987e+09   674.000000         1.000000"
      ]
     },
     "execution_count": 19,
     "metadata": {},
     "output_type": "execute_result"
    }
   ],
   "source": [
    "vg_reviews.describe()"
   ]
  },
  {
   "cell_type": "code",
   "execution_count": 4,
   "metadata": {},
   "outputs": [],
   "source": [
    "# remove reviewer ID/name & asin (product ID), since data is arbitrary.\n",
    "vg_reviews = vg_reviews.drop(columns = ['asin', 'reviewerID', 'reviewerName'])"
   ]
  },
  {
   "cell_type": "code",
   "execution_count": 5,
   "metadata": {},
   "outputs": [],
   "source": [
    "# Simplify column names\n",
    "vg_reviews = vg_reviews.rename(index=str, columns={'overall': 'score', 'reviewText': 'review', \n",
    "                                                   'reviewTime': 'time', 'unixReviewTime': 'unix_time'})"
   ]
  },
  {
   "cell_type": "code",
   "execution_count": 6,
   "metadata": {},
   "outputs": [
    {
     "data": {
      "text/plain": [
       "asin         0\n",
       "helpful      0\n",
       "score        0\n",
       "review       0\n",
       "time         0\n",
       "summary      0\n",
       "unix_time    0\n",
       "dtype: int64"
      ]
     },
     "execution_count": 6,
     "metadata": {},
     "output_type": "execute_result"
    }
   ],
   "source": [
    "# Check for missing data\n",
    "vg_reviews.isnull().sum()"
   ]
  },
  {
   "cell_type": "code",
   "execution_count": 7,
   "metadata": {},
   "outputs": [
    {
     "data": {
      "text/plain": [
       "231780"
      ]
     },
     "execution_count": 7,
     "metadata": {},
     "output_type": "execute_result"
    }
   ],
   "source": [
    "# let's see how many rows we have\n",
    "vg_reviews['helpful'].count()"
   ]
  },
  {
   "cell_type": "code",
   "execution_count": 8,
   "metadata": {},
   "outputs": [],
   "source": [
    "# Unfortunately, that amount of data cannot be handled by my laptop\n",
    "# And I'll be rerunning the kernel many times, as well\n",
    "# We'll have to take a tiny sample of the 230,000+ reviews\n",
    "vg_reviews = vg_reviews.sample(n=5000)"
   ]
  },
  {
   "cell_type": "code",
   "execution_count": 9,
   "metadata": {
    "scrolled": true
   },
   "outputs": [
    {
     "data": {
      "text/html": [
       "<div>\n",
       "<style scoped>\n",
       "    .dataframe tbody tr th:only-of-type {\n",
       "        vertical-align: middle;\n",
       "    }\n",
       "\n",
       "    .dataframe tbody tr th {\n",
       "        vertical-align: top;\n",
       "    }\n",
       "\n",
       "    .dataframe thead th {\n",
       "        text-align: right;\n",
       "    }\n",
       "</style>\n",
       "<table border=\"1\" class=\"dataframe\">\n",
       "  <thead>\n",
       "    <tr style=\"text-align: right;\">\n",
       "      <th></th>\n",
       "      <th>asin</th>\n",
       "      <th>helpful</th>\n",
       "      <th>score</th>\n",
       "      <th>review</th>\n",
       "      <th>time</th>\n",
       "      <th>summary</th>\n",
       "      <th>unix_time</th>\n",
       "    </tr>\n",
       "  </thead>\n",
       "  <tbody>\n",
       "    <tr>\n",
       "      <th>17967</th>\n",
       "      <td>B00005C4HM</td>\n",
       "      <td>[0, 0]</td>\n",
       "      <td>5</td>\n",
       "      <td>THis is a much beter buy the just then they pl...</td>\n",
       "      <td>04 1, 2009</td>\n",
       "      <td>FUN FUN</td>\n",
       "      <td>1238544000</td>\n",
       "    </tr>\n",
       "    <tr>\n",
       "      <th>98482</th>\n",
       "      <td>B000ZKBJXC</td>\n",
       "      <td>[3, 4]</td>\n",
       "      <td>4</td>\n",
       "      <td>This is a game I just knew was going to suck. ...</td>\n",
       "      <td>06 25, 2009</td>\n",
       "      <td>This is how a game based on a movie should be ...</td>\n",
       "      <td>1245888000</td>\n",
       "    </tr>\n",
       "    <tr>\n",
       "      <th>136178</th>\n",
       "      <td>B002I0GEXM</td>\n",
       "      <td>[5, 7]</td>\n",
       "      <td>3</td>\n",
       "      <td>When I first read the setup for Epic Mickey, I...</td>\n",
       "      <td>12 10, 2010</td>\n",
       "      <td>Mediocrity snatched from the jaws of greatness</td>\n",
       "      <td>1291939200</td>\n",
       "    </tr>\n",
       "    <tr>\n",
       "      <th>41220</th>\n",
       "      <td>B0000A09EI</td>\n",
       "      <td>[0, 0]</td>\n",
       "      <td>5</td>\n",
       "      <td>I had this game years ago and just this week I...</td>\n",
       "      <td>06 21, 2012</td>\n",
       "      <td>A worthwhile Yu-gi-oh! game</td>\n",
       "      <td>1340236800</td>\n",
       "    </tr>\n",
       "    <tr>\n",
       "      <th>116935</th>\n",
       "      <td>B001IVXI7C</td>\n",
       "      <td>[1, 1]</td>\n",
       "      <td>5</td>\n",
       "      <td>I have a lot of fun playing this game, and I d...</td>\n",
       "      <td>08 29, 2011</td>\n",
       "      <td>Endless possibilities</td>\n",
       "      <td>1314576000</td>\n",
       "    </tr>\n",
       "  </tbody>\n",
       "</table>\n",
       "</div>"
      ],
      "text/plain": [
       "              asin helpful  score  \\\n",
       "17967   B00005C4HM  [0, 0]      5   \n",
       "98482   B000ZKBJXC  [3, 4]      4   \n",
       "136178  B002I0GEXM  [5, 7]      3   \n",
       "41220   B0000A09EI  [0, 0]      5   \n",
       "116935  B001IVXI7C  [1, 1]      5   \n",
       "\n",
       "                                                   review         time  \\\n",
       "17967   THis is a much beter buy the just then they pl...   04 1, 2009   \n",
       "98482   This is a game I just knew was going to suck. ...  06 25, 2009   \n",
       "136178  When I first read the setup for Epic Mickey, I...  12 10, 2010   \n",
       "41220   I had this game years ago and just this week I...  06 21, 2012   \n",
       "116935  I have a lot of fun playing this game, and I d...  08 29, 2011   \n",
       "\n",
       "                                                  summary   unix_time  \n",
       "17967                                             FUN FUN  1238544000  \n",
       "98482   This is how a game based on a movie should be ...  1245888000  \n",
       "136178     Mediocrity snatched from the jaws of greatness  1291939200  \n",
       "41220                         A worthwhile Yu-gi-oh! game  1340236800  \n",
       "116935                              Endless possibilities  1314576000  "
      ]
     },
     "execution_count": 9,
     "metadata": {},
     "output_type": "execute_result"
    }
   ],
   "source": [
    "vg_reviews.head()"
   ]
  },
  {
   "cell_type": "code",
   "execution_count": 10,
   "metadata": {},
   "outputs": [
    {
     "data": {
      "text/plain": [
       "asin         object\n",
       "helpful      object\n",
       "score         int64\n",
       "review       object\n",
       "time         object\n",
       "summary      object\n",
       "unix_time     int64\n",
       "dtype: object"
      ]
     },
     "execution_count": 10,
     "metadata": {},
     "output_type": "execute_result"
    }
   ],
   "source": [
    "# let's turn the \"helpful\" column into two seperate integer columns\n",
    "# what dtype is \"helpful\"?\n",
    "vg_reviews.dtypes"
   ]
  },
  {
   "cell_type": "code",
   "execution_count": 11,
   "metadata": {},
   "outputs": [],
   "source": [
    "# change to string\n",
    "vg_reviews['helpful'] = vg_reviews['helpful'].astype(str)\n",
    "\n",
    "# remove brackets\n",
    "vg_reviews['helpful'] = vg_reviews['helpful'].str.strip('[]')\n",
    "\n",
    "# split into two columns \n",
    "vg_reviews['helpful'], vg_reviews['not_helpful'] = vg_reviews['helpful'].str.split(', ', 1).str\n",
    "\n",
    "# convert into floats\n",
    "vg_reviews['helpful'] = vg_reviews['helpful'].astype(int)\n",
    "vg_reviews['not_helpful'] = vg_reviews['not_helpful'].astype(int)"
   ]
  },
  {
   "cell_type": "code",
   "execution_count": 12,
   "metadata": {},
   "outputs": [
    {
     "data": {
      "text/html": [
       "<div>\n",
       "<style scoped>\n",
       "    .dataframe tbody tr th:only-of-type {\n",
       "        vertical-align: middle;\n",
       "    }\n",
       "\n",
       "    .dataframe tbody tr th {\n",
       "        vertical-align: top;\n",
       "    }\n",
       "\n",
       "    .dataframe thead th {\n",
       "        text-align: right;\n",
       "    }\n",
       "</style>\n",
       "<table border=\"1\" class=\"dataframe\">\n",
       "  <thead>\n",
       "    <tr style=\"text-align: right;\">\n",
       "      <th></th>\n",
       "      <th>asin</th>\n",
       "      <th>helpful</th>\n",
       "      <th>score</th>\n",
       "      <th>review</th>\n",
       "      <th>time</th>\n",
       "      <th>summary</th>\n",
       "      <th>unix_time</th>\n",
       "      <th>not_helpful</th>\n",
       "    </tr>\n",
       "  </thead>\n",
       "  <tbody>\n",
       "    <tr>\n",
       "      <th>17967</th>\n",
       "      <td>B00005C4HM</td>\n",
       "      <td>0</td>\n",
       "      <td>5</td>\n",
       "      <td>THis is a much beter buy the just then they pl...</td>\n",
       "      <td>04 1, 2009</td>\n",
       "      <td>FUN FUN</td>\n",
       "      <td>1238544000</td>\n",
       "      <td>0</td>\n",
       "    </tr>\n",
       "    <tr>\n",
       "      <th>98482</th>\n",
       "      <td>B000ZKBJXC</td>\n",
       "      <td>3</td>\n",
       "      <td>4</td>\n",
       "      <td>This is a game I just knew was going to suck. ...</td>\n",
       "      <td>06 25, 2009</td>\n",
       "      <td>This is how a game based on a movie should be ...</td>\n",
       "      <td>1245888000</td>\n",
       "      <td>4</td>\n",
       "    </tr>\n",
       "    <tr>\n",
       "      <th>136178</th>\n",
       "      <td>B002I0GEXM</td>\n",
       "      <td>5</td>\n",
       "      <td>3</td>\n",
       "      <td>When I first read the setup for Epic Mickey, I...</td>\n",
       "      <td>12 10, 2010</td>\n",
       "      <td>Mediocrity snatched from the jaws of greatness</td>\n",
       "      <td>1291939200</td>\n",
       "      <td>7</td>\n",
       "    </tr>\n",
       "    <tr>\n",
       "      <th>41220</th>\n",
       "      <td>B0000A09EI</td>\n",
       "      <td>0</td>\n",
       "      <td>5</td>\n",
       "      <td>I had this game years ago and just this week I...</td>\n",
       "      <td>06 21, 2012</td>\n",
       "      <td>A worthwhile Yu-gi-oh! game</td>\n",
       "      <td>1340236800</td>\n",
       "      <td>0</td>\n",
       "    </tr>\n",
       "    <tr>\n",
       "      <th>116935</th>\n",
       "      <td>B001IVXI7C</td>\n",
       "      <td>1</td>\n",
       "      <td>5</td>\n",
       "      <td>I have a lot of fun playing this game, and I d...</td>\n",
       "      <td>08 29, 2011</td>\n",
       "      <td>Endless possibilities</td>\n",
       "      <td>1314576000</td>\n",
       "      <td>1</td>\n",
       "    </tr>\n",
       "  </tbody>\n",
       "</table>\n",
       "</div>"
      ],
      "text/plain": [
       "              asin  helpful  score  \\\n",
       "17967   B00005C4HM        0      5   \n",
       "98482   B000ZKBJXC        3      4   \n",
       "136178  B002I0GEXM        5      3   \n",
       "41220   B0000A09EI        0      5   \n",
       "116935  B001IVXI7C        1      5   \n",
       "\n",
       "                                                   review         time  \\\n",
       "17967   THis is a much beter buy the just then they pl...   04 1, 2009   \n",
       "98482   This is a game I just knew was going to suck. ...  06 25, 2009   \n",
       "136178  When I first read the setup for Epic Mickey, I...  12 10, 2010   \n",
       "41220   I had this game years ago and just this week I...  06 21, 2012   \n",
       "116935  I have a lot of fun playing this game, and I d...  08 29, 2011   \n",
       "\n",
       "                                                  summary   unix_time  \\\n",
       "17967                                             FUN FUN  1238544000   \n",
       "98482   This is how a game based on a movie should be ...  1245888000   \n",
       "136178     Mediocrity snatched from the jaws of greatness  1291939200   \n",
       "41220                         A worthwhile Yu-gi-oh! game  1340236800   \n",
       "116935                              Endless possibilities  1314576000   \n",
       "\n",
       "        not_helpful  \n",
       "17967             0  \n",
       "98482             4  \n",
       "136178            7  \n",
       "41220             0  \n",
       "116935            1  "
      ]
     },
     "execution_count": 12,
     "metadata": {},
     "output_type": "execute_result"
    }
   ],
   "source": [
    "# I just realized that we're only interested in predicting whether\n",
    "# a review is positive or negative based only on text\n",
    "# But I am going to keep these changes for future reference\n",
    "vg_reviews.head()"
   ]
  },
  {
   "cell_type": "code",
   "execution_count": 13,
   "metadata": {},
   "outputs": [],
   "source": [
    "pos_keywords = ['good', 'great', 'impressed', 'excellent', 'positive',\n",
    "            'best', 'wonderful', 'perfect', 'love', 'like']\n",
    "neg_keywords = ['bad', 'hate', 'stupid', 'poor', 'terrible',\n",
    "             'not good', 'negative', 'worst', 'trash', 'junk',\n",
    "             'dont buy', 'don\\'t buy', 'dislike', 'hate', 'waste']\n",
    "\n",
    "for key in pos_keywords:\n",
    "    vg_reviews[str(key)] = vg_reviews.review.str.contains(\n",
    "        str(key),\n",
    "        case=False\n",
    "    )"
   ]
  },
  {
   "cell_type": "code",
   "execution_count": 14,
   "metadata": {},
   "outputs": [],
   "source": [
    "vg_reviews['positive_review'] = np.where(vg_reviews['score']>3, 1, 0)"
   ]
  },
  {
   "cell_type": "code",
   "execution_count": 15,
   "metadata": {},
   "outputs": [],
   "source": [
    "pos_data = vg_reviews[pos_keywords]\n",
    "target = vg_reviews['positive_review']"
   ]
  },
  {
   "cell_type": "code",
   "execution_count": 21,
   "metadata": {},
   "outputs": [
    {
     "name": "stdout",
     "output_type": "stream",
     "text": [
      "Number of Mislabeled reviews out of a total of 5000 points : 1260\n"
     ]
    }
   ],
   "source": [
    "#import the Bernoulli classifier since data is binary/boolean\n",
    "from sklearn.naive_bayes import BernoulliNB\n",
    "\n",
    "# Instantiate our model and store it in a new variable.\n",
    "bnb = BernoulliNB()\n",
    "\n",
    "# Fit our model to the data.\n",
    "bnb.fit(pos_data, target)\n",
    "\n",
    "#Classify storing the result in a new variable.\n",
    "y_pred = bnb.predict(pos_data)\n",
    "\n",
    "print(\"Number of Mislabeled reviews out of a total of {} points : {}\".format(\n",
    "     pos_data.shape[0],\n",
    "     (target != y_pred).sum()\n",
    "))"
   ]
  },
  {
   "cell_type": "code",
   "execution_count": 22,
   "metadata": {
    "scrolled": true
   },
   "outputs": [
    {
     "name": "stdout",
     "output_type": "stream",
     "text": [
      "(4000, 10) (4000,)\n",
      "(1000, 10) (1000,)\n"
     ]
    }
   ],
   "source": [
    "from sklearn import datasets, linear_model\n",
    "from sklearn.model_selection import train_test_split\n",
    "X = pos_data\n",
    "y = target\n",
    "X_train, X_test, y_train, y_test = train_test_split(X, y, test_size=0.2)\n",
    "print(X_train.shape, y_train.shape)\n",
    "print(X_test.shape, y_test.shape)"
   ]
  },
  {
   "cell_type": "code",
   "execution_count": 23,
   "metadata": {},
   "outputs": [
    {
     "name": "stdout",
     "output_type": "stream",
     "text": [
      "Score: 0.754\n",
      "Score: 0.753\n",
      "Score: 0.762\n",
      "Score: 0.762\n",
      "Score: 0.712\n"
     ]
    }
   ],
   "source": [
    "from sklearn.naive_bayes import BernoulliNB\n",
    "from sklearn.model_selection import KFold\n",
    "\n",
    "kf = KFold(n_splits = 5)\n",
    "bnb = BernoulliNB() \n",
    "for train_index, test_index in kf.split(X):\n",
    "    X_train, X_test = X.iloc[train_index], X.iloc[test_index]\n",
    "    y_train, y_test = y.iloc[train_index], y.iloc[test_index]\n",
    "    bnb = bnb.fit(X_train, y_train)\n",
    "    print(\"Score:\", bnb.score(X_test, y_test))"
   ]
  }
 ],
 "metadata": {
  "kernelspec": {
   "display_name": "Python 3",
   "language": "python",
   "name": "python3"
  },
  "language_info": {
   "codemirror_mode": {
    "name": "ipython",
    "version": 3
   },
   "file_extension": ".py",
   "mimetype": "text/x-python",
   "name": "python",
   "nbconvert_exporter": "python",
   "pygments_lexer": "ipython3",
   "version": "3.6.4"
  }
 },
 "nbformat": 4,
 "nbformat_minor": 2
}
