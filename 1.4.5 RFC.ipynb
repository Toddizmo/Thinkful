{
 "cells": [
  {
   "cell_type": "markdown",
   "metadata": {},
   "source": [
    "*For one experiment, write up the essential points of an RFC for an improved version of that experiment.*"
   ]
  },
  {
   "cell_type": "markdown",
   "metadata": {},
   "source": [
    "**The Sith Lords are concerned that their recruiting slogan, \"Give In to Your Anger,\" isn't very effective. Darth Vader develops an alternative slogan, \"Together We Can Rule the Galaxy.\" They compare the slogans on two groups of 50 captured droids each. In one group, Emperor Palpatine delivers the \"Anger\" slogan. In the other, Darth Vader presents the \"Together\" slogan. 20 droids convert to the Dark Side after hearing Palpatine's slogan, while only 5 droids convert after hearing Vader's. The Sith's data scientist concludes that \"Anger\" is a more effective slogan and should continue to be used.**"
   ]
  },
  {
   "cell_type": "markdown",
   "metadata": {},
   "source": [
    "Problem/Questions: How can Dark Side recruitment be improved? \"Give in to your Anger\" doesn't seem to be as effective as it was hoped to be.\n",
    "\n",
    "Potential Solution: Creating and incorporating a new slogan, \"Together we can Rule the Galaxy,\" will increase Dark Side conversion rates.\n",
    "\n",
    "Method of Testing: Darth Vader will create two new convincing videos (videos so there is no variation in performance) that will be used to convert droids to the Dark Side. The only existing difference between these two videos will be the incorporation of the \"Anger\" slogan versus the \"Together\" slogan. Droids will be seperated into different groups of 30 based on model and year of make. Testing will be conducted over a three month period and include at least 2100 droids. Should this number not be reached with three months the study will continue for one additional month or until 2100 has been reached. Which ever slogan results in the highest number of conversion will be permanently incorporated."
   ]
  }
 ],
 "metadata": {
  "kernelspec": {
   "display_name": "Python 3",
   "language": "python",
   "name": "python3"
  },
  "language_info": {
   "codemirror_mode": {
    "name": "ipython",
    "version": 3
   },
   "file_extension": ".py",
   "mimetype": "text/x-python",
   "name": "python",
   "nbconvert_exporter": "python",
   "pygments_lexer": "ipython3",
   "version": "3.6.2"
  }
 },
 "nbformat": 4,
 "nbformat_minor": 2
}
