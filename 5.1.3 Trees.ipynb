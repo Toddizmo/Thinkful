{
 "cells": [
  {
   "cell_type": "markdown",
   "metadata": {},
   "source": [
    "Creates a framework for nodes. Node will take value, which gives us value at that point. Also lets us establish a left and right value, two children of the node. Now we simply populate the children with their own nodes."
   ]
  },
  {
   "cell_type": "code",
   "execution_count": 36,
   "metadata": {},
   "outputs": [],
   "source": [
    "import random\n",
    "import numpy as np"
   ]
  },
  {
   "cell_type": "code",
   "execution_count": 37,
   "metadata": {},
   "outputs": [],
   "source": [
    "# random values 1-1000\n",
    "def rand_val():\n",
    "    return int(round(random.random() * 1000, 0))"
   ]
  },
  {
   "cell_type": "code",
   "execution_count": 38,
   "metadata": {},
   "outputs": [],
   "source": [
    "# from \"Fox\" found on\n",
    "# https://stackoverflow.com/questions/2598437/how-to-implement-a-binary-tree\n",
    "class TreeNode:\n",
    "    def __init__(self, value):\n",
    "        self.left = None;\n",
    "        self.right = None;\n",
    "        self.data = value;\n",
    "\n",
    "class Tree:\n",
    "    def __init__(self):\n",
    "        self.root = None;\n",
    "\n",
    "    def addNode(self, node, value):\n",
    "        if(node==None):\n",
    "            self.root = TreeNode(value);\n",
    "        else:\n",
    "            if(value<node.data):\n",
    "                if(node.left==None):\n",
    "                    node.left = TreeNode(value)\n",
    "                else:\n",
    "                    self.addNode(node.left, value);\n",
    "            else:\n",
    "                if(node.right==None):\n",
    "                    node.right = TreeNode(value)\n",
    "                else:\n",
    "                    self.addNode(node.right, value);\n",
    "\n",
    "    def printInorder(self, node):\n",
    "        if(node!=None):\n",
    "            self.printInorder(node.left)\n",
    "            print(node.data)\n",
    "            self.printInorder(node.right)\n",
    "\n",
    "def main():\n",
    "    testTree = Tree()\n",
    "    testTree.addNode(testTree.root, rand_val())\n",
    "    testTree.addNode(testTree.root, rand_val())\n",
    "    testTree.addNode(testTree.root, rand_val())\n",
    "    testTree.addNode(testTree.root, rand_val())\n",
    "    testTree.addNode(testTree.root, rand_val())\n",
    "    testTree.addNode(testTree.root, rand_val())\n",
    "    testTree.addNode(testTree.root, rand_val())\n",
    "    testTree.addNode(testTree.root, rand_val())\n",
    "    testTree.addNode(testTree.root, rand_val())\n",
    "    testTree.addNode(testTree.root, rand_val())\n",
    "    testTree.addNode(testTree.root, rand_val())\n",
    "    testTree.addNode(testTree.root, rand_val())\n",
    "    testTree.addNode(testTree.root, rand_val())\n",
    "    testTree.addNode(testTree.root, rand_val())\n",
    "    testTree.addNode(testTree.root, rand_val())\n",
    "    \n",
    "    testTree.printInorder(testTree.root)"
   ]
  },
  {
   "cell_type": "code",
   "execution_count": 39,
   "metadata": {},
   "outputs": [
    {
     "name": "stdout",
     "output_type": "stream",
     "text": [
      "11\n",
      "35\n",
      "203\n",
      "262\n",
      "394\n",
      "407\n",
      "452\n",
      "575\n",
      "603\n",
      "617\n",
      "671\n",
      "789\n",
      "800\n",
      "885\n",
      "986\n"
     ]
    }
   ],
   "source": [
    "main()"
   ]
  },
  {
   "cell_type": "code",
   "execution_count": 40,
   "metadata": {},
   "outputs": [
    {
     "name": "stdout",
     "output_type": "stream",
     "text": [
      "Level order traversal of binary tree is -\n",
      "60\n",
      "143\n",
      "145\n",
      "175\n",
      "230\n",
      "335\n",
      "406\n",
      "532\n",
      "581\n",
      "601\n",
      "638\n",
      "667\n",
      "816\n",
      "868\n",
      "933\n"
     ]
    }
   ],
   "source": [
    "# Function to  print level order traversal of tree\n",
    "def printLevelOrder(root):\n",
    "    h = height(root)\n",
    "    for i in range(1, h+1):\n",
    "        printGivenLevel(root, i)\n",
    " \n",
    " \n",
    "# Print nodes at a given level\n",
    "def printGivenLevel(root , level):\n",
    "    if root is None:\n",
    "        return\n",
    "    if level == 1:\n",
    "        print (\"%d\" %(root.data),)\n",
    "    elif level > 1 :\n",
    "        printGivenLevel(root.left , level-1)\n",
    "        printGivenLevel(root.right , level-1)\n",
    " \n",
    " \n",
    "\"\"\" Compute the height of a tree--the number of nodes\n",
    "    along the longest path from the root node down to\n",
    "    the farthest leaf node\n",
    "\"\"\"\n",
    "def height(node):\n",
    "    if node is None:\n",
    "        return 0\n",
    "    else :\n",
    "        # Compute the height of each subtree \n",
    "        lheight = height(node.left)\n",
    "        rheight = height(node.right)\n",
    " \n",
    "        #Use the larger one\n",
    "        if lheight > rheight :\n",
    "            return lheight+1\n",
    "        else:\n",
    "            return rheight+1\n",
    " \n",
    " \n",
    "print (\"Level order traversal of binary tree is -\")\n",
    "printLevelOrder(main())\n",
    " \n",
    "#This code is contributed by Nikhil Kumar Singh(nickzuck_007)"
   ]
  },
  {
   "cell_type": "code",
   "execution_count": 44,
   "metadata": {},
   "outputs": [
    {
     "name": "stdout",
     "output_type": "stream",
     "text": [
      "10\n",
      "26\n",
      "45\n",
      "112\n",
      "172\n",
      "236\n",
      "424\n",
      "469\n",
      "493\n",
      "512\n",
      "605\n",
      "624\n",
      "695\n",
      "855\n",
      "904\n"
     ]
    }
   ],
   "source": [
    "# A node structure\n",
    "class Node:\n",
    "    # A utility function to create a new node\n",
    "    def __init__(self ,key):\n",
    "        self.data = key\n",
    "        self.left = None\n",
    "        self.right = None\n",
    " \n",
    "# Iterative Method to print the height of binary tree\n",
    "def printLevelOrder(root):\n",
    "    # Base Case\n",
    "    if root is None:\n",
    "        return\n",
    "     \n",
    "    # Create an empty queue for level order traversal\n",
    "    queue = []\n",
    " \n",
    "    # Enqueue Root and initialize height\n",
    "    queue.append(root)\n",
    " \n",
    "    while(len(queue) > 0):\n",
    "        # Print front of queue and remove it from queue\n",
    "        print (queue[0].data,)\n",
    "        node = queue.pop(0)\n",
    " \n",
    "        #Enqueue left child\n",
    "        if node.left is not None:\n",
    "            queue.append(node.left)\n",
    " \n",
    "        # Enqueue right child\n",
    "        if node.right is not None:\n",
    "            queue.append(node.right)\n",
    "            \n",
    "printLevelOrder(main())"
   ]
  }
 ],
 "metadata": {
  "kernelspec": {
   "display_name": "Python 3",
   "language": "python",
   "name": "python3"
  },
  "language_info": {
   "codemirror_mode": {
    "name": "ipython",
    "version": 3
   },
   "file_extension": ".py",
   "mimetype": "text/x-python",
   "name": "python",
   "nbconvert_exporter": "python",
   "pygments_lexer": "ipython3",
   "version": "3.6.5"
  }
 },
 "nbformat": 4,
 "nbformat_minor": 2
}
