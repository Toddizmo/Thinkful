{
 "cells": [
  {
   "cell_type": "code",
   "execution_count": null,
   "metadata": {
    "collapsed": true
   },
   "outputs": [],
   "source": [
    "What are the three longest trips on rainy days?\n",
    "    trip1210487 = 23.3 hours\n",
    "    trip1244903 = 22.7 hours\n",
    "    trip1011634 = 22.6 hours\n",
    "\n",
    "SELECT\n",
    "\ttrips.trip_id,\n",
    "\ttrips.duration,\n",
    "\ttrips.zip_code,\n",
    "\tweather.Events\n",
    "FROM\n",
    "\ttrips\n",
    "JOIN\n",
    "\tweather\n",
    "ON\n",
    "\ttrips.zip_code = weather.ZIP\n",
    "where\n",
    "\tEvents LIKE 'Rain'\n",
    "GROUP BY 1\n",
    "ORDER BY duration DESC\n",
    "LIMIT 3"
   ]
  },
  {
   "cell_type": "code",
   "execution_count": null,
   "metadata": {
    "collapsed": true
   },
   "outputs": [],
   "source": [
    "Which station is empty most often?\n",
    "    Assuming that 0 bikes_available is considered empty, \n",
    "    2nd at Folsom is empty the most often (with 20,464 occurences)\n",
    "\n",
    "CREATE TABLE status_abbr AS\n",
    "\tSELECT *\n",
    "\tFROM status\n",
    "\tWHERE bikes_available = 0\n",
    "    \n",
    "select\n",
    "    stations.station_id,\n",
    "    stations.name,\n",
    "    status_abbr.bikes_available,\n",
    "\tCOUNT(name)\n",
    "from\n",
    "    stations\n",
    "join\n",
    "    status_abbr\n",
    "ON\n",
    "    stations.station_id = status_abbr.station_id\n",
    "GROUP BY name\n",
    "\n",
    "\n",
    "Alternate method:\n",
    "\n",
    "SELECT\n",
    "\tstatus.station_id,\n",
    "\tstations.name,\n",
    "\tCOUNT(CASE WHEN bikes_available=0 then 1 END) empty_count\n",
    "FROM \n",
    "\tstatus\n",
    "JOIN \n",
    "\tstations\n",
    "ON \n",
    "\tstations.station_id = status.station_id\n",
    "GROUP BY 1\n",
    "ORDER BY empty_count DESC"
   ]
  },
  {
   "cell_type": "code",
   "execution_count": null,
   "metadata": {
    "collapsed": true
   },
   "outputs": [],
   "source": [
    "Return a list of stations with a count of number of\n",
    "trips starting at that station but ordered by dock count.\n",
    "    \n",
    "select\n",
    "\ttrips.start_station,\n",
    "\tCOUNT(trips.start_station),\n",
    "\tstations.dockcount\n",
    "from\n",
    "\ttrips\n",
    "join\n",
    "\tstations\n",
    "ON\n",
    "\tstations.name = trips.start_station\n",
    "GROUP BY 1\n",
    "ORDER BY dockcount"
   ]
  },
  {
   "cell_type": "code",
   "execution_count": null,
   "metadata": {
    "collapsed": true
   },
   "outputs": [],
   "source": [
    "(Challenge) What's the length of the longest trip for each \n",
    "day it rains anywhere?\n",
    "- answer assumes zip_code to be most accurate location for \"anywhere\"    \n",
    "\n",
    "with rainy as \n",
    "(SELECT \n",
    "date\n",
    "From weather\n",
    "WHERE events = 'Rain'\n",
    "GROUP BY 1\n",
    "),\n",
    "\n",
    "rain_trips as (\n",
    "SELECT\n",
    "trip_id,\n",
    "duration,\n",
    "zip_code,\n",
    "DATE(start_date) trip_date\n",
    "FROM trips\n",
    "JOIN rainy\n",
    "on rainy.date = trip_date\n",
    "GROUP BY zip_code\n",
    "ORDER BY duration DESC\n",
    ")\n",
    "\n",
    "SELECT \n",
    "trip_date,\n",
    "zip_code,\n",
    "max(duration)\n",
    "from rain_trips\n",
    "GROUP BY 1"
   ]
  }
 ],
 "metadata": {
  "kernelspec": {
   "display_name": "Python 3",
   "language": "python",
   "name": "python3"
  },
  "language_info": {
   "codemirror_mode": {
    "name": "ipython",
    "version": 3
   },
   "file_extension": ".py",
   "mimetype": "text/x-python",
   "name": "python",
   "nbconvert_exporter": "python",
   "pygments_lexer": "ipython3",
   "version": "3.6.2"
  }
 },
 "nbformat": 4,
 "nbformat_minor": 2
}
