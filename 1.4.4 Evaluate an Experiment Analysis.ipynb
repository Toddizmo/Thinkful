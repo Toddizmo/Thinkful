{
 "cells": [
  {
   "cell_type": "markdown",
   "metadata": {},
   "source": [
    "*Read the following descriptions of an experiment and its analysis, identify the flaws in each, and describe what you would do to correct them.*"
   ]
  },
  {
   "cell_type": "markdown",
   "metadata": {},
   "source": [
    "**The Sith Lords are concerned that their recruiting slogan, \"Give In to Your Anger,\" isn't very effective. Darth Vader develops an alternative slogan, \"Together We Can Rule the Galaxy.\" They compare the slogans on two groups of 50 captured droids each. In one group, Emperor Palpatine delivers the \"Anger\" slogan. In the other, Darth Vader presents the \"Together\" slogan. 20 droids convert to the Dark Side after hearing Palpatine's slogan, while only 5 droids convert after hearing Vader's. The Sith's data scientist concludes that \"Anger\" is a more effective slogan and should continue to be used.**\n",
    "\n",
    "First off, can droids really be \"turned\" to the dark side? Or are can they simply be repogrammed? Perhaps the most noticeable problem with this study is that the treatment was conducted by two seperate people. Palpatine could be more persuasive than Vader, not the treatment. To reduce bias the same presenter should be used in both cases in as a similar a manner as possible (the only difference being the slogans). In addition to this major change, it should be noted that a larger sample size that is seperated into groups by droid type would result in a more conclusive study."
   ]
  },
  {
   "cell_type": "markdown",
   "metadata": {},
   "source": [
    "**In the past, the Jedi have had difficulty with public relations. They send two envoys, Jar Jar Binks and Mace Windu, to four friendly and four unfriendly planets respectively, with the goal of promoting favorable feelings toward the Jedi. Upon their return, the envoys learn that Jar Jar was much more effective than Windu: Over 75% of the people surveyed said their attitudes had become more favorable after speaking with Jar Jar, while only 65% said their attitudes had become more favorable after speaking with Windu. This makes Windu angry, because he is sure that he had a better success rate than Jar Jar on every planet. The Jedi choose Jar Jar to be their representative in the future.**\n",
    "\n",
    "Jar Jar is quite annoying, so I don't know what people are thinking. We have no information behind the sample size of the people interviewed (this should be as large as possible and as random as possible). Additionally, we could be seeing a type of Simpson's paradox. Mace Windu could have had higher input in areas that were less successful, while Jar Jar had higher input in areas that were more successful. It would be much better to note their success in each seperate planet and compare/contrast. Perhaps the worst perpetrator is that Jar Jar seems to have been sent to friendly planets while Windu was sent to unfriendly planets. They should've been sent to two of each, with the planets being as similar as possible. (species, races, governments, etc.)"
   ]
  },
  {
   "cell_type": "markdown",
   "metadata": {},
   "source": [
    "**A company with work sites in five different countries has sent you data on employee satisfaction rates for workers in Human Resources and workers in Information Technology. Most HR workers are concentrated in three of the countries, while IT workers are equally distributed across worksites. The company requests a report on satisfaction for each job type. You calculate average job satisfaction for HR and for IT and present the report.**\n",
    "\n",
    "The most important thing to do is to group each job in each seperate country, since comparing to different countries would create an additional unwanted variable. For the most unbiased and equal study possible: individuals should be seperated by gender, age, and income (as much as possible). Then these groups should be compared within the same country."
   ]
  },
  {
   "cell_type": "markdown",
   "metadata": {},
   "source": [
    "**When people install the Happy Days Fitness Tracker app, they are asked to \"opt in\" to a data collection scheme where their level of physical activity data is automatically sent to the company for product research purposes. During your interview with the company, they tell you that the app is very effective because after installing the app, the data show that people's activity levels rise steadily.**\n",
    "\n",
    "It seems probable that people who opt in for the data collection are going to be people who want their data to be recorded (people who exercise a lot, are active, and like to share their accomplishments). Not to mention the fact that anybody installing a fitness app will certainly be trying to focus on increasing their fitness level. I think it may be better to compare their data against other apps. And more importantly, if possible, they should seek to make data collection mandatory for those signing up."
   ]
  },
  {
   "cell_type": "markdown",
   "metadata": {},
   "source": [
    "**To prevent cheating, a teacher writes three versions of a test. She stacks the three versions together, first all copies of Version A, then all copies of Version B, then all copies of Version C. As students arrive for the exam, each student takes a test. When grading the test, the teacher finds that students who took Version B scored higher than students who took either Version A or Version C. She concludes from this that Version B is easier, and discards it.**\n",
    "\n",
    "The tests were not distributed completely at random. Perhaps smarter students prefer to take from the middle. The sample sizes were probably also not equal and the tests were not evenly distrubuted among similar groups (she should seperate by gender, age, and school year to evenly compare similar groups). It would also be important for the teacher to have as large of a sample size as possible."
   ]
  }
 ],
 "metadata": {
  "kernelspec": {
   "display_name": "Python 3",
   "language": "python",
   "name": "python3"
  },
  "language_info": {
   "codemirror_mode": {
    "name": "ipython",
    "version": 3
   },
   "file_extension": ".py",
   "mimetype": "text/x-python",
   "name": "python",
   "nbconvert_exporter": "python",
   "pygments_lexer": "ipython3",
   "version": "3.6.2"
  }
 },
 "nbformat": 4,
 "nbformat_minor": 2
}
