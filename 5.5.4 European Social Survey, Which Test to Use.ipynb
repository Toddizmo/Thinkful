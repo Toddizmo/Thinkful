{
 "cells": [
  {
   "cell_type": "markdown",
   "metadata": {},
   "source": [
    "1) Did people become less trusting from 2012 to 2014? Compute results for each country in the sample.\n",
    "\n",
    "**Based off of the results, there is only a significant difference in people's trust in Spain and Sweden in 2012 vs 2014. Interestingly enough, people in Spain have become less trust and people in Sweden have become more trusting.**\n",
    "\n",
    "2) Did people become happier from 2012 to 2014? Compute results for each country in the sample.\n",
    "\n",
    "**The only significant difference between happiness of people in 2012 vs 2014 was found in Norway. People were happier in 2012 than they were in 2014.**\n",
    "\n",
    "3) Who reported watching more TV in 2012, men or women?\n",
    "\n",
    "**There is no significant difference in time reported watching TV between men and women in 2012.**\n",
    "\n",
    "4) Who was more likely to believe people were fair in 2012, people living with a partner or people living alone?\n",
    "\n",
    "**The test statistic showed that people that live with a partner are far more likely to trust other people.**\n",
    "\n",
    "5) Pick three or four of the countries in the sample and compare how often people met socially in 2014. Are there differences, and if so, which countries stand out?\n",
    "\n",
    "**There exists a significant difference in frequency of social meetings in 2014 between Switzerland and Czech Republic. But there is an even higher significant difference between Norway and either of them, having a highest average meetings of the three.**\n",
    "\n",
    "6) Pick three or four of the countries in the sample and compare how often people took part in social activities, relative to others their age, in 2014. Are there differences, and if so, which countries stand out?\n",
    "\n",
    "**There is no significant difference in the number of social meetings between Norway and Switzerland for those at or under the average age of participants. Both of them were significantly higher than the Czech Republic though.**\n",
    "\n",
    "**Same result occurs for older individuals. There is no significant difference in the number of social meetings between Norway and Switzerland for those above the average age of participants. But, both of them were significantly higher than the Czech Republic.**\n",
    "\n",
    "**In each country, those under or at the average participant age had significantly more social gatherings than those above the average partcipcant age. The highest difference in social gatherings by age existing in Switzerland.**"
   ]
  },
  {
   "cell_type": "code",
   "execution_count": 1,
   "metadata": {},
   "outputs": [],
   "source": [
    "import pandas as pd\n",
    "import numpy as np\n",
    "import matplotlib.pyplot as plt\n",
    "import scipy.stats as stats\n",
    "from scipy.stats import ttest_ind\n",
    "import seaborn as sns\n",
    "%matplotlib inline"
   ]
  },
  {
   "cell_type": "code",
   "execution_count": 2,
   "metadata": {},
   "outputs": [],
   "source": [
    "df = pd.read_csv('euro_social_survey.csv')"
   ]
  },
  {
   "cell_type": "markdown",
   "metadata": {},
   "source": [
    "## Summaries of Data"
   ]
  },
  {
   "cell_type": "code",
   "execution_count": 3,
   "metadata": {},
   "outputs": [
    {
     "data": {
      "text/plain": [
       "cntry        0\n",
       "idno         0\n",
       "year         0\n",
       "tvtot        8\n",
       "ppltrst     14\n",
       "pplfair     39\n",
       "pplhlp      25\n",
       "happy       31\n",
       "sclmeet     15\n",
       "sclact      94\n",
       "gndr        10\n",
       "agea       239\n",
       "partner     17\n",
       "dtype: int64"
      ]
     },
     "execution_count": 3,
     "metadata": {},
     "output_type": "execute_result"
    }
   ],
   "source": [
    "df.isnull().sum()"
   ]
  },
  {
   "cell_type": "code",
   "execution_count": 4,
   "metadata": {},
   "outputs": [],
   "source": [
    "# drop things for simplicity, I'd fill with median (probably)\n",
    "df = df.dropna()"
   ]
  },
  {
   "cell_type": "code",
   "execution_count": 5,
   "metadata": {},
   "outputs": [],
   "source": [
    "# df2 will be 2014 and df will be 2012\n",
    "df2 = df[df.year ==7]\n",
    "df = df[df.year == 6]"
   ]
  },
  {
   "cell_type": "code",
   "execution_count": 6,
   "metadata": {},
   "outputs": [
    {
     "data": {
      "text/html": [
       "<div>\n",
       "<style scoped>\n",
       "    .dataframe tbody tr th:only-of-type {\n",
       "        vertical-align: middle;\n",
       "    }\n",
       "\n",
       "    .dataframe tbody tr th {\n",
       "        vertical-align: top;\n",
       "    }\n",
       "\n",
       "    .dataframe thead th {\n",
       "        text-align: right;\n",
       "    }\n",
       "</style>\n",
       "<table border=\"1\" class=\"dataframe\">\n",
       "  <thead>\n",
       "    <tr style=\"text-align: right;\">\n",
       "      <th></th>\n",
       "      <th>cntry</th>\n",
       "      <th>idno</th>\n",
       "      <th>year</th>\n",
       "      <th>tvtot</th>\n",
       "      <th>ppltrst</th>\n",
       "      <th>pplfair</th>\n",
       "      <th>pplhlp</th>\n",
       "      <th>happy</th>\n",
       "      <th>sclmeet</th>\n",
       "      <th>sclact</th>\n",
       "      <th>gndr</th>\n",
       "      <th>agea</th>\n",
       "      <th>partner</th>\n",
       "    </tr>\n",
       "  </thead>\n",
       "  <tbody>\n",
       "    <tr>\n",
       "      <th>0</th>\n",
       "      <td>CH</td>\n",
       "      <td>5.0</td>\n",
       "      <td>6</td>\n",
       "      <td>3.0</td>\n",
       "      <td>3.0</td>\n",
       "      <td>10.0</td>\n",
       "      <td>5.0</td>\n",
       "      <td>8.0</td>\n",
       "      <td>5.0</td>\n",
       "      <td>4.0</td>\n",
       "      <td>2.0</td>\n",
       "      <td>60.0</td>\n",
       "      <td>1.0</td>\n",
       "    </tr>\n",
       "    <tr>\n",
       "      <th>1</th>\n",
       "      <td>CH</td>\n",
       "      <td>25.0</td>\n",
       "      <td>6</td>\n",
       "      <td>6.0</td>\n",
       "      <td>5.0</td>\n",
       "      <td>7.0</td>\n",
       "      <td>5.0</td>\n",
       "      <td>9.0</td>\n",
       "      <td>3.0</td>\n",
       "      <td>2.0</td>\n",
       "      <td>2.0</td>\n",
       "      <td>59.0</td>\n",
       "      <td>1.0</td>\n",
       "    </tr>\n",
       "    <tr>\n",
       "      <th>2</th>\n",
       "      <td>CH</td>\n",
       "      <td>26.0</td>\n",
       "      <td>6</td>\n",
       "      <td>1.0</td>\n",
       "      <td>8.0</td>\n",
       "      <td>8.0</td>\n",
       "      <td>8.0</td>\n",
       "      <td>7.0</td>\n",
       "      <td>6.0</td>\n",
       "      <td>3.0</td>\n",
       "      <td>1.0</td>\n",
       "      <td>24.0</td>\n",
       "      <td>2.0</td>\n",
       "    </tr>\n",
       "    <tr>\n",
       "      <th>3</th>\n",
       "      <td>CH</td>\n",
       "      <td>28.0</td>\n",
       "      <td>6</td>\n",
       "      <td>4.0</td>\n",
       "      <td>6.0</td>\n",
       "      <td>6.0</td>\n",
       "      <td>7.0</td>\n",
       "      <td>10.0</td>\n",
       "      <td>6.0</td>\n",
       "      <td>2.0</td>\n",
       "      <td>2.0</td>\n",
       "      <td>64.0</td>\n",
       "      <td>1.0</td>\n",
       "    </tr>\n",
       "    <tr>\n",
       "      <th>4</th>\n",
       "      <td>CH</td>\n",
       "      <td>29.0</td>\n",
       "      <td>6</td>\n",
       "      <td>5.0</td>\n",
       "      <td>6.0</td>\n",
       "      <td>7.0</td>\n",
       "      <td>5.0</td>\n",
       "      <td>8.0</td>\n",
       "      <td>7.0</td>\n",
       "      <td>2.0</td>\n",
       "      <td>2.0</td>\n",
       "      <td>55.0</td>\n",
       "      <td>1.0</td>\n",
       "    </tr>\n",
       "  </tbody>\n",
       "</table>\n",
       "</div>"
      ],
      "text/plain": [
       "  cntry  idno  year  tvtot  ppltrst  pplfair  pplhlp  happy  sclmeet  sclact  \\\n",
       "0    CH   5.0     6    3.0      3.0     10.0     5.0    8.0      5.0     4.0   \n",
       "1    CH  25.0     6    6.0      5.0      7.0     5.0    9.0      3.0     2.0   \n",
       "2    CH  26.0     6    1.0      8.0      8.0     8.0    7.0      6.0     3.0   \n",
       "3    CH  28.0     6    4.0      6.0      6.0     7.0   10.0      6.0     2.0   \n",
       "4    CH  29.0     6    5.0      6.0      7.0     5.0    8.0      7.0     2.0   \n",
       "\n",
       "   gndr  agea  partner  \n",
       "0   2.0  60.0      1.0  \n",
       "1   2.0  59.0      1.0  \n",
       "2   1.0  24.0      2.0  \n",
       "3   2.0  64.0      1.0  \n",
       "4   2.0  55.0      1.0  "
      ]
     },
     "execution_count": 6,
     "metadata": {},
     "output_type": "execute_result"
    }
   ],
   "source": [
    "df.head()"
   ]
  },
  {
   "cell_type": "code",
   "execution_count": 7,
   "metadata": {},
   "outputs": [
    {
     "data": {
      "text/html": [
       "<div>\n",
       "<style scoped>\n",
       "    .dataframe tbody tr th:only-of-type {\n",
       "        vertical-align: middle;\n",
       "    }\n",
       "\n",
       "    .dataframe tbody tr th {\n",
       "        vertical-align: top;\n",
       "    }\n",
       "\n",
       "    .dataframe thead th {\n",
       "        text-align: right;\n",
       "    }\n",
       "</style>\n",
       "<table border=\"1\" class=\"dataframe\">\n",
       "  <thead>\n",
       "    <tr style=\"text-align: right;\">\n",
       "      <th></th>\n",
       "      <th>idno</th>\n",
       "      <th>year</th>\n",
       "      <th>tvtot</th>\n",
       "      <th>ppltrst</th>\n",
       "      <th>pplfair</th>\n",
       "      <th>pplhlp</th>\n",
       "      <th>happy</th>\n",
       "      <th>sclmeet</th>\n",
       "      <th>sclact</th>\n",
       "      <th>gndr</th>\n",
       "      <th>agea</th>\n",
       "      <th>partner</th>\n",
       "    </tr>\n",
       "  </thead>\n",
       "  <tbody>\n",
       "    <tr>\n",
       "      <th>count</th>\n",
       "      <td>4.071000e+03</td>\n",
       "      <td>4071.0</td>\n",
       "      <td>4071.000000</td>\n",
       "      <td>4071.000000</td>\n",
       "      <td>4071.000000</td>\n",
       "      <td>4071.000000</td>\n",
       "      <td>4071.000000</td>\n",
       "      <td>4071.000000</td>\n",
       "      <td>4071.000000</td>\n",
       "      <td>4071.000000</td>\n",
       "      <td>4071.000000</td>\n",
       "      <td>4071.000000</td>\n",
       "    </tr>\n",
       "    <tr>\n",
       "      <th>mean</th>\n",
       "      <td>3.889715e+04</td>\n",
       "      <td>6.0</td>\n",
       "      <td>3.882093</td>\n",
       "      <td>5.578482</td>\n",
       "      <td>5.996070</td>\n",
       "      <td>5.392778</td>\n",
       "      <td>7.731516</td>\n",
       "      <td>5.256939</td>\n",
       "      <td>2.745026</td>\n",
       "      <td>1.495701</td>\n",
       "      <td>47.326701</td>\n",
       "      <td>1.375583</td>\n",
       "    </tr>\n",
       "    <tr>\n",
       "      <th>std</th>\n",
       "      <td>6.205244e+05</td>\n",
       "      <td>0.0</td>\n",
       "      <td>2.008912</td>\n",
       "      <td>2.212022</td>\n",
       "      <td>2.118477</td>\n",
       "      <td>2.162271</td>\n",
       "      <td>1.755549</td>\n",
       "      <td>1.458116</td>\n",
       "      <td>0.912288</td>\n",
       "      <td>0.500043</td>\n",
       "      <td>18.161313</td>\n",
       "      <td>0.484333</td>\n",
       "    </tr>\n",
       "    <tr>\n",
       "      <th>min</th>\n",
       "      <td>1.000000e+00</td>\n",
       "      <td>6.0</td>\n",
       "      <td>0.000000</td>\n",
       "      <td>0.000000</td>\n",
       "      <td>0.000000</td>\n",
       "      <td>0.000000</td>\n",
       "      <td>0.000000</td>\n",
       "      <td>1.000000</td>\n",
       "      <td>1.000000</td>\n",
       "      <td>1.000000</td>\n",
       "      <td>15.000000</td>\n",
       "      <td>1.000000</td>\n",
       "    </tr>\n",
       "    <tr>\n",
       "      <th>25%</th>\n",
       "      <td>1.063000e+03</td>\n",
       "      <td>6.0</td>\n",
       "      <td>2.000000</td>\n",
       "      <td>4.000000</td>\n",
       "      <td>5.000000</td>\n",
       "      <td>4.000000</td>\n",
       "      <td>7.000000</td>\n",
       "      <td>4.000000</td>\n",
       "      <td>2.000000</td>\n",
       "      <td>1.000000</td>\n",
       "      <td>33.000000</td>\n",
       "      <td>1.000000</td>\n",
       "    </tr>\n",
       "    <tr>\n",
       "      <th>50%</th>\n",
       "      <td>1.757000e+03</td>\n",
       "      <td>6.0</td>\n",
       "      <td>4.000000</td>\n",
       "      <td>6.000000</td>\n",
       "      <td>6.000000</td>\n",
       "      <td>5.000000</td>\n",
       "      <td>8.000000</td>\n",
       "      <td>6.000000</td>\n",
       "      <td>3.000000</td>\n",
       "      <td>1.000000</td>\n",
       "      <td>47.000000</td>\n",
       "      <td>1.000000</td>\n",
       "    </tr>\n",
       "    <tr>\n",
       "      <th>75%</th>\n",
       "      <td>2.776500e+03</td>\n",
       "      <td>6.0</td>\n",
       "      <td>5.000000</td>\n",
       "      <td>7.000000</td>\n",
       "      <td>8.000000</td>\n",
       "      <td>7.000000</td>\n",
       "      <td>9.000000</td>\n",
       "      <td>6.000000</td>\n",
       "      <td>3.000000</td>\n",
       "      <td>2.000000</td>\n",
       "      <td>61.000000</td>\n",
       "      <td>2.000000</td>\n",
       "    </tr>\n",
       "    <tr>\n",
       "      <th>max</th>\n",
       "      <td>1.100143e+07</td>\n",
       "      <td>6.0</td>\n",
       "      <td>7.000000</td>\n",
       "      <td>10.000000</td>\n",
       "      <td>10.000000</td>\n",
       "      <td>10.000000</td>\n",
       "      <td>10.000000</td>\n",
       "      <td>7.000000</td>\n",
       "      <td>5.000000</td>\n",
       "      <td>2.000000</td>\n",
       "      <td>103.000000</td>\n",
       "      <td>2.000000</td>\n",
       "    </tr>\n",
       "  </tbody>\n",
       "</table>\n",
       "</div>"
      ],
      "text/plain": [
       "               idno    year        tvtot      ppltrst      pplfair  \\\n",
       "count  4.071000e+03  4071.0  4071.000000  4071.000000  4071.000000   \n",
       "mean   3.889715e+04     6.0     3.882093     5.578482     5.996070   \n",
       "std    6.205244e+05     0.0     2.008912     2.212022     2.118477   \n",
       "min    1.000000e+00     6.0     0.000000     0.000000     0.000000   \n",
       "25%    1.063000e+03     6.0     2.000000     4.000000     5.000000   \n",
       "50%    1.757000e+03     6.0     4.000000     6.000000     6.000000   \n",
       "75%    2.776500e+03     6.0     5.000000     7.000000     8.000000   \n",
       "max    1.100143e+07     6.0     7.000000    10.000000    10.000000   \n",
       "\n",
       "            pplhlp        happy      sclmeet       sclact         gndr  \\\n",
       "count  4071.000000  4071.000000  4071.000000  4071.000000  4071.000000   \n",
       "mean      5.392778     7.731516     5.256939     2.745026     1.495701   \n",
       "std       2.162271     1.755549     1.458116     0.912288     0.500043   \n",
       "min       0.000000     0.000000     1.000000     1.000000     1.000000   \n",
       "25%       4.000000     7.000000     4.000000     2.000000     1.000000   \n",
       "50%       5.000000     8.000000     6.000000     3.000000     1.000000   \n",
       "75%       7.000000     9.000000     6.000000     3.000000     2.000000   \n",
       "max      10.000000    10.000000     7.000000     5.000000     2.000000   \n",
       "\n",
       "              agea      partner  \n",
       "count  4071.000000  4071.000000  \n",
       "mean     47.326701     1.375583  \n",
       "std      18.161313     0.484333  \n",
       "min      15.000000     1.000000  \n",
       "25%      33.000000     1.000000  \n",
       "50%      47.000000     1.000000  \n",
       "75%      61.000000     2.000000  \n",
       "max     103.000000     2.000000  "
      ]
     },
     "execution_count": 7,
     "metadata": {},
     "output_type": "execute_result"
    }
   ],
   "source": [
    "df.describe()"
   ]
  },
  {
   "cell_type": "code",
   "execution_count": 8,
   "metadata": {},
   "outputs": [
    {
     "data": {
      "text/html": [
       "<div>\n",
       "<style scoped>\n",
       "    .dataframe tbody tr th:only-of-type {\n",
       "        vertical-align: middle;\n",
       "    }\n",
       "\n",
       "    .dataframe tbody tr th {\n",
       "        vertical-align: top;\n",
       "    }\n",
       "\n",
       "    .dataframe thead th {\n",
       "        text-align: right;\n",
       "    }\n",
       "</style>\n",
       "<table border=\"1\" class=\"dataframe\">\n",
       "  <thead>\n",
       "    <tr style=\"text-align: right;\">\n",
       "      <th></th>\n",
       "      <th>idno</th>\n",
       "      <th>year</th>\n",
       "      <th>tvtot</th>\n",
       "      <th>ppltrst</th>\n",
       "      <th>pplfair</th>\n",
       "      <th>pplhlp</th>\n",
       "      <th>happy</th>\n",
       "      <th>sclmeet</th>\n",
       "      <th>sclact</th>\n",
       "      <th>gndr</th>\n",
       "      <th>agea</th>\n",
       "      <th>partner</th>\n",
       "    </tr>\n",
       "  </thead>\n",
       "  <tbody>\n",
       "    <tr>\n",
       "      <th>count</th>\n",
       "      <td>4.076000e+03</td>\n",
       "      <td>4076.0</td>\n",
       "      <td>4076.000000</td>\n",
       "      <td>4076.000000</td>\n",
       "      <td>4076.000000</td>\n",
       "      <td>4076.000000</td>\n",
       "      <td>4076.000000</td>\n",
       "      <td>4076.000000</td>\n",
       "      <td>4076.000000</td>\n",
       "      <td>4076.000000</td>\n",
       "      <td>4076.000000</td>\n",
       "      <td>4076.000000</td>\n",
       "    </tr>\n",
       "    <tr>\n",
       "      <th>mean</th>\n",
       "      <td>4.155365e+04</td>\n",
       "      <td>7.0</td>\n",
       "      <td>3.755152</td>\n",
       "      <td>5.571394</td>\n",
       "      <td>6.014230</td>\n",
       "      <td>5.250245</td>\n",
       "      <td>7.685476</td>\n",
       "      <td>5.174926</td>\n",
       "      <td>2.766928</td>\n",
       "      <td>1.497056</td>\n",
       "      <td>47.197743</td>\n",
       "      <td>1.393768</td>\n",
       "    </tr>\n",
       "    <tr>\n",
       "      <th>std</th>\n",
       "      <td>6.434722e+05</td>\n",
       "      <td>0.0</td>\n",
       "      <td>2.007204</td>\n",
       "      <td>2.219723</td>\n",
       "      <td>2.121996</td>\n",
       "      <td>2.168076</td>\n",
       "      <td>1.685360</td>\n",
       "      <td>1.418223</td>\n",
       "      <td>0.890382</td>\n",
       "      <td>0.500053</td>\n",
       "      <td>18.472972</td>\n",
       "      <td>0.488644</td>\n",
       "    </tr>\n",
       "    <tr>\n",
       "      <th>min</th>\n",
       "      <td>1.000000e+00</td>\n",
       "      <td>7.0</td>\n",
       "      <td>0.000000</td>\n",
       "      <td>0.000000</td>\n",
       "      <td>0.000000</td>\n",
       "      <td>0.000000</td>\n",
       "      <td>0.000000</td>\n",
       "      <td>1.000000</td>\n",
       "      <td>1.000000</td>\n",
       "      <td>1.000000</td>\n",
       "      <td>15.000000</td>\n",
       "      <td>1.000000</td>\n",
       "    </tr>\n",
       "    <tr>\n",
       "      <th>25%</th>\n",
       "      <td>1.063000e+03</td>\n",
       "      <td>7.0</td>\n",
       "      <td>2.000000</td>\n",
       "      <td>4.000000</td>\n",
       "      <td>5.000000</td>\n",
       "      <td>4.000000</td>\n",
       "      <td>7.000000</td>\n",
       "      <td>4.000000</td>\n",
       "      <td>2.000000</td>\n",
       "      <td>1.000000</td>\n",
       "      <td>33.000000</td>\n",
       "      <td>1.000000</td>\n",
       "    </tr>\n",
       "    <tr>\n",
       "      <th>50%</th>\n",
       "      <td>1.740000e+03</td>\n",
       "      <td>7.0</td>\n",
       "      <td>4.000000</td>\n",
       "      <td>6.000000</td>\n",
       "      <td>6.000000</td>\n",
       "      <td>5.000000</td>\n",
       "      <td>8.000000</td>\n",
       "      <td>6.000000</td>\n",
       "      <td>3.000000</td>\n",
       "      <td>1.000000</td>\n",
       "      <td>47.000000</td>\n",
       "      <td>1.000000</td>\n",
       "    </tr>\n",
       "    <tr>\n",
       "      <th>75%</th>\n",
       "      <td>2.782500e+03</td>\n",
       "      <td>7.0</td>\n",
       "      <td>5.000000</td>\n",
       "      <td>7.000000</td>\n",
       "      <td>8.000000</td>\n",
       "      <td>7.000000</td>\n",
       "      <td>9.000000</td>\n",
       "      <td>6.000000</td>\n",
       "      <td>3.000000</td>\n",
       "      <td>2.000000</td>\n",
       "      <td>61.000000</td>\n",
       "      <td>2.000000</td>\n",
       "    </tr>\n",
       "    <tr>\n",
       "      <th>max</th>\n",
       "      <td>1.100143e+07</td>\n",
       "      <td>7.0</td>\n",
       "      <td>7.000000</td>\n",
       "      <td>10.000000</td>\n",
       "      <td>10.000000</td>\n",
       "      <td>10.000000</td>\n",
       "      <td>10.000000</td>\n",
       "      <td>7.000000</td>\n",
       "      <td>5.000000</td>\n",
       "      <td>2.000000</td>\n",
       "      <td>114.000000</td>\n",
       "      <td>2.000000</td>\n",
       "    </tr>\n",
       "  </tbody>\n",
       "</table>\n",
       "</div>"
      ],
      "text/plain": [
       "               idno    year        tvtot      ppltrst      pplfair  \\\n",
       "count  4.076000e+03  4076.0  4076.000000  4076.000000  4076.000000   \n",
       "mean   4.155365e+04     7.0     3.755152     5.571394     6.014230   \n",
       "std    6.434722e+05     0.0     2.007204     2.219723     2.121996   \n",
       "min    1.000000e+00     7.0     0.000000     0.000000     0.000000   \n",
       "25%    1.063000e+03     7.0     2.000000     4.000000     5.000000   \n",
       "50%    1.740000e+03     7.0     4.000000     6.000000     6.000000   \n",
       "75%    2.782500e+03     7.0     5.000000     7.000000     8.000000   \n",
       "max    1.100143e+07     7.0     7.000000    10.000000    10.000000   \n",
       "\n",
       "            pplhlp        happy      sclmeet       sclact         gndr  \\\n",
       "count  4076.000000  4076.000000  4076.000000  4076.000000  4076.000000   \n",
       "mean      5.250245     7.685476     5.174926     2.766928     1.497056   \n",
       "std       2.168076     1.685360     1.418223     0.890382     0.500053   \n",
       "min       0.000000     0.000000     1.000000     1.000000     1.000000   \n",
       "25%       4.000000     7.000000     4.000000     2.000000     1.000000   \n",
       "50%       5.000000     8.000000     6.000000     3.000000     1.000000   \n",
       "75%       7.000000     9.000000     6.000000     3.000000     2.000000   \n",
       "max      10.000000    10.000000     7.000000     5.000000     2.000000   \n",
       "\n",
       "              agea      partner  \n",
       "count  4076.000000  4076.000000  \n",
       "mean     47.197743     1.393768  \n",
       "std      18.472972     0.488644  \n",
       "min      15.000000     1.000000  \n",
       "25%      33.000000     1.000000  \n",
       "50%      47.000000     1.000000  \n",
       "75%      61.000000     2.000000  \n",
       "max     114.000000     2.000000  "
      ]
     },
     "execution_count": 8,
     "metadata": {},
     "output_type": "execute_result"
    }
   ],
   "source": [
    "df2.describe()"
   ]
  },
  {
   "cell_type": "code",
   "execution_count": 9,
   "metadata": {
    "scrolled": true
   },
   "outputs": [
    {
     "name": "stdout",
     "output_type": "stream",
     "text": [
      "2012\n"
     ]
    },
    {
     "data": {
      "image/png": "[encoded data removed]",
      "text/plain": [
       "<Figure size 1080x648 with 12 Axes>"
      ]
     },
     "metadata": {},
     "output_type": "display_data"
    }
   ],
   "source": [
    "print('2012')\n",
    "fig = df.hist(figsize=(15,9), xlabelsize=6)"
   ]
  },
  {
   "cell_type": "code",
   "execution_count": 10,
   "metadata": {},
   "outputs": [
    {
     "name": "stdout",
     "output_type": "stream",
     "text": [
      "2014\n"
     ]
    },
    {
     "data": {
      "image/png": "[encoded data removed]",
      "text/plain": [
       "<Figure size 1080x648 with 12 Axes>"
      ]
     },
     "metadata": {},
     "output_type": "display_data"
    }
   ],
   "source": [
    "print('2014')\n",
    "fig = df2.hist(figsize=(15,9), xlabelsize=6)"
   ]
  },
  {
   "cell_type": "markdown",
   "metadata": {},
   "source": [
    "Based off what I can see, gindr, happy, pplhelp, ppltrst, tvtot, and year seems to be non-normal data. Some of the others might be a stretch to call normal, buit they're close."
   ]
  },
  {
   "cell_type": "code",
   "execution_count": 11,
   "metadata": {},
   "outputs": [
    {
     "data": {
      "text/plain": [
       "array(['CH', 'CZ', 'DE', 'ES', 'NO', 'SE'], dtype=object)"
      ]
     },
     "execution_count": 11,
     "metadata": {},
     "output_type": "execute_result"
    }
   ],
   "source": [
    "df.cntry.unique()"
   ]
  },
  {
   "cell_type": "markdown",
   "metadata": {},
   "source": [
    "## 1)"
   ]
  },
  {
   "cell_type": "code",
   "execution_count": 12,
   "metadata": {
    "scrolled": true
   },
   "outputs": [
    {
     "name": "stdout",
     "output_type": "stream",
     "text": [
      "Trust:\n",
      "\n",
      "Switzerland\n",
      "Ttest_indResult(statistic=-0.7156974792217816, pvalue=0.4742916002909491)\n",
      "\n",
      "Czech Republic\n",
      "Ttest_indResult(statistic=0.34075433231518504, pvalue=0.7333479315909976)\n",
      "\n",
      "Germany\n",
      "Ttest_indResult(statistic=-0.3466213170125284, pvalue=0.7317764273785732)\n",
      "\n",
      "Spain\n",
      "Ttest_indResult(statistic=2.1000674443244907, pvalue=0.03583204193521363)\n",
      "\n",
      "Norway\n",
      "Ttest_indResult(statistic=0.5119224181145228, pvalue=0.6087850218131977)\n",
      "\n",
      "Sweden\n",
      "Ttest_indResult(statistic=-2.0268698056063146, pvalue=0.0428293634522298)\n"
     ]
    }
   ],
   "source": [
    "print('Trust:\\n\\nSwitzerland')\n",
    "print(stats.ttest_ind(df.ppltrst[df.cntry == 'CH'], df2.ppltrst[df2.cntry == 'CH']))\n",
    "print('\\nCzech Republic')\n",
    "print(stats.ttest_ind(df.ppltrst[df.cntry == 'CZ'], df2.ppltrst[df2.cntry == 'CZ']))\n",
    "print('\\nGermany')\n",
    "print(stats.ttest_ind(df.ppltrst[df.cntry == 'DE'], df2.ppltrst[df2.cntry == 'DE']))\n",
    "print('\\nSpain')\n",
    "print(stats.ttest_ind(df.ppltrst[df.cntry == 'ES'], df2.ppltrst[df2.cntry == 'ES']))\n",
    "print('\\nNorway')\n",
    "print(stats.ttest_ind(df.ppltrst[df.cntry == 'NO'], df2.ppltrst[df2.cntry == 'NO']))\n",
    "print('\\nSweden')\n",
    "print(stats.ttest_ind(df.ppltrst[df.cntry == 'SE'], df2.ppltrst[df2.cntry == 'SE']))"
   ]
  },
  {
   "cell_type": "markdown",
   "metadata": {},
   "source": [
    "Based off of these results, there is only a significant difference in people's trust in Spain and Sweden in 2012 vs 2014. Interestingly enough, people in Spain have become less trust and people in Sweden have become more trusting."
   ]
  },
  {
   "cell_type": "markdown",
   "metadata": {},
   "source": [
    "## 2)"
   ]
  },
  {
   "cell_type": "code",
   "execution_count": 13,
   "metadata": {
    "scrolled": true
   },
   "outputs": [
    {
     "name": "stdout",
     "output_type": "stream",
     "text": [
      "Happiness:\n",
      "\n",
      "Switzerland\n",
      "KruskalResult(statistic=0.7393607796289999, pvalue=0.3898657201494511)\n",
      "\n",
      "Czech Republic\n",
      "KruskalResult(statistic=0.7888702806828175, pvalue=0.37444194652901)\n",
      "\n",
      "Germany\n",
      "KruskalResult(statistic=0.7954545454545382, pvalue=0.3724558699813717)\n",
      "\n",
      "Spain\n",
      "KruskalResult(statistic=2.9615793608595036, pvalue=0.08526461865591295)\n",
      "\n",
      "Norway\n",
      "KruskalResult(statistic=17.78863118177249, pvalue=2.4685385809958533e-05)\n",
      "\n",
      "Sweden\n",
      "KruskalResult(statistic=0.10011450993142058, pvalue=0.7516922609168144)\n"
     ]
    }
   ],
   "source": [
    "print('Happiness:\\n\\nSwitzerland')\n",
    "print(stats.kruskal(df.happy[df.cntry == 'CH'], df2.happy[df2.cntry == 'CH']))\n",
    "print('\\nCzech Republic')\n",
    "print(stats.kruskal(df.happy[df.cntry == 'CZ'], df2.happy[df2.cntry == 'CZ']))\n",
    "print('\\nGermany')\n",
    "print(stats.kruskal(df.happy[df.cntry == 'DE'], df2.happy[df2.cntry == 'DE']))\n",
    "print('\\nSpain')\n",
    "print(stats.kruskal(df.happy[df.cntry == 'ES'], df2.happy[df2.cntry == 'ES']))\n",
    "print('\\nNorway')\n",
    "print(stats.kruskal(df.happy[df.cntry == 'NO'], df2.happy[df2.cntry == 'NO']))\n",
    "print('\\nSweden')\n",
    "print(stats.kruskal(df.happy[df.cntry == 'SE'], df2.happy[df2.cntry == 'SE']))"
   ]
  },
  {
   "cell_type": "markdown",
   "metadata": {},
   "source": [
    "Only significant difference between happiness of people in 2012 vs 2014 is in Norway. People were happier in 2012 than they were in 2014."
   ]
  },
  {
   "cell_type": "markdown",
   "metadata": {},
   "source": [
    "## 3)"
   ]
  },
  {
   "cell_type": "code",
   "execution_count": 14,
   "metadata": {},
   "outputs": [
    {
     "name": "stdout",
     "output_type": "stream",
     "text": [
      "TV in 2012, Men vs Women:\n",
      "KruskalResult(statistic=0.6145695087428265, pvalue=0.4330724786171142)\n"
     ]
    }
   ],
   "source": [
    "print('TV in 2012, Men vs Women:')\n",
    "# 1 is male, 2 is female\n",
    "print(stats.kruskal(\n",
    "    df.tvtot[df.gndr == 1.0],\n",
    "    df.tvtot[df.gndr == 2.0]))"
   ]
  },
  {
   "cell_type": "markdown",
   "metadata": {},
   "source": [
    "No significant difference in time reported watching TV between men and women in 2012."
   ]
  },
  {
   "cell_type": "markdown",
   "metadata": {},
   "source": [
    "## 4)"
   ]
  },
  {
   "cell_type": "code",
   "execution_count": 15,
   "metadata": {},
   "outputs": [
    {
     "name": "stdout",
     "output_type": "stream",
     "text": [
      "Belief people are fair in 2012, Partner vs no Partner:\n",
      "Ttest_indResult(statistic=3.0430439318464235, pvalue=0.002356936676939248)\n"
     ]
    }
   ],
   "source": [
    "print('Belief people are fair in 2012, Partner vs no Partner:')\n",
    "# 1 means live with partner, 2 means not\n",
    "print(stats.ttest_ind(\n",
    "    df.pplfair[df.partner == 1.0],\n",
    "    df.pplfair[df.partner == 2.0]))"
   ]
  },
  {
   "cell_type": "markdown",
   "metadata": {},
   "source": [
    "Test statistic shows that people that live with a partner are far more likely to trust people."
   ]
  },
  {
   "cell_type": "markdown",
   "metadata": {},
   "source": [
    "## 5)"
   ]
  },
  {
   "cell_type": "code",
   "execution_count": 16,
   "metadata": {},
   "outputs": [
    {
     "name": "stdout",
     "output_type": "stream",
     "text": [
      "Differences in frequency of social gatherings in 2014:\n",
      "\n",
      "CH vs CZ\n",
      "Ttest_indResult(statistic=8.998568888102158, pvalue=7.58694000913212e-19)\n",
      "\n",
      "CZ vs NO\n",
      "Ttest_indResult(statistic=-10.507796823715257, pvalue=7.427021134307074e-25)\n",
      "\n",
      "NO vs CH\n",
      "Ttest_indResult(statistic=1.9524600649137105, pvalue=0.05107541004946689)\n"
     ]
    }
   ],
   "source": [
    "print('Differences in frequency of social gatherings in 2014:\\n')\n",
    "print('CH vs CZ')\n",
    "print(stats.ttest_ind(\n",
    "    df2.sclmeet[df2.cntry == 'CH'],\n",
    "    df2.sclmeet[df2.cntry == 'CZ']))\n",
    "print('\\nCZ vs NO')\n",
    "print(stats.ttest_ind(\n",
    "    df2.sclmeet[df2.cntry == 'CZ'],\n",
    "    df2.sclmeet[df2.cntry == 'NO']))\n",
    "print('\\nNO vs CH')\n",
    "print(stats.ttest_ind(\n",
    "    df2.sclmeet[df2.cntry == 'NO'],\n",
    "    df2.sclmeet[df2.cntry == 'CH']))"
   ]
  },
  {
   "cell_type": "code",
   "execution_count": 17,
   "metadata": {},
   "outputs": [
    {
     "name": "stdout",
     "output_type": "stream",
     "text": [
      "Mean of meetings, to make sure statistics make sense\n",
      "(Switzerland, Czech Republic, Norway)\n",
      "5.174966352624495 4.4950495049504955 5.310393258426966\n"
     ]
    }
   ],
   "source": [
    "print('Mean of meetings, to make sure statistics make sense\\n(Switzerland, Czech Republic, Norway)')\n",
    "print(df2.sclmeet[df2.cntry == 'CH'].mean(), \n",
    "    df2.sclmeet[df2.cntry == 'CZ'].mean(),\n",
    "    df2.sclmeet[df2.cntry == 'NO'].mean())"
   ]
  },
  {
   "cell_type": "markdown",
   "metadata": {},
   "source": [
    "Significant difference in frequency of social meetings in 2014 between Switzerland and Czech Republic. But there is an even higher significant difference between Norway and either of them, having a higher average meetings than the others. "
   ]
  },
  {
   "cell_type": "code",
   "execution_count": 18,
   "metadata": {},
   "outputs": [
    {
     "data": {
      "text/plain": [
       "cntry\n",
       "CH     743\n",
       "CZ     606\n",
       "DE      14\n",
       "ES    1134\n",
       "NO     712\n",
       "SE     867\n",
       "Name: cntry, dtype: int64"
      ]
     },
     "execution_count": 18,
     "metadata": {},
     "output_type": "execute_result"
    }
   ],
   "source": [
    "# should've done this sooner, realized that Germany was a poor choice,\n",
    "# having very few participants compared to other countries\n",
    "# switch Norway (NO) as a third, close number of participats to CH and CZ\n",
    "df2.groupby('cntry').cntry.count()"
   ]
  },
  {
   "cell_type": "markdown",
   "metadata": {},
   "source": [
    "## 6)"
   ]
  },
  {
   "cell_type": "code",
   "execution_count": 19,
   "metadata": {},
   "outputs": [
    {
     "name": "stdout",
     "output_type": "stream",
     "text": [
      "Differences in frequency of social gatherings of those at or below the average age of partipants in 2014:\n",
      "\n",
      "CH vs CZ\n",
      "Ttest_indResult(statistic=8.138677177030036, pvalue=1.734836768420487e-15)\n",
      "\n",
      "CZ vs NO\n",
      "Ttest_indResult(statistic=-8.376997891401201, pvalue=2.9491788883118074e-16)\n",
      "\n",
      "NO vs CH\n",
      "Ttest_indResult(statistic=1.057334956151466, pvalue=0.2906929463860797)\n"
     ]
    }
   ],
   "source": [
    "print('Differences in frequency of social gatherings of those', \n",
    "      'at or below the average age of partipants in 2014:\\n')\n",
    "print('CH vs CZ')\n",
    "print(stats.ttest_ind(\n",
    "    df2.sclmeet[(df2.cntry == 'CH') & (df2.agea <= df2.agea.mean())],\n",
    "    df2.sclmeet[(df2.cntry == 'CZ') & (df2.agea <= df2.agea.mean())]))\n",
    "print('\\nCZ vs NO')\n",
    "print(stats.ttest_ind(\n",
    "    df2.sclmeet[(df2.cntry == 'CZ') & (df2.agea <= df2.agea.mean())],\n",
    "    df2.sclmeet[(df2.cntry == 'NO') & (df2.agea <= df2.agea.mean())]))\n",
    "print('\\nNO vs CH')\n",
    "print(stats.ttest_ind(\n",
    "    df2.sclmeet[(df2.cntry == 'NO') & (df2.agea <= df2.agea.mean())],\n",
    "    df2.sclmeet[(df2.cntry == 'CH') & (df2.agea <= df2.agea.mean())]))"
   ]
  },
  {
   "cell_type": "code",
   "execution_count": 20,
   "metadata": {},
   "outputs": [
    {
     "name": "stdout",
     "output_type": "stream",
     "text": [
      "Mean of meetings for at or below average aged participants, to make sure statistics make sense\n",
      "(Switzerland, Czech Republic, Norway)\n",
      "5.415189873417722 4.60960960960961 5.512129380053908\n"
     ]
    }
   ],
   "source": [
    "print('Mean of meetings for at or below average aged participants, to make sure statistics make sense\\n(Switzerland, Czech Republic, Norway)')\n",
    "print(df2.sclmeet[(df2.cntry == 'CH') & (df2.agea <= df2.agea.mean())].mean(), \n",
    "    df2.sclmeet[(df2.cntry == 'CZ') & (df2.agea <= df2.agea.mean())].mean(),\n",
    "    df2.sclmeet[(df2.cntry == 'NO') & (df2.agea <= df2.agea.mean())].mean())"
   ]
  },
  {
   "cell_type": "markdown",
   "metadata": {},
   "source": [
    "No significant difference in number of social meetings between Norway and Switzerland for those at or under the average age of participants. Both of them were significantly higher than the Czech Republic though."
   ]
  },
  {
   "cell_type": "code",
   "execution_count": 21,
   "metadata": {},
   "outputs": [
    {
     "name": "stdout",
     "output_type": "stream",
     "text": [
      "Differences in frequency of social gatherings of those above the average age of partipants in 2014:\n",
      "\n",
      "CH vs CZ\n",
      "Ttest_indResult(statistic=4.812789101355405, pvalue=1.872342901628445e-06)\n",
      "\n",
      "CZ vs NO\n",
      "Ttest_indResult(statistic=-6.687369913453449, pvalue=5.1289003259054134e-11)\n",
      "\n",
      "NO vs CH\n",
      "Ttest_indResult(statistic=1.8477531873490438, pvalue=0.06506773171555376)\n"
     ]
    }
   ],
   "source": [
    "print('Differences in frequency of social gatherings of those', \n",
    "      'above the average age of partipants in 2014:\\n')\n",
    "print('CH vs CZ')\n",
    "print(stats.ttest_ind(\n",
    "    df2.sclmeet[(df2.cntry == 'CH') & (df2.agea > df2.agea.mean())],\n",
    "    df2.sclmeet[(df2.cntry == 'CZ') & (df2.agea > df2.agea.mean())]))\n",
    "print('\\nCZ vs NO')\n",
    "print(stats.ttest_ind(\n",
    "    df2.sclmeet[(df2.cntry == 'CZ') & (df2.agea > df2.agea.mean())],\n",
    "    df2.sclmeet[(df2.cntry == 'NO') & (df2.agea > df2.agea.mean())]))\n",
    "print('\\nNO vs CH')\n",
    "print(stats.ttest_ind(\n",
    "    df2.sclmeet[(df2.cntry == 'NO') & (df2.agea > df2.agea.mean())],\n",
    "    df2.sclmeet[(df2.cntry == 'CH') & (df2.agea > df2.agea.mean())]))"
   ]
  },
  {
   "cell_type": "code",
   "execution_count": 22,
   "metadata": {},
   "outputs": [
    {
     "name": "stdout",
     "output_type": "stream",
     "text": [
      "Mean of meetings for above average aged participants, to make sure statistics make sense\n",
      "(Switzerland, Czech Republic, Norway)\n",
      "5.415189873417722 4.60960960960961 5.512129380053908\n"
     ]
    }
   ],
   "source": [
    "print('Mean of meetings for above average aged participants, to make sure statistics make sense\\n(Switzerland, Czech Republic, Norway)')\n",
    "print(df2.sclmeet[(df2.cntry == 'CH') & (df2.agea <= df2.agea.mean())].mean(), \n",
    "    df2.sclmeet[(df2.cntry == 'CZ') & (df2.agea <= df2.agea.mean())].mean(),\n",
    "    df2.sclmeet[(df2.cntry == 'NO') & (df2.agea <= df2.agea.mean())].mean())"
   ]
  },
  {
   "cell_type": "markdown",
   "metadata": {},
   "source": [
    "Same. no significant difference in number of social meetings between Norway and Switzerland for those above the average age of participants. But, both of them were significantly higher than the Czech Republic."
   ]
  },
  {
   "cell_type": "code",
   "execution_count": 23,
   "metadata": {},
   "outputs": [
    {
     "name": "stdout",
     "output_type": "stream",
     "text": [
      "Differences in frequency of social gatherings of those above the average vs at or below age of partipants in 2014:\n",
      "\n",
      "Switzerland\n",
      "Ttest_indResult(statistic=5.462469202194172, pvalue=6.415070214229491e-08)\n",
      "\n",
      "CCzech Republic\n",
      "Ttest_indResult(statistic=2.123212073245354, pvalue=0.0341420655426053)\n",
      "\n",
      "Norway\n",
      "Ttest_indResult(statistic=4.2267673550343465, pvalue=2.6802682207696762e-05)\n"
     ]
    }
   ],
   "source": [
    "print('Differences in frequency of social gatherings of those', \n",
    "      'above the average vs at or below age of partipants in 2014:\\n')\n",
    "print('Switzerland')\n",
    "print(stats.ttest_ind(\n",
    "    df2.sclmeet[(df2.cntry == 'CH') & (df2.agea <= df2.agea.mean())],\n",
    "    df2.sclmeet[(df2.cntry == 'CH') & (df2.agea > df2.agea.mean())]))\n",
    "print('\\nCCzech Republic')\n",
    "print(stats.ttest_ind(\n",
    "    df2.sclmeet[(df2.cntry == 'CZ') & (df2.agea <= df2.agea.mean())],\n",
    "    df2.sclmeet[(df2.cntry == 'CZ') & (df2.agea > df2.agea.mean())]))\n",
    "print('\\nNorway')\n",
    "print(stats.ttest_ind(\n",
    "    df2.sclmeet[(df2.cntry == 'NO') & (df2.agea <= df2.agea.mean())],\n",
    "    df2.sclmeet[(df2.cntry == 'NO') & (df2.agea > df2.agea.mean())]))"
   ]
  },
  {
   "cell_type": "markdown",
   "metadata": {},
   "source": [
    "In each country, those under or at the average participant age had significantly more social gatherings than those above the average partcipcant age. The highest difference existing in Switzerland."
   ]
  }
 ],
 "metadata": {
  "kernelspec": {
   "display_name": "Python 3",
   "language": "python",
   "name": "python3"
  },
  "language_info": {
   "codemirror_mode": {
    "name": "ipython",
    "version": 3
   },
   "file_extension": ".py",
   "mimetype": "text/x-python",
   "name": "python",
   "nbconvert_exporter": "python",
   "pygments_lexer": "ipython3",
   "version": "3.6.5"
  }
 },
 "nbformat": 4,
 "nbformat_minor": 2
}
