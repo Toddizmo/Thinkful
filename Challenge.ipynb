{
 "cells": [
  {
   "cell_type": "code",
   "execution_count": 7,
   "metadata": {
    "collapsed": true
   },
   "outputs": [],
   "source": [
    "%matplotlib inline\n",
    "import numpy as np\n",
    "import pandas as pd\n",
    "import matplotlib.pyplot as plt"
   ]
  },
  {
   "cell_type": "code",
   "execution_count": 2,
   "metadata": {
    "collapsed": true,
    "scrolled": true
   },
   "outputs": [],
   "source": [
    "df = pd.read_csv('C:\\Users\\starr\\OneDrive\\Documents\\game_sales.csv')"
   ]
  },
  {
   "cell_type": "code",
   "execution_count": 3,
   "metadata": {},
   "outputs": [
    {
     "name": "stdout",
     "output_type": "stream",
     "text": [
      "        Rank                                               Name Platform  \\\n",
      "0          1                                         Wii Sports      Wii   \n",
      "1          2                                  Super Mario Bros.      NES   \n",
      "2          3                                     Mario Kart Wii      Wii   \n",
      "3          4                                  Wii Sports Resort      Wii   \n",
      "4          5                           Pokemon Red/Pokemon Blue       GB   \n",
      "5          6                                             Tetris       GB   \n",
      "6          7                              New Super Mario Bros.       DS   \n",
      "7          8                                           Wii Play      Wii   \n",
      "8          9                          New Super Mario Bros. Wii      Wii   \n",
      "9         10                                          Duck Hunt      NES   \n",
      "10        11                                         Nintendogs       DS   \n",
      "11        12                                      Mario Kart DS       DS   \n",
      "12        13                        Pokemon Gold/Pokemon Silver       GB   \n",
      "13        14                                            Wii Fit      Wii   \n",
      "14        15                                       Wii Fit Plus      Wii   \n",
      "15        16                                 Kinect Adventures!     X360   \n",
      "16        17                                 Grand Theft Auto V      PS3   \n",
      "17        18                      Grand Theft Auto: San Andreas      PS2   \n",
      "18        19                                  Super Mario World     SNES   \n",
      "19        20       Brain Age: Train Your Brain in Minutes a Day       DS   \n",
      "20        21                      Pokemon Diamond/Pokemon Pearl       DS   \n",
      "21        22                                   Super Mario Land       GB   \n",
      "22        23                                Super Mario Bros. 3      NES   \n",
      "23        24                                 Grand Theft Auto V     X360   \n",
      "24        25                        Grand Theft Auto: Vice City      PS2   \n",
      "25        26                      Pokemon Ruby/Pokemon Sapphire      GBA   \n",
      "26        27                        Pokemon Black/Pokemon White       DS   \n",
      "27        28        Brain Age 2: More Training in Minutes a Day       DS   \n",
      "28        29                             Gran Turismo 3: A-Spec      PS2   \n",
      "29        30                     Call of Duty: Modern Warfare 3     X360   \n",
      "...      ...                                                ...      ...   \n",
      "16568  16571                                        XI Coliseum      PSP   \n",
      "16569  16572                                 Resident Evil 4 HD     XOne   \n",
      "16570  16573                      Farming 2017 - The Simulation      PS4   \n",
      "16571  16574         Grisaia no Kajitsu: La Fruit de la Grisaia      PSP   \n",
      "16572  16575                   Scarlett: Nichijou no Kyoukaisen      PS2   \n",
      "16573  16576                                Mini Desktop Racing      Wii   \n",
      "16574  16577  Yattaman Wii: BikkuriDokkiri Machine de Mou Ra...      Wii   \n",
      "16575  16578                              Neo Angelique Special      PSP   \n",
      "16576  16579                                  Rugby Challenge 3     XOne   \n",
      "16577  16580                                          Damnation       PC   \n",
      "16578  16581                      Outdoors Unleashed: Africa 3D      3DS   \n",
      "16579  16582                                  PGA European Tour      N64   \n",
      "16580  16583                                          Real Rode      PS2   \n",
      "16581  16584                                          Fit & Fun      Wii   \n",
      "16582  16585                                    Planet Monsters      GBA   \n",
      "16583  16586                                     Carmageddon 64      N64   \n",
      "16584  16587                                   Bust-A-Move 3000       GC   \n",
      "16585  16588                                             Breach       PC   \n",
      "16586  16589                     Secret Files 2: Puritas Cordis       DS   \n",
      "16587  16590                           Mezase!! Tsuri Master DS       DS   \n",
      "16588  16591                                   Mega Brain Boost       DS   \n",
      "16589  16592  Chou Ezaru wa Akai Hana: Koi wa Tsuki ni Shiru...      PSV   \n",
      "16590  16593  Eiyuu Densetsu: Sora no Kiseki Material Collec...      PSP   \n",
      "16591  16594                                Myst IV: Revelation       PC   \n",
      "16592  16595                                           Plushees       DS   \n",
      "16593  16596                 Woody Woodpecker in Crazy Castle 5      GBA   \n",
      "16594  16597                      Men in Black II: Alien Escape       GC   \n",
      "16595  16598   SCORE International Baja 1000: The Official Game      PS2   \n",
      "16596  16599                                         Know How 2       DS   \n",
      "16597  16600                                   Spirits & Spells      GBA   \n",
      "\n",
      "         Year         Genre                    Publisher  NA_Sales  EU_Sales  \\\n",
      "0      2006.0        Sports                     Nintendo     41.49     29.02   \n",
      "1      1985.0      Platform                     Nintendo     29.08      3.58   \n",
      "2      2008.0        Racing                     Nintendo     15.85     12.88   \n",
      "3      2009.0        Sports                     Nintendo     15.75     11.01   \n",
      "4      1996.0  Role-Playing                     Nintendo     11.27      8.89   \n",
      "5      1989.0        Puzzle                     Nintendo     23.20      2.26   \n",
      "6      2006.0      Platform                     Nintendo     11.38      9.23   \n",
      "7      2006.0          Misc                     Nintendo     14.03      9.20   \n",
      "8      2009.0      Platform                     Nintendo     14.59      7.06   \n",
      "9      1984.0       Shooter                     Nintendo     26.93      0.63   \n",
      "10     2005.0    Simulation                     Nintendo      9.07     11.00   \n",
      "11     2005.0        Racing                     Nintendo      9.81      7.57   \n",
      "12     1999.0  Role-Playing                     Nintendo      9.00      6.18   \n",
      "13     2007.0        Sports                     Nintendo      8.94      8.03   \n",
      "14     2009.0        Sports                     Nintendo      9.09      8.59   \n",
      "15     2010.0          Misc       Microsoft Game Studios     14.97      4.94   \n",
      "16     2013.0        Action         Take-Two Interactive      7.01      9.27   \n",
      "17     2004.0        Action         Take-Two Interactive      9.43      0.40   \n",
      "18     1990.0      Platform                     Nintendo     12.78      3.75   \n",
      "19     2005.0          Misc                     Nintendo      4.75      9.26   \n",
      "20     2006.0  Role-Playing                     Nintendo      6.42      4.52   \n",
      "21     1989.0      Platform                     Nintendo     10.83      2.71   \n",
      "22     1988.0      Platform                     Nintendo      9.54      3.44   \n",
      "23     2013.0        Action         Take-Two Interactive      9.63      5.31   \n",
      "24     2002.0        Action         Take-Two Interactive      8.41      5.49   \n",
      "25     2002.0  Role-Playing                     Nintendo      6.06      3.90   \n",
      "26     2010.0  Role-Playing                     Nintendo      5.57      3.28   \n",
      "27     2005.0        Puzzle                     Nintendo      3.44      5.36   \n",
      "28     2001.0        Racing  Sony Computer Entertainment      6.85      5.09   \n",
      "29     2011.0       Shooter                   Activision      9.03      4.28   \n",
      "...       ...           ...                          ...       ...       ...   \n",
      "16568  2006.0        Puzzle  Sony Computer Entertainment      0.00      0.00   \n",
      "16569  2016.0       Shooter                       Capcom      0.01      0.00   \n",
      "16570  2016.0    Simulation            UIG Entertainment      0.00      0.01   \n",
      "16571  2013.0     Adventure                    Prototype      0.00      0.00   \n",
      "16572  2008.0     Adventure              Kadokawa Shoten      0.00      0.00   \n",
      "16573  2007.0        Racing               Popcorn Arcade      0.01      0.00   \n",
      "16574  2008.0        Racing                  Takara Tomy      0.00      0.00   \n",
      "16575  2008.0     Adventure                   Tecmo Koei      0.00      0.00   \n",
      "16576  2016.0        Sports         Alternative Software      0.00      0.01   \n",
      "16577  2009.0       Shooter                  Codemasters      0.00      0.01   \n",
      "16578  2011.0        Sports                      Mastiff      0.01      0.00   \n",
      "16579  2000.0        Sports                   Infogrames      0.01      0.00   \n",
      "16580  2008.0     Adventure              Kadokawa Shoten      0.00      0.00   \n",
      "16581  2011.0        Sports                      Unknown      0.00      0.01   \n",
      "16582  2001.0        Action                        Titus      0.01      0.00   \n",
      "16583  1999.0        Action           Virgin Interactive      0.01      0.00   \n",
      "16584  2003.0        Puzzle                      Ubisoft      0.01      0.00   \n",
      "16585  2011.0       Shooter                    Destineer      0.01      0.00   \n",
      "16586  2009.0     Adventure                  Deep Silver      0.00      0.01   \n",
      "16587  2009.0        Sports                  Hudson Soft      0.00      0.00   \n",
      "16588  2008.0        Puzzle        Majesco Entertainment      0.01      0.00   \n",
      "16589  2016.0        Action              dramatic create      0.00      0.00   \n",
      "16590  2007.0  Role-Playing           Falcom Corporation      0.00      0.00   \n",
      "16591  2004.0     Adventure                      Ubisoft      0.01      0.00   \n",
      "16592  2008.0    Simulation                    Destineer      0.01      0.00   \n",
      "16593  2002.0      Platform                        Kemco      0.01      0.00   \n",
      "16594  2003.0       Shooter                   Infogrames      0.01      0.00   \n",
      "16595  2008.0        Racing                   Activision      0.00      0.00   \n",
      "16596  2010.0        Puzzle                     7G//AMES      0.00      0.01   \n",
      "16597  2003.0      Platform                      Wanadoo      0.01      0.00   \n",
      "\n",
      "       JP_Sales  Other_Sales  Global_Sales  \n",
      "0          3.77         8.46         82.74  \n",
      "1          6.81         0.77         40.24  \n",
      "2          3.79         3.31         35.82  \n",
      "3          3.28         2.96         33.00  \n",
      "4         10.22         1.00         31.37  \n",
      "5          4.22         0.58         30.26  \n",
      "6          6.50         2.90         30.01  \n",
      "7          2.93         2.85         29.02  \n",
      "8          4.70         2.26         28.62  \n",
      "9          0.28         0.47         28.31  \n",
      "10         1.93         2.75         24.76  \n",
      "11         4.13         1.92         23.42  \n",
      "12         7.20         0.71         23.10  \n",
      "13         3.60         2.15         22.72  \n",
      "14         2.53         1.79         22.00  \n",
      "15         0.24         1.67         21.82  \n",
      "16         0.97         4.14         21.40  \n",
      "17         0.41        10.57         20.81  \n",
      "18         3.54         0.55         20.61  \n",
      "19         4.16         2.05         20.22  \n",
      "20         6.04         1.37         18.36  \n",
      "21         4.18         0.42         18.14  \n",
      "22         3.84         0.46         17.28  \n",
      "23         0.06         1.38         16.38  \n",
      "24         0.47         1.78         16.15  \n",
      "25         5.38         0.50         15.85  \n",
      "26         5.65         0.82         15.32  \n",
      "27         5.32         1.18         15.30  \n",
      "28         1.87         1.16         14.98  \n",
      "29         0.13         1.32         14.76  \n",
      "...         ...          ...           ...  \n",
      "16568      0.01         0.00          0.01  \n",
      "16569      0.00         0.00          0.01  \n",
      "16570      0.00         0.00          0.01  \n",
      "16571      0.01         0.00          0.01  \n",
      "16572      0.01         0.00          0.01  \n",
      "16573      0.00         0.00          0.01  \n",
      "16574      0.01         0.00          0.01  \n",
      "16575      0.01         0.00          0.01  \n",
      "16576      0.00         0.00          0.01  \n",
      "16577      0.00         0.00          0.01  \n",
      "16578      0.00         0.00          0.01  \n",
      "16579      0.00         0.00          0.01  \n",
      "16580      0.01         0.00          0.01  \n",
      "16581      0.00         0.00          0.01  \n",
      "16582      0.00         0.00          0.01  \n",
      "16583      0.00         0.00          0.01  \n",
      "16584      0.00         0.00          0.01  \n",
      "16585      0.00         0.00          0.01  \n",
      "16586      0.00         0.00          0.01  \n",
      "16587      0.01         0.00          0.01  \n",
      "16588      0.00         0.00          0.01  \n",
      "16589      0.01         0.00          0.01  \n",
      "16590      0.01         0.00          0.01  \n",
      "16591      0.00         0.00          0.01  \n",
      "16592      0.00         0.00          0.01  \n",
      "16593      0.00         0.00          0.01  \n",
      "16594      0.00         0.00          0.01  \n",
      "16595      0.00         0.00          0.01  \n",
      "16596      0.00         0.00          0.01  \n",
      "16597      0.00         0.00          0.01  \n",
      "\n",
      "[16598 rows x 11 columns]\n"
     ]
    }
   ],
   "source": [
    "print(df)"
   ]
  },
  {
   "cell_type": "code",
   "execution_count": 4,
   "metadata": {},
   "outputs": [
    {
     "data": {
      "text/html": [
       "<div>\n",
       "<style>\n",
       "    .dataframe thead tr:only-child th {\n",
       "        text-align: right;\n",
       "    }\n",
       "\n",
       "    .dataframe thead th {\n",
       "        text-align: left;\n",
       "    }\n",
       "\n",
       "    .dataframe tbody tr th {\n",
       "        vertical-align: top;\n",
       "    }\n",
       "</style>\n",
       "<table border=\"1\" class=\"dataframe\">\n",
       "  <thead>\n",
       "    <tr style=\"text-align: right;\">\n",
       "      <th></th>\n",
       "      <th>Rank</th>\n",
       "      <th>Name</th>\n",
       "      <th>Platform</th>\n",
       "      <th>Year</th>\n",
       "      <th>Genre</th>\n",
       "      <th>Publisher</th>\n",
       "      <th>NA_Sales</th>\n",
       "      <th>EU_Sales</th>\n",
       "      <th>JP_Sales</th>\n",
       "      <th>Other_Sales</th>\n",
       "      <th>Global_Sales</th>\n",
       "    </tr>\n",
       "  </thead>\n",
       "  <tbody>\n",
       "    <tr>\n",
       "      <th>0</th>\n",
       "      <td>1</td>\n",
       "      <td>Wii Sports</td>\n",
       "      <td>Wii</td>\n",
       "      <td>2006.0</td>\n",
       "      <td>Sports</td>\n",
       "      <td>Nintendo</td>\n",
       "      <td>41.49</td>\n",
       "      <td>29.02</td>\n",
       "      <td>3.77</td>\n",
       "      <td>8.46</td>\n",
       "      <td>82.74</td>\n",
       "    </tr>\n",
       "    <tr>\n",
       "      <th>1</th>\n",
       "      <td>2</td>\n",
       "      <td>Super Mario Bros.</td>\n",
       "      <td>NES</td>\n",
       "      <td>1985.0</td>\n",
       "      <td>Platform</td>\n",
       "      <td>Nintendo</td>\n",
       "      <td>29.08</td>\n",
       "      <td>3.58</td>\n",
       "      <td>6.81</td>\n",
       "      <td>0.77</td>\n",
       "      <td>40.24</td>\n",
       "    </tr>\n",
       "    <tr>\n",
       "      <th>2</th>\n",
       "      <td>3</td>\n",
       "      <td>Mario Kart Wii</td>\n",
       "      <td>Wii</td>\n",
       "      <td>2008.0</td>\n",
       "      <td>Racing</td>\n",
       "      <td>Nintendo</td>\n",
       "      <td>15.85</td>\n",
       "      <td>12.88</td>\n",
       "      <td>3.79</td>\n",
       "      <td>3.31</td>\n",
       "      <td>35.82</td>\n",
       "    </tr>\n",
       "    <tr>\n",
       "      <th>3</th>\n",
       "      <td>4</td>\n",
       "      <td>Wii Sports Resort</td>\n",
       "      <td>Wii</td>\n",
       "      <td>2009.0</td>\n",
       "      <td>Sports</td>\n",
       "      <td>Nintendo</td>\n",
       "      <td>15.75</td>\n",
       "      <td>11.01</td>\n",
       "      <td>3.28</td>\n",
       "      <td>2.96</td>\n",
       "      <td>33.00</td>\n",
       "    </tr>\n",
       "    <tr>\n",
       "      <th>4</th>\n",
       "      <td>5</td>\n",
       "      <td>Pokemon Red/Pokemon Blue</td>\n",
       "      <td>GB</td>\n",
       "      <td>1996.0</td>\n",
       "      <td>Role-Playing</td>\n",
       "      <td>Nintendo</td>\n",
       "      <td>11.27</td>\n",
       "      <td>8.89</td>\n",
       "      <td>10.22</td>\n",
       "      <td>1.00</td>\n",
       "      <td>31.37</td>\n",
       "    </tr>\n",
       "  </tbody>\n",
       "</table>\n",
       "</div>"
      ],
      "text/plain": [
       "   Rank                      Name Platform    Year         Genre Publisher  \\\n",
       "0     1                Wii Sports      Wii  2006.0        Sports  Nintendo   \n",
       "1     2         Super Mario Bros.      NES  1985.0      Platform  Nintendo   \n",
       "2     3            Mario Kart Wii      Wii  2008.0        Racing  Nintendo   \n",
       "3     4         Wii Sports Resort      Wii  2009.0        Sports  Nintendo   \n",
       "4     5  Pokemon Red/Pokemon Blue       GB  1996.0  Role-Playing  Nintendo   \n",
       "\n",
       "   NA_Sales  EU_Sales  JP_Sales  Other_Sales  Global_Sales  \n",
       "0     41.49     29.02      3.77         8.46         82.74  \n",
       "1     29.08      3.58      6.81         0.77         40.24  \n",
       "2     15.85     12.88      3.79         3.31         35.82  \n",
       "3     15.75     11.01      3.28         2.96         33.00  \n",
       "4     11.27      8.89     10.22         1.00         31.37  "
      ]
     },
     "execution_count": 4,
     "metadata": {},
     "output_type": "execute_result"
    }
   ],
   "source": [
    "df.head()"
   ]
  },
  {
   "cell_type": "code",
   "execution_count": 5,
   "metadata": {},
   "outputs": [
    {
     "data": {
      "text/html": [
       "<div>\n",
       "<style>\n",
       "    .dataframe thead tr:only-child th {\n",
       "        text-align: right;\n",
       "    }\n",
       "\n",
       "    .dataframe thead th {\n",
       "        text-align: left;\n",
       "    }\n",
       "\n",
       "    .dataframe tbody tr th {\n",
       "        vertical-align: top;\n",
       "    }\n",
       "</style>\n",
       "<table border=\"1\" class=\"dataframe\">\n",
       "  <thead>\n",
       "    <tr style=\"text-align: right;\">\n",
       "      <th></th>\n",
       "      <th>Rank</th>\n",
       "      <th>Year</th>\n",
       "      <th>NA_Sales</th>\n",
       "      <th>EU_Sales</th>\n",
       "      <th>JP_Sales</th>\n",
       "      <th>Other_Sales</th>\n",
       "      <th>Global_Sales</th>\n",
       "    </tr>\n",
       "  </thead>\n",
       "  <tbody>\n",
       "    <tr>\n",
       "      <th>count</th>\n",
       "      <td>16598.000000</td>\n",
       "      <td>16327.000000</td>\n",
       "      <td>16598.000000</td>\n",
       "      <td>16598.000000</td>\n",
       "      <td>16598.000000</td>\n",
       "      <td>16598.000000</td>\n",
       "      <td>16598.000000</td>\n",
       "    </tr>\n",
       "    <tr>\n",
       "      <th>mean</th>\n",
       "      <td>8300.605254</td>\n",
       "      <td>2006.406443</td>\n",
       "      <td>0.264667</td>\n",
       "      <td>0.146652</td>\n",
       "      <td>0.077782</td>\n",
       "      <td>0.048063</td>\n",
       "      <td>0.537441</td>\n",
       "    </tr>\n",
       "    <tr>\n",
       "      <th>std</th>\n",
       "      <td>4791.853933</td>\n",
       "      <td>5.828981</td>\n",
       "      <td>0.816683</td>\n",
       "      <td>0.505351</td>\n",
       "      <td>0.309291</td>\n",
       "      <td>0.188588</td>\n",
       "      <td>1.555028</td>\n",
       "    </tr>\n",
       "    <tr>\n",
       "      <th>min</th>\n",
       "      <td>1.000000</td>\n",
       "      <td>1980.000000</td>\n",
       "      <td>0.000000</td>\n",
       "      <td>0.000000</td>\n",
       "      <td>0.000000</td>\n",
       "      <td>0.000000</td>\n",
       "      <td>0.010000</td>\n",
       "    </tr>\n",
       "    <tr>\n",
       "      <th>25%</th>\n",
       "      <td>4151.250000</td>\n",
       "      <td>2003.000000</td>\n",
       "      <td>0.000000</td>\n",
       "      <td>0.000000</td>\n",
       "      <td>0.000000</td>\n",
       "      <td>0.000000</td>\n",
       "      <td>0.060000</td>\n",
       "    </tr>\n",
       "    <tr>\n",
       "      <th>50%</th>\n",
       "      <td>8300.500000</td>\n",
       "      <td>2007.000000</td>\n",
       "      <td>0.080000</td>\n",
       "      <td>0.020000</td>\n",
       "      <td>0.000000</td>\n",
       "      <td>0.010000</td>\n",
       "      <td>0.170000</td>\n",
       "    </tr>\n",
       "    <tr>\n",
       "      <th>75%</th>\n",
       "      <td>12449.750000</td>\n",
       "      <td>2010.000000</td>\n",
       "      <td>0.240000</td>\n",
       "      <td>0.110000</td>\n",
       "      <td>0.040000</td>\n",
       "      <td>0.040000</td>\n",
       "      <td>0.470000</td>\n",
       "    </tr>\n",
       "    <tr>\n",
       "      <th>max</th>\n",
       "      <td>16600.000000</td>\n",
       "      <td>2020.000000</td>\n",
       "      <td>41.490000</td>\n",
       "      <td>29.020000</td>\n",
       "      <td>10.220000</td>\n",
       "      <td>10.570000</td>\n",
       "      <td>82.740000</td>\n",
       "    </tr>\n",
       "  </tbody>\n",
       "</table>\n",
       "</div>"
      ],
      "text/plain": [
       "               Rank          Year      NA_Sales      EU_Sales      JP_Sales  \\\n",
       "count  16598.000000  16327.000000  16598.000000  16598.000000  16598.000000   \n",
       "mean    8300.605254   2006.406443      0.264667      0.146652      0.077782   \n",
       "std     4791.853933      5.828981      0.816683      0.505351      0.309291   \n",
       "min        1.000000   1980.000000      0.000000      0.000000      0.000000   \n",
       "25%     4151.250000   2003.000000      0.000000      0.000000      0.000000   \n",
       "50%     8300.500000   2007.000000      0.080000      0.020000      0.000000   \n",
       "75%    12449.750000   2010.000000      0.240000      0.110000      0.040000   \n",
       "max    16600.000000   2020.000000     41.490000     29.020000     10.220000   \n",
       "\n",
       "        Other_Sales  Global_Sales  \n",
       "count  16598.000000  16598.000000  \n",
       "mean       0.048063      0.537441  \n",
       "std        0.188588      1.555028  \n",
       "min        0.000000      0.010000  \n",
       "25%        0.000000      0.060000  \n",
       "50%        0.010000      0.170000  \n",
       "75%        0.040000      0.470000  \n",
       "max       10.570000     82.740000  "
      ]
     },
     "execution_count": 5,
     "metadata": {},
     "output_type": "execute_result"
    }
   ],
   "source": [
    "df.describe()"
   ]
  },
  {
   "cell_type": "code",
   "execution_count": 8,
   "metadata": {},
   "outputs": [
    {
     "data": {
      "text/plain": [
       "<matplotlib.axes._subplots.AxesSubplot at 0x9e78cc0>"
      ]
     },
     "execution_count": 8,
     "metadata": {},
     "output_type": "execute_result"
    },
    {
     "data": {
      "image/png": "[encoded data removed]",
      "text/plain": [
       "<matplotlib.figure.Figure at 0x9e8f4e0>"
      ]
     },
     "metadata": {},
     "output_type": "display_data"
    }
   ],
   "source": [
    "df.Genre.value_counts().plot(kind = \"bar\")"
   ]
  },
  {
   "cell_type": "code",
   "execution_count": 9,
   "metadata": {},
   "outputs": [
    {
     "data": {
      "text/plain": [
       "<matplotlib.axes._subplots.AxesSubplot at 0xa028ac8>"
      ]
     },
     "execution_count": 9,
     "metadata": {},
     "output_type": "execute_result"
    },
    {
     "data": {
      "image/png": "[encoded data removed]",
      "text/plain": [
       "<matplotlib.figure.Figure at 0x9e8f4a8>"
      ]
     },
     "metadata": {},
     "output_type": "display_data"
    }
   ],
   "source": [
    "df.groupby('Genre').NA_Sales.mean().plot(kind = \"bar\")"
   ]
  },
  {
   "cell_type": "code",
   "execution_count": 19,
   "metadata": {},
   "outputs": [
    {
     "data": {
      "text/plain": [
       "(array([1]), <a list of 1 Text xticklabel objects>)"
      ]
     },
     "execution_count": 19,
     "metadata": {},
     "output_type": "execute_result"
    },
    {
     "data": {
      "image/png": "[encoded data removed]",
      "text/plain": [
       "<matplotlib.figure.Figure at 0xbaf9c88>"
      ]
     },
     "metadata": {},
     "output_type": "display_data"
    }
   ],
   "source": [
    "genre_filter.boxplot(column = 'NA_Sales', by = 'Genre' )\n",
    "plt.xticks(rotation=90)"
   ]
  },
  {
   "cell_type": "code",
   "execution_count": 18,
   "metadata": {
    "collapsed": true
   },
   "outputs": [],
   "source": [
    "genre_filter = df[df['Genre'] == \"Sports\"]"
   ]
  },
  {
   "cell_type": "code",
   "execution_count": 21,
   "metadata": {},
   "outputs": [
    {
     "data": {
      "text/plain": [
       "[<matplotlib.lines.Line2D at 0xc535668>]"
      ]
     },
     "execution_count": 21,
     "metadata": {},
     "output_type": "execute_result"
    },
    {
     "data": {
      "image/png": "[encoded data removed]",
      "text/plain": [
       "<matplotlib.figure.Figure at 0xbefc908>"
      ]
     },
     "metadata": {},
     "output_type": "display_data"
    }
   ],
   "source": [
    "plt.plot(df[\"EU_Sales\"])"
   ]
  },
  {
   "cell_type": "code",
   "execution_count": 24,
   "metadata": {},
   "outputs": [
    {
     "data": {
      "text/plain": [
       "(array([  1.63640000e+04,   1.54000000e+02,   4.00000000e+01,\n",
       "          2.00000000e+01,   1.10000000e+01,   5.00000000e+00,\n",
       "          2.00000000e+00,   1.00000000e+00,   0.00000000e+00,\n",
       "          1.00000000e+00]),\n",
       " array([  0.   ,   1.022,   2.044,   3.066,   4.088,   5.11 ,   6.132,\n",
       "          7.154,   8.176,   9.198,  10.22 ]),\n",
       " <a list of 10 Patch objects>)"
      ]
     },
     "execution_count": 24,
     "metadata": {},
     "output_type": "execute_result"
    },
    {
     "data": {
      "image/png": "[encoded data removed]",
      "text/plain": [
       "<matplotlib.figure.Figure at 0xcbab160>"
      ]
     },
     "metadata": {},
     "output_type": "display_data"
    }
   ],
   "source": [
    "plt.hist(df[\"JP_Sales\"])"
   ]
  },
  {
   "cell_type": "code",
   "execution_count": null,
   "metadata": {
    "collapsed": true
   },
   "outputs": [],
   "source": []
  }
 ],
 "metadata": {
  "kernelspec": {
   "display_name": "Python [conda root]",
   "language": "python",
   "name": "conda-root-py"
  },
  "language_info": {
   "codemirror_mode": {
    "name": "ipython",
    "version": 2
   },
   "file_extension": ".py",
   "mimetype": "text/x-python",
   "name": "python",
   "nbconvert_exporter": "python",
   "pygments_lexer": "ipython2",
   "version": "2.7.13"
  }
 },
 "nbformat": 4,
 "nbformat_minor": 2
}
