{
 "cells": [
  {
   "cell_type": "code",
   "execution_count": 107,
   "metadata": {
    "collapsed": true
   },
   "outputs": [],
   "source": [
    "import numpy as np\n",
    "import pandas as pd\n",
    "%matplotlib inline\n",
    "import matplotlib.pyplot as plt"
   ]
  },
  {
   "cell_type": "code",
   "execution_count": 108,
   "metadata": {},
   "outputs": [
    {
     "name": "stdout",
     "output_type": "stream",
     "text": [
      "Mean:\n",
      "3.42\n",
      "Standard Deviation:\n",
      "2.61220213613\n"
     ]
    },
    {
     "data": {
      "image/png": "[encoded data removed]",
      "text/plain": [
       "<matplotlib.figure.Figure at 0x1a4cdc54e10>"
      ]
     },
     "metadata": {},
     "output_type": "display_data"
    }
   ],
   "source": [
    "df = np.random.geometric(.3, 100)\n",
    "plt.axvline(df.mean(), color='blue', linestyle='solid', linewidth=3)\n",
    "plt.axvline(df.mean() - df.std(), color='c', linestyle='dotted', linewidth=3)\n",
    "plt.axvline(df.mean() + df.std(), color='c', linestyle='dotted', linewidth=3)\n",
    "print(\"Mean:\")\n",
    "print(np.mean(df))\n",
    "print(\"Standard Deviation:\")\n",
    "print(np.std(df))\n",
    "plt.hist(df, color = \"purple\")\n",
    "plt.show()"
   ]
  },
  {
   "cell_type": "markdown",
   "metadata": {},
   "source": [
    "The histogram shows that the data is skewed right. This portrays the mode being lower than the median, the median being lower than the mean, and outliers on the right side of the graph. Thus placing greater emphasis on the median as the central location of data rather than the mean. "
   ]
  },
  {
   "cell_type": "code",
   "execution_count": 109,
   "metadata": {},
   "outputs": [
    {
     "name": "stdout",
     "output_type": "stream",
     "text": [
      "Mean:\n",
      "14.9085463713\n",
      "Standard Deviation:\n",
      "1.13048881985\n"
     ]
    },
    {
     "data": {
      "image/png": "[encoded data removed]",
      "text/plain": [
       "<matplotlib.figure.Figure at 0x1a4cd9e1860>"
      ]
     },
     "metadata": {},
     "output_type": "display_data"
    }
   ],
   "source": [
    "var1 = np.random.normal(5,.5, 100)\n",
    "var2 = np.random.normal(10,1, 100)\n",
    "var3 = var1+var2\n",
    "\n",
    "mean = np.mean(var3)\n",
    "sd = np.std(var3)\n",
    "\n",
    "plt.hist(var3, color = \"c\")\n",
    "plt.axvline(x=mean, color='purple', linestyle = \"solid\", linewidth = 3)\n",
    "plt.axvline(x=mean+sd, color='blue', linestyle = \"dotted\", linewidth = 3)\n",
    "plt.axvline(x=mean-sd, color='blue', linestyle = \"dotted\", linewidth = 3)\n",
    "print(\"Mean:\")\n",
    "print(np.mean(var3))\n",
    "print(\"Standard Deviation:\")\n",
    "print(np.std(var3))\n",
    "plt.show()"
   ]
  }
 ],
 "metadata": {
  "kernelspec": {
   "display_name": "Python 3",
   "language": "python",
   "name": "python3"
  },
  "language_info": {
   "codemirror_mode": {
    "name": "ipython",
    "version": 3
   },
   "file_extension": ".py",
   "mimetype": "text/x-python",
   "name": "python",
   "nbconvert_exporter": "python",
   "pygments_lexer": "ipython3",
   "version": "3.6.2"
  }
 },
 "nbformat": 4,
 "nbformat_minor": 2
}
