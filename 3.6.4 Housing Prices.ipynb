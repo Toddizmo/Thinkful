{
 "cells": [
  {
   "cell_type": "markdown",
   "metadata": {},
   "source": [
    "I am attempting to see which supervised learning model has the best predictive accuracy for determining the price of the houses. Models that deal with regression need to be used for prediction. The models we'll attempt to use are:\n",
    "* Linear Regression\n",
    "* Support Vector Regression\n",
    "* KNN Regression\n",
    "* Random Forest Regression"
   ]
  },
  {
   "cell_type": "code",
   "execution_count": 1,
   "metadata": {},
   "outputs": [],
   "source": [
    "import pandas as pd\n",
    "from matplotlib import pyplot as plt\n",
    "import numpy as np\n",
    "from sklearn import linear_model\n",
    "import seaborn as sns\n",
    "%matplotlib inline"
   ]
  },
  {
   "cell_type": "code",
   "execution_count": 2,
   "metadata": {},
   "outputs": [
    {
     "data": {
      "text/plain": [
       "Suburb               0\n",
       "Address              0\n",
       "Rooms                0\n",
       "Type                 0\n",
       "Price             7610\n",
       "Method               0\n",
       "SellerG              0\n",
       "Date                 0\n",
       "Distance             1\n",
       "Postcode             1\n",
       "Bedroom2          8217\n",
       "Bathroom          8226\n",
       "Car               8728\n",
       "Landsize         11810\n",
       "BuildingArea     21115\n",
       "YearBuilt        19306\n",
       "CouncilArea          3\n",
       "Lattitude         7976\n",
       "Longtitude        7976\n",
       "Regionname           3\n",
       "Propertycount        3\n",
       "dtype: int64"
      ]
     },
     "execution_count": 2,
     "metadata": {},
     "output_type": "execute_result"
    }
   ],
   "source": [
    "# .fillna can be used to fill NaNs\n",
    "# think about what to do with your NaN and what they might mean\n",
    "housing = pd.read_csv('housing.csv')\n",
    "housing.isnull().sum()"
   ]
  },
  {
   "cell_type": "markdown",
   "metadata": {},
   "source": [
    "There is a lot of missing data. But due to time constraints we will simply be dropping any unavailable data. \n",
    "\n",
    "(It is important to note that missing data can be just as important as data that is present though. And there are different solutions to dealing with it.)"
   ]
  },
  {
   "cell_type": "code",
   "execution_count": 3,
   "metadata": {},
   "outputs": [],
   "source": [
    "# drop all NaNs in other columns\n",
    "housing = housing.dropna()"
   ]
  },
  {
   "cell_type": "code",
   "execution_count": 4,
   "metadata": {},
   "outputs": [],
   "source": [
    "# remove all outliers in the price column\n",
    "housing[np.abs(housing.Price-housing.Price.mean())<=(3*housing.Price.std())] \n",
    "housing = housing[~(np.abs(housing.Price-housing.Price.mean())>(3*housing.Price.std()))]"
   ]
  },
  {
   "cell_type": "code",
   "execution_count": 5,
   "metadata": {},
   "outputs": [],
   "source": [
    "# We've reduced the size quite a bit. But >11,000 items still\n",
    "# takes quite a while for my laptop to compute\n",
    "# I'll be taking a sample of 1/4 of the data to save time\n",
    "sample = int(11517/4)\n",
    "housing = housing.sample(n=sample)"
   ]
  },
  {
   "cell_type": "code",
   "execution_count": 6,
   "metadata": {},
   "outputs": [
    {
     "data": {
      "text/html": [
       "<div>\n",
       "<style scoped>\n",
       "    .dataframe tbody tr th:only-of-type {\n",
       "        vertical-align: middle;\n",
       "    }\n",
       "\n",
       "    .dataframe tbody tr th {\n",
       "        vertical-align: top;\n",
       "    }\n",
       "\n",
       "    .dataframe thead th {\n",
       "        text-align: right;\n",
       "    }\n",
       "</style>\n",
       "<table border=\"1\" class=\"dataframe\">\n",
       "  <thead>\n",
       "    <tr style=\"text-align: right;\">\n",
       "      <th></th>\n",
       "      <th>Suburb</th>\n",
       "      <th>Address</th>\n",
       "      <th>Rooms</th>\n",
       "      <th>Type</th>\n",
       "      <th>Price</th>\n",
       "      <th>Method</th>\n",
       "      <th>SellerG</th>\n",
       "      <th>Date</th>\n",
       "      <th>Distance</th>\n",
       "      <th>Postcode</th>\n",
       "      <th>...</th>\n",
       "      <th>Bathroom</th>\n",
       "      <th>Car</th>\n",
       "      <th>Landsize</th>\n",
       "      <th>BuildingArea</th>\n",
       "      <th>YearBuilt</th>\n",
       "      <th>CouncilArea</th>\n",
       "      <th>Lattitude</th>\n",
       "      <th>Longtitude</th>\n",
       "      <th>Regionname</th>\n",
       "      <th>Propertycount</th>\n",
       "    </tr>\n",
       "  </thead>\n",
       "  <tbody>\n",
       "    <tr>\n",
       "      <th>19206</th>\n",
       "      <td>Templestowe Lower</td>\n",
       "      <td>1/6 Union St</td>\n",
       "      <td>2</td>\n",
       "      <td>t</td>\n",
       "      <td>731000.0</td>\n",
       "      <td>S</td>\n",
       "      <td>Jellis</td>\n",
       "      <td>22/07/2017</td>\n",
       "      <td>12.4</td>\n",
       "      <td>3107.0</td>\n",
       "      <td>...</td>\n",
       "      <td>1.0</td>\n",
       "      <td>1.0</td>\n",
       "      <td>217.0</td>\n",
       "      <td>115.0</td>\n",
       "      <td>2005.0</td>\n",
       "      <td>Manningham City Council</td>\n",
       "      <td>-37.75671</td>\n",
       "      <td>145.11401</td>\n",
       "      <td>Eastern Metropolitan</td>\n",
       "      <td>5420.0</td>\n",
       "    </tr>\n",
       "    <tr>\n",
       "      <th>28812</th>\n",
       "      <td>Kew</td>\n",
       "      <td>8 Wellington St</td>\n",
       "      <td>3</td>\n",
       "      <td>h</td>\n",
       "      <td>1900000.0</td>\n",
       "      <td>VB</td>\n",
       "      <td>Marshall</td>\n",
       "      <td>25/11/2017</td>\n",
       "      <td>5.4</td>\n",
       "      <td>3101.0</td>\n",
       "      <td>...</td>\n",
       "      <td>2.0</td>\n",
       "      <td>1.0</td>\n",
       "      <td>491.0</td>\n",
       "      <td>179.0</td>\n",
       "      <td>1915.0</td>\n",
       "      <td>Boroondara City Council</td>\n",
       "      <td>-37.80920</td>\n",
       "      <td>145.03020</td>\n",
       "      <td>Southern Metropolitan</td>\n",
       "      <td>10331.0</td>\n",
       "    </tr>\n",
       "    <tr>\n",
       "      <th>20668</th>\n",
       "      <td>Meadow Heights</td>\n",
       "      <td>13 Manna Ct</td>\n",
       "      <td>3</td>\n",
       "      <td>h</td>\n",
       "      <td>473000.0</td>\n",
       "      <td>S</td>\n",
       "      <td>Stockdale</td>\n",
       "      <td>9/09/2017</td>\n",
       "      <td>17.4</td>\n",
       "      <td>3048.0</td>\n",
       "      <td>...</td>\n",
       "      <td>1.0</td>\n",
       "      <td>2.0</td>\n",
       "      <td>501.0</td>\n",
       "      <td>129.0</td>\n",
       "      <td>1992.0</td>\n",
       "      <td>Hume City Council</td>\n",
       "      <td>-37.64343</td>\n",
       "      <td>144.91193</td>\n",
       "      <td>Northern Metropolitan</td>\n",
       "      <td>4704.0</td>\n",
       "    </tr>\n",
       "    <tr>\n",
       "      <th>14543</th>\n",
       "      <td>Oak Park</td>\n",
       "      <td>13 Kiama St</td>\n",
       "      <td>2</td>\n",
       "      <td>t</td>\n",
       "      <td>610000.0</td>\n",
       "      <td>S</td>\n",
       "      <td>Nelson</td>\n",
       "      <td>1/07/2017</td>\n",
       "      <td>11.2</td>\n",
       "      <td>3046.0</td>\n",
       "      <td>...</td>\n",
       "      <td>1.0</td>\n",
       "      <td>1.0</td>\n",
       "      <td>182.0</td>\n",
       "      <td>112.0</td>\n",
       "      <td>2015.0</td>\n",
       "      <td>Moreland City Council</td>\n",
       "      <td>-37.71200</td>\n",
       "      <td>144.91761</td>\n",
       "      <td>Northern Metropolitan</td>\n",
       "      <td>2651.0</td>\n",
       "    </tr>\n",
       "    <tr>\n",
       "      <th>4544</th>\n",
       "      <td>Glen Iris</td>\n",
       "      <td>48 Martin Rd</td>\n",
       "      <td>3</td>\n",
       "      <td>h</td>\n",
       "      <td>2115000.0</td>\n",
       "      <td>S</td>\n",
       "      <td>Jellis</td>\n",
       "      <td>7/05/2016</td>\n",
       "      <td>9.2</td>\n",
       "      <td>3146.0</td>\n",
       "      <td>...</td>\n",
       "      <td>2.0</td>\n",
       "      <td>2.0</td>\n",
       "      <td>745.0</td>\n",
       "      <td>157.0</td>\n",
       "      <td>1920.0</td>\n",
       "      <td>Boroondara City Council</td>\n",
       "      <td>-37.85010</td>\n",
       "      <td>145.05900</td>\n",
       "      <td>Southern Metropolitan</td>\n",
       "      <td>10412.0</td>\n",
       "    </tr>\n",
       "  </tbody>\n",
       "</table>\n",
       "<p>5 rows × 21 columns</p>\n",
       "</div>"
      ],
      "text/plain": [
       "                  Suburb          Address  Rooms Type      Price Method  \\\n",
       "19206  Templestowe Lower     1/6 Union St      2    t   731000.0      S   \n",
       "28812                Kew  8 Wellington St      3    h  1900000.0     VB   \n",
       "20668     Meadow Heights      13 Manna Ct      3    h   473000.0      S   \n",
       "14543           Oak Park      13 Kiama St      2    t   610000.0      S   \n",
       "4544           Glen Iris     48 Martin Rd      3    h  2115000.0      S   \n",
       "\n",
       "         SellerG        Date  Distance  Postcode      ...       Bathroom  Car  \\\n",
       "19206     Jellis  22/07/2017      12.4    3107.0      ...            1.0  1.0   \n",
       "28812   Marshall  25/11/2017       5.4    3101.0      ...            2.0  1.0   \n",
       "20668  Stockdale   9/09/2017      17.4    3048.0      ...            1.0  2.0   \n",
       "14543     Nelson   1/07/2017      11.2    3046.0      ...            1.0  1.0   \n",
       "4544      Jellis   7/05/2016       9.2    3146.0      ...            2.0  2.0   \n",
       "\n",
       "       Landsize  BuildingArea  YearBuilt              CouncilArea Lattitude  \\\n",
       "19206     217.0         115.0     2005.0  Manningham City Council -37.75671   \n",
       "28812     491.0         179.0     1915.0  Boroondara City Council -37.80920   \n",
       "20668     501.0         129.0     1992.0        Hume City Council -37.64343   \n",
       "14543     182.0         112.0     2015.0    Moreland City Council -37.71200   \n",
       "4544      745.0         157.0     1920.0  Boroondara City Council -37.85010   \n",
       "\n",
       "       Longtitude             Regionname Propertycount  \n",
       "19206   145.11401   Eastern Metropolitan        5420.0  \n",
       "28812   145.03020  Southern Metropolitan       10331.0  \n",
       "20668   144.91193  Northern Metropolitan        4704.0  \n",
       "14543   144.91761  Northern Metropolitan        2651.0  \n",
       "4544    145.05900  Southern Metropolitan       10412.0  \n",
       "\n",
       "[5 rows x 21 columns]"
      ]
     },
     "execution_count": 6,
     "metadata": {},
     "output_type": "execute_result"
    }
   ],
   "source": [
    "housing.head()"
   ]
  },
  {
   "cell_type": "code",
   "execution_count": 7,
   "metadata": {},
   "outputs": [],
   "source": [
    "# substantially increase the number of features\n",
    "housing = pd.get_dummies(housing)"
   ]
  },
  {
   "cell_type": "code",
   "execution_count": 8,
   "metadata": {},
   "outputs": [],
   "source": [
    "# choose our x and y\n",
    "y = housing['Price']\n",
    "X = housing.drop(['Price'], 1)"
   ]
  },
  {
   "cell_type": "code",
   "execution_count": 9,
   "metadata": {},
   "outputs": [],
   "source": [
    "# using random forest to determine which features are most important\n",
    "from sklearn import ensemble\n",
    "from sklearn.model_selection import cross_val_score\n",
    "\n",
    "rfr = ensemble.RandomForestRegressor()"
   ]
  },
  {
   "cell_type": "code",
   "execution_count": 10,
   "metadata": {},
   "outputs": [
    {
     "data": {
      "text/html": [
       "<div>\n",
       "<style scoped>\n",
       "    .dataframe tbody tr th:only-of-type {\n",
       "        vertical-align: middle;\n",
       "    }\n",
       "\n",
       "    .dataframe tbody tr th {\n",
       "        vertical-align: top;\n",
       "    }\n",
       "\n",
       "    .dataframe thead th {\n",
       "        text-align: right;\n",
       "    }\n",
       "</style>\n",
       "<table border=\"1\" class=\"dataframe\">\n",
       "  <thead>\n",
       "    <tr style=\"text-align: right;\">\n",
       "      <th></th>\n",
       "      <th>importance</th>\n",
       "    </tr>\n",
       "  </thead>\n",
       "  <tbody>\n",
       "    <tr>\n",
       "      <th>7</th>\n",
       "      <td>0.314719</td>\n",
       "    </tr>\n",
       "    <tr>\n",
       "      <th>3459</th>\n",
       "      <td>0.163576</td>\n",
       "    </tr>\n",
       "    <tr>\n",
       "      <th>8</th>\n",
       "      <td>0.131635</td>\n",
       "    </tr>\n",
       "    <tr>\n",
       "      <th>1</th>\n",
       "      <td>0.072930</td>\n",
       "    </tr>\n",
       "    <tr>\n",
       "      <th>9</th>\n",
       "      <td>0.063271</td>\n",
       "    </tr>\n",
       "  </tbody>\n",
       "</table>\n",
       "</div>"
      ],
      "text/plain": [
       "      importance\n",
       "7       0.314719\n",
       "3459    0.163576\n",
       "8       0.131635\n",
       "1       0.072930\n",
       "9       0.063271"
      ]
     },
     "execution_count": 10,
     "metadata": {},
     "output_type": "execute_result"
    }
   ],
   "source": [
    "# create a chart showing the most important features\n",
    "df = pd.DataFrame()\n",
    "df['importance'] = rfr.fit(X, y).feature_importances_\n",
    "df = df.sort_values(by='importance', ascending = False)\n",
    "df.head()"
   ]
  },
  {
   "cell_type": "code",
   "execution_count": 11,
   "metadata": {},
   "outputs": [
    {
     "data": {
      "text/plain": [
       "<matplotlib.axes._subplots.AxesSubplot at 0x1f44f32e518>"
      ]
     },
     "execution_count": 11,
     "metadata": {},
     "output_type": "execute_result"
    },
    {
     "data": {
      "image/png": "[encoded data removed]",
      "text/plain": [
       "<matplotlib.figure.Figure at 0x1f44f315da0>"
      ]
     },
     "metadata": {},
     "output_type": "display_data"
    }
   ],
   "source": [
    "#create a graph showing the most important features\n",
    "df2 = df.reset_index(drop=True)\n",
    "df2 = df2[:100]\n",
    "plt.subplots(figsize=(12,8))\n",
    "sns.regplot(data = df2.reset_index(), x = 'index', y = 'importance')"
   ]
  },
  {
   "cell_type": "code",
   "execution_count": 12,
   "metadata": {},
   "outputs": [],
   "source": [
    "# turn index into a list and select the 30 most important columns/features\n",
    "df = df[:20]\n",
    "df_list = df.index.T.tolist()\n",
    "X2 = pd.DataFrame()\n",
    "X2 = X.iloc[:, df_list]\n",
    "X = X2"
   ]
  },
  {
   "cell_type": "code",
   "execution_count": 13,
   "metadata": {},
   "outputs": [
    {
     "data": {
      "text/html": [
       "<div>\n",
       "<style scoped>\n",
       "    .dataframe tbody tr th:only-of-type {\n",
       "        vertical-align: middle;\n",
       "    }\n",
       "\n",
       "    .dataframe tbody tr th {\n",
       "        vertical-align: top;\n",
       "    }\n",
       "\n",
       "    .dataframe thead th {\n",
       "        text-align: right;\n",
       "    }\n",
       "</style>\n",
       "<table border=\"1\" class=\"dataframe\">\n",
       "  <thead>\n",
       "    <tr style=\"text-align: right;\">\n",
       "      <th></th>\n",
       "      <th>BuildingArea</th>\n",
       "      <th>Regionname_Southern Metropolitan</th>\n",
       "      <th>YearBuilt</th>\n",
       "      <th>Distance</th>\n",
       "      <th>Lattitude</th>\n",
       "      <th>Longtitude</th>\n",
       "      <th>Landsize</th>\n",
       "      <th>Rooms</th>\n",
       "      <th>Propertycount</th>\n",
       "      <th>Type_u</th>\n",
       "      <th>Postcode</th>\n",
       "      <th>Type_h</th>\n",
       "      <th>Regionname_Eastern Metropolitan</th>\n",
       "      <th>Bedroom2</th>\n",
       "      <th>Car</th>\n",
       "      <th>Bathroom</th>\n",
       "      <th>CouncilArea_Monash City Council</th>\n",
       "      <th>SellerG_Marshall</th>\n",
       "      <th>CouncilArea_Glen Eira City Council</th>\n",
       "      <th>Method_S</th>\n",
       "    </tr>\n",
       "  </thead>\n",
       "  <tbody>\n",
       "    <tr>\n",
       "      <th>19206</th>\n",
       "      <td>115.0</td>\n",
       "      <td>0</td>\n",
       "      <td>2005.0</td>\n",
       "      <td>12.4</td>\n",
       "      <td>-37.75671</td>\n",
       "      <td>145.11401</td>\n",
       "      <td>217.0</td>\n",
       "      <td>2</td>\n",
       "      <td>5420.0</td>\n",
       "      <td>0</td>\n",
       "      <td>3107.0</td>\n",
       "      <td>0</td>\n",
       "      <td>1</td>\n",
       "      <td>2.0</td>\n",
       "      <td>1.0</td>\n",
       "      <td>1.0</td>\n",
       "      <td>0</td>\n",
       "      <td>0</td>\n",
       "      <td>0</td>\n",
       "      <td>1</td>\n",
       "    </tr>\n",
       "    <tr>\n",
       "      <th>28812</th>\n",
       "      <td>179.0</td>\n",
       "      <td>1</td>\n",
       "      <td>1915.0</td>\n",
       "      <td>5.4</td>\n",
       "      <td>-37.80920</td>\n",
       "      <td>145.03020</td>\n",
       "      <td>491.0</td>\n",
       "      <td>3</td>\n",
       "      <td>10331.0</td>\n",
       "      <td>0</td>\n",
       "      <td>3101.0</td>\n",
       "      <td>1</td>\n",
       "      <td>0</td>\n",
       "      <td>3.0</td>\n",
       "      <td>1.0</td>\n",
       "      <td>2.0</td>\n",
       "      <td>0</td>\n",
       "      <td>1</td>\n",
       "      <td>0</td>\n",
       "      <td>0</td>\n",
       "    </tr>\n",
       "    <tr>\n",
       "      <th>20668</th>\n",
       "      <td>129.0</td>\n",
       "      <td>0</td>\n",
       "      <td>1992.0</td>\n",
       "      <td>17.4</td>\n",
       "      <td>-37.64343</td>\n",
       "      <td>144.91193</td>\n",
       "      <td>501.0</td>\n",
       "      <td>3</td>\n",
       "      <td>4704.0</td>\n",
       "      <td>0</td>\n",
       "      <td>3048.0</td>\n",
       "      <td>1</td>\n",
       "      <td>0</td>\n",
       "      <td>3.0</td>\n",
       "      <td>2.0</td>\n",
       "      <td>1.0</td>\n",
       "      <td>0</td>\n",
       "      <td>0</td>\n",
       "      <td>0</td>\n",
       "      <td>1</td>\n",
       "    </tr>\n",
       "    <tr>\n",
       "      <th>14543</th>\n",
       "      <td>112.0</td>\n",
       "      <td>0</td>\n",
       "      <td>2015.0</td>\n",
       "      <td>11.2</td>\n",
       "      <td>-37.71200</td>\n",
       "      <td>144.91761</td>\n",
       "      <td>182.0</td>\n",
       "      <td>2</td>\n",
       "      <td>2651.0</td>\n",
       "      <td>0</td>\n",
       "      <td>3046.0</td>\n",
       "      <td>0</td>\n",
       "      <td>0</td>\n",
       "      <td>2.0</td>\n",
       "      <td>1.0</td>\n",
       "      <td>1.0</td>\n",
       "      <td>0</td>\n",
       "      <td>0</td>\n",
       "      <td>0</td>\n",
       "      <td>1</td>\n",
       "    </tr>\n",
       "    <tr>\n",
       "      <th>4544</th>\n",
       "      <td>157.0</td>\n",
       "      <td>1</td>\n",
       "      <td>1920.0</td>\n",
       "      <td>9.2</td>\n",
       "      <td>-37.85010</td>\n",
       "      <td>145.05900</td>\n",
       "      <td>745.0</td>\n",
       "      <td>3</td>\n",
       "      <td>10412.0</td>\n",
       "      <td>0</td>\n",
       "      <td>3146.0</td>\n",
       "      <td>1</td>\n",
       "      <td>0</td>\n",
       "      <td>4.0</td>\n",
       "      <td>2.0</td>\n",
       "      <td>2.0</td>\n",
       "      <td>0</td>\n",
       "      <td>0</td>\n",
       "      <td>0</td>\n",
       "      <td>1</td>\n",
       "    </tr>\n",
       "  </tbody>\n",
       "</table>\n",
       "</div>"
      ],
      "text/plain": [
       "       BuildingArea  Regionname_Southern Metropolitan  YearBuilt  Distance  \\\n",
       "19206         115.0                                 0     2005.0      12.4   \n",
       "28812         179.0                                 1     1915.0       5.4   \n",
       "20668         129.0                                 0     1992.0      17.4   \n",
       "14543         112.0                                 0     2015.0      11.2   \n",
       "4544          157.0                                 1     1920.0       9.2   \n",
       "\n",
       "       Lattitude  Longtitude  Landsize  Rooms  Propertycount  Type_u  \\\n",
       "19206  -37.75671   145.11401     217.0      2         5420.0       0   \n",
       "28812  -37.80920   145.03020     491.0      3        10331.0       0   \n",
       "20668  -37.64343   144.91193     501.0      3         4704.0       0   \n",
       "14543  -37.71200   144.91761     182.0      2         2651.0       0   \n",
       "4544   -37.85010   145.05900     745.0      3        10412.0       0   \n",
       "\n",
       "       Postcode  Type_h  Regionname_Eastern Metropolitan  Bedroom2  Car  \\\n",
       "19206    3107.0       0                                1       2.0  1.0   \n",
       "28812    3101.0       1                                0       3.0  1.0   \n",
       "20668    3048.0       1                                0       3.0  2.0   \n",
       "14543    3046.0       0                                0       2.0  1.0   \n",
       "4544     3146.0       1                                0       4.0  2.0   \n",
       "\n",
       "       Bathroom  CouncilArea_Monash City Council  SellerG_Marshall  \\\n",
       "19206       1.0                                0                 0   \n",
       "28812       2.0                                0                 1   \n",
       "20668       1.0                                0                 0   \n",
       "14543       1.0                                0                 0   \n",
       "4544        2.0                                0                 0   \n",
       "\n",
       "       CouncilArea_Glen Eira City Council  Method_S  \n",
       "19206                                   0         1  \n",
       "28812                                   0         0  \n",
       "20668                                   0         1  \n",
       "14543                                   0         1  \n",
       "4544                                    0         1  "
      ]
     },
     "execution_count": 13,
     "metadata": {},
     "output_type": "execute_result"
    }
   ],
   "source": [
    "X.head()"
   ]
  },
  {
   "cell_type": "code",
   "execution_count": 14,
   "metadata": {},
   "outputs": [
    {
     "data": {
      "text/plain": [
       "LinearRegression(copy_X=True, fit_intercept=True, n_jobs=1, normalize=False)"
      ]
     },
     "execution_count": 14,
     "metadata": {},
     "output_type": "execute_result"
    }
   ],
   "source": [
    "#instantiate model\n",
    "regr = linear_model.LinearRegression()\n",
    "\n",
    "#fit model to data\n",
    "regr.fit(X, y)"
   ]
  },
  {
   "cell_type": "code",
   "execution_count": 15,
   "metadata": {},
   "outputs": [
    {
     "data": {
      "text/plain": [
       "array([0.68616656, 0.67707549, 0.66961151, 0.70143416, 0.71256161,\n",
       "       0.70442054, 0.69237748, 0.63159029, 0.6777078 , 0.66964   ])"
      ]
     },
     "execution_count": 15,
     "metadata": {},
     "output_type": "execute_result"
    }
   ],
   "source": [
    "cross_val_score(regr, X, y, cv=10)"
   ]
  },
  {
   "cell_type": "code",
   "execution_count": 16,
   "metadata": {},
   "outputs": [
    {
     "name": "stdout",
     "output_type": "stream",
     "text": [
      "R-squared:\n"
     ]
    },
    {
     "data": {
      "text/plain": [
       "0.6931631235565892"
      ]
     },
     "execution_count": 16,
     "metadata": {},
     "output_type": "execute_result"
    }
   ],
   "source": [
    "print('R-squared:')\n",
    "regr.score(X,y)"
   ]
  },
  {
   "cell_type": "markdown",
   "metadata": {},
   "source": [
    "Our accuracy for linear regression is pretty decent. We'll have to check to see if any other models perform even better."
   ]
  },
  {
   "cell_type": "code",
   "execution_count": 17,
   "metadata": {},
   "outputs": [],
   "source": [
    "from sklearn.svm import SVR\n",
    "\n",
    "svm = SVR()\n",
    "svm.fit(X, y)\n",
    "\n",
    "score = cross_val_score(svm, X, y, cv=5)"
   ]
  },
  {
   "cell_type": "code",
   "execution_count": 18,
   "metadata": {},
   "outputs": [
    {
     "data": {
      "text/plain": [
       "-0.08244982671088417"
      ]
     },
     "execution_count": 18,
     "metadata": {},
     "output_type": "execute_result"
    }
   ],
   "source": [
    "svm.score(X, y)"
   ]
  },
  {
   "cell_type": "markdown",
   "metadata": {},
   "source": [
    "Support Vector Regression is horrible, in the negatives even. Perhaps I did something wrong."
   ]
  },
  {
   "cell_type": "code",
   "execution_count": 19,
   "metadata": {},
   "outputs": [
    {
     "data": {
      "text/plain": [
       "KNeighborsRegressor(algorithm='auto', leaf_size=30, metric='minkowski',\n",
       "          metric_params=None, n_jobs=1, n_neighbors=10, p=2,\n",
       "          weights='uniform')"
      ]
     },
     "execution_count": 19,
     "metadata": {},
     "output_type": "execute_result"
    }
   ],
   "source": [
    "from sklearn import neighbors\n",
    "\n",
    "knn = neighbors.KNeighborsRegressor(n_neighbors=10)\n",
    "\n",
    "knn.fit(X, y)"
   ]
  },
  {
   "cell_type": "code",
   "execution_count": 20,
   "metadata": {},
   "outputs": [
    {
     "data": {
      "text/plain": [
       "KNeighborsRegressor(algorithm='auto', leaf_size=30, metric='minkowski',\n",
       "          metric_params=None, n_jobs=1, n_neighbors=10, p=2,\n",
       "          weights='distance')"
      ]
     },
     "execution_count": 20,
     "metadata": {},
     "output_type": "execute_result"
    }
   ],
   "source": [
    "knn_w = neighbors.KNeighborsRegressor(n_neighbors=10, weights='distance')\n",
    "\n",
    "knn_w.fit(X, y)"
   ]
  },
  {
   "cell_type": "code",
   "execution_count": 21,
   "metadata": {},
   "outputs": [
    {
     "name": "stdout",
     "output_type": "stream",
     "text": [
      "Unweighted Accuracy: 0.48 (+/- 0.05)\n",
      "Weighted Accuracy: 0.55 (+/- 0.06)\n"
     ]
    }
   ],
   "source": [
    "score = cross_val_score(knn, X, y, cv=5)\n",
    "print(\"Unweighted Accuracy: %0.2f (+/- %0.2f)\" % (score.mean(), score.std() * 2))\n",
    "score_w = cross_val_score(knn_w, X, y, cv=5)\n",
    "print(\"Weighted Accuracy: %0.2f (+/- %0.2f)\" % (score_w.mean(), score_w.std() * 2))"
   ]
  },
  {
   "cell_type": "markdown",
   "metadata": {},
   "source": [
    "While the weighted KNN regression did perform better than the unweighted, both models did not perform well."
   ]
  },
  {
   "cell_type": "code",
   "execution_count": 22,
   "metadata": {},
   "outputs": [
    {
     "data": {
      "text/plain": [
       "array([0.77811069, 0.80764785, 0.73723289, 0.84355192, 0.81583558,\n",
       "       0.80928615, 0.79440072, 0.76298816, 0.79088366, 0.79834552])"
      ]
     },
     "execution_count": 22,
     "metadata": {},
     "output_type": "execute_result"
    }
   ],
   "source": [
    "score = cross_val_score(rfr, X, y, cv=10)\n",
    "cross_val_score(rfr, X, y, cv=10)"
   ]
  },
  {
   "cell_type": "code",
   "execution_count": 23,
   "metadata": {},
   "outputs": [
    {
     "name": "stdout",
     "output_type": "stream",
     "text": [
      "RFR Score:\n",
      "0.791243949383229\n"
     ]
    }
   ],
   "source": [
    "print('RFR Score:')\n",
    "print(score.mean())"
   ]
  },
  {
   "cell_type": "markdown",
   "metadata": {},
   "source": [
    "Random Forest Regressor seems to have performed the best."
   ]
  },
  {
   "cell_type": "code",
   "execution_count": 24,
   "metadata": {},
   "outputs": [
    {
     "data": {
      "image/png": "[encoded data removed]",
      "text/plain": [
       "<matplotlib.figure.Figure at 0x1f44f667780>"
      ]
     },
     "metadata": {},
     "output_type": "display_data"
    }
   ],
   "source": [
    "corrmat = X.corr()\n",
    "\n",
    "# Set up the matplotlib figure.\n",
    "f, ax = plt.subplots(figsize=(12, 9))\n",
    "\n",
    "# Draw the heatmap using seaborn\n",
    "sns.heatmap(corrmat, vmax=.8, square=True)\n",
    "plt.show()"
   ]
  },
  {
   "cell_type": "code",
   "execution_count": 25,
   "metadata": {},
   "outputs": [],
   "source": [
    "X['Rooms_times_Bedroom2'] = X['Rooms']*X['Bedroom2']\n",
    "X['Rooms_times_BuildingArea'] = X['Rooms']*X['BuildingArea']\n",
    "X['Bedroom2_times_BuildingArea'] = X['Bedroom2']*X['BuildingArea']\n",
    "X['Bedroom2_times_Bathroom'] = X['Bedroom2']*X['Bathroom']"
   ]
  },
  {
   "cell_type": "code",
   "execution_count": 26,
   "metadata": {},
   "outputs": [
    {
     "data": {
      "text/plain": [
       "array([0.77467488, 0.79492138, 0.78050463, 0.81068615, 0.84492568,\n",
       "       0.81010074, 0.78978781, 0.74678195, 0.81241229, 0.78280467])"
      ]
     },
     "execution_count": 26,
     "metadata": {},
     "output_type": "execute_result"
    }
   ],
   "source": [
    "score = cross_val_score(rfr, X, y, cv=10)\n",
    "cross_val_score(rfr, X, y, cv=10)"
   ]
  },
  {
   "cell_type": "code",
   "execution_count": 27,
   "metadata": {},
   "outputs": [
    {
     "name": "stdout",
     "output_type": "stream",
     "text": [
      "RFR Score:\n",
      "0.7951749893227078\n"
     ]
    }
   ],
   "source": [
    "print('RFR Score:')\n",
    "print(score.mean())"
   ]
  },
  {
   "cell_type": "markdown",
   "metadata": {},
   "source": [
    "My attempt to improve the RFR actually slightly worsened my accuracy. But the accuracy was already good (~80%)."
   ]
  }
 ],
 "metadata": {
  "kernelspec": {
   "display_name": "Python 3",
   "language": "python",
   "name": "python3"
  },
  "language_info": {
   "codemirror_mode": {
    "name": "ipython",
    "version": 3
   },
   "file_extension": ".py",
   "mimetype": "text/x-python",
   "name": "python",
   "nbconvert_exporter": "python",
   "pygments_lexer": "ipython3",
   "version": "3.6.4"
  }
 },
 "nbformat": 4,
 "nbformat_minor": 2
}
