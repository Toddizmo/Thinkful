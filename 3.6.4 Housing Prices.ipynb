{
 "cells": [
  {
   "cell_type": "markdown",
   "metadata": {},
   "source": [
    "I am attempting to see which supervised learning model has the best predictive accuracy for determining the price of the houses. Models that deal with regression need to be used for prediction. The models we'll attempt to use are:\n",
    "* Linear Regression\n",
    "* Support Vector Regression\n",
    "* KNN Regression\n",
    "* Random Forest Regression"
   ]
  },
  {
   "cell_type": "code",
   "execution_count": 1,
   "metadata": {},
   "outputs": [],
   "source": [
    "import pandas as pd\n",
    "from matplotlib import pyplot as plt\n",
    "import numpy as np\n",
    "from sklearn import linear_model\n",
    "import seaborn as sns\n",
    "%matplotlib inline"
   ]
  },
  {
   "cell_type": "code",
   "execution_count": 2,
   "metadata": {},
   "outputs": [
    {
     "data": {
      "text/plain": [
       "Suburb               0\n",
       "Address              0\n",
       "Rooms                0\n",
       "Type                 0\n",
       "Price             7610\n",
       "Method               0\n",
       "SellerG              0\n",
       "Date                 0\n",
       "Distance             1\n",
       "Postcode             1\n",
       "Bedroom2          8217\n",
       "Bathroom          8226\n",
       "Car               8728\n",
       "Landsize         11810\n",
       "BuildingArea     21115\n",
       "YearBuilt        19306\n",
       "CouncilArea          3\n",
       "Lattitude         7976\n",
       "Longtitude        7976\n",
       "Regionname           3\n",
       "Propertycount        3\n",
       "dtype: int64"
      ]
     },
     "execution_count": 2,
     "metadata": {},
     "output_type": "execute_result"
    }
   ],
   "source": [
    "# .fillna can be used to fill NaNs\n",
    "# think about what to do with your NaN and what they might mean\n",
    "housing = pd.read_csv('housing.csv')\n",
    "housing.isnull().sum()"
   ]
  },
  {
   "cell_type": "markdown",
   "metadata": {},
   "source": [
    "There is a lot of missing data. But due to time constraints we will simply be dropping any unavailable data. \n",
    "\n",
    "(It is important to note that missing data can be just as important as data that is present and there are different solutions to dealing with it.)"
   ]
  },
  {
   "cell_type": "code",
   "execution_count": 3,
   "metadata": {},
   "outputs": [],
   "source": [
    "# drop all NaNs in other columns\n",
    "housing = housing.dropna()"
   ]
  },
  {
   "cell_type": "code",
   "execution_count": 4,
   "metadata": {},
   "outputs": [],
   "source": [
    "# remove all outliers in the price column\n",
    "housing[np.abs(housing.Price-housing.Price.mean())<=(3*housing.Price.std())] \n",
    "housing = housing[~(np.abs(housing.Price-housing.Price.mean())>(3*housing.Price.std()))]"
   ]
  },
  {
   "cell_type": "code",
   "execution_count": 5,
   "metadata": {},
   "outputs": [],
   "source": [
    "# We've reduced the size quite a bit. But >11,000 items still\n",
    "# takes quite a while for my laptop to compute\n",
    "# I'll be taking a sample of 1/4 of the data to save time\n",
    "sample = int(11517/4)\n",
    "housing = housing.sample(n=sample)"
   ]
  },
  {
   "cell_type": "code",
   "execution_count": 6,
   "metadata": {},
   "outputs": [
    {
     "data": {
      "text/html": [
       "<div>\n",
       "<style scoped>\n",
       "    .dataframe tbody tr th:only-of-type {\n",
       "        vertical-align: middle;\n",
       "    }\n",
       "\n",
       "    .dataframe tbody tr th {\n",
       "        vertical-align: top;\n",
       "    }\n",
       "\n",
       "    .dataframe thead th {\n",
       "        text-align: right;\n",
       "    }\n",
       "</style>\n",
       "<table border=\"1\" class=\"dataframe\">\n",
       "  <thead>\n",
       "    <tr style=\"text-align: right;\">\n",
       "      <th></th>\n",
       "      <th>Suburb</th>\n",
       "      <th>Address</th>\n",
       "      <th>Rooms</th>\n",
       "      <th>Type</th>\n",
       "      <th>Price</th>\n",
       "      <th>Method</th>\n",
       "      <th>SellerG</th>\n",
       "      <th>Date</th>\n",
       "      <th>Distance</th>\n",
       "      <th>Postcode</th>\n",
       "      <th>...</th>\n",
       "      <th>Bathroom</th>\n",
       "      <th>Car</th>\n",
       "      <th>Landsize</th>\n",
       "      <th>BuildingArea</th>\n",
       "      <th>YearBuilt</th>\n",
       "      <th>CouncilArea</th>\n",
       "      <th>Lattitude</th>\n",
       "      <th>Longtitude</th>\n",
       "      <th>Regionname</th>\n",
       "      <th>Propertycount</th>\n",
       "    </tr>\n",
       "  </thead>\n",
       "  <tbody>\n",
       "    <tr>\n",
       "      <th>13378</th>\n",
       "      <td>Ormond</td>\n",
       "      <td>6/16 Walsh St</td>\n",
       "      <td>2</td>\n",
       "      <td>u</td>\n",
       "      <td>437500.0</td>\n",
       "      <td>S</td>\n",
       "      <td>Woodards</td>\n",
       "      <td>8/04/2017</td>\n",
       "      <td>11.8</td>\n",
       "      <td>3204.0</td>\n",
       "      <td>...</td>\n",
       "      <td>1.0</td>\n",
       "      <td>1.0</td>\n",
       "      <td>0.0</td>\n",
       "      <td>74.0</td>\n",
       "      <td>1970.0</td>\n",
       "      <td>Glen Eira City Council</td>\n",
       "      <td>-37.90230</td>\n",
       "      <td>145.04610</td>\n",
       "      <td>Southern Metropolitan</td>\n",
       "      <td>3578.0</td>\n",
       "    </tr>\n",
       "    <tr>\n",
       "      <th>14220</th>\n",
       "      <td>Travancore</td>\n",
       "      <td>456/38 Mt Alexander Rd</td>\n",
       "      <td>2</td>\n",
       "      <td>u</td>\n",
       "      <td>360000.0</td>\n",
       "      <td>SP</td>\n",
       "      <td>Pagan</td>\n",
       "      <td>20/05/2017</td>\n",
       "      <td>5.3</td>\n",
       "      <td>3032.0</td>\n",
       "      <td>...</td>\n",
       "      <td>1.0</td>\n",
       "      <td>1.0</td>\n",
       "      <td>0.0</td>\n",
       "      <td>51.0</td>\n",
       "      <td>2010.0</td>\n",
       "      <td>Moonee Valley City Council</td>\n",
       "      <td>-37.78470</td>\n",
       "      <td>144.93830</td>\n",
       "      <td>Western Metropolitan</td>\n",
       "      <td>1052.0</td>\n",
       "    </tr>\n",
       "    <tr>\n",
       "      <th>29961</th>\n",
       "      <td>Wantirna</td>\n",
       "      <td>4 Kellaway Ct</td>\n",
       "      <td>4</td>\n",
       "      <td>h</td>\n",
       "      <td>1188888.0</td>\n",
       "      <td>S</td>\n",
       "      <td>Barry</td>\n",
       "      <td>6/01/2018</td>\n",
       "      <td>14.7</td>\n",
       "      <td>3152.0</td>\n",
       "      <td>...</td>\n",
       "      <td>3.0</td>\n",
       "      <td>3.0</td>\n",
       "      <td>960.0</td>\n",
       "      <td>264.0</td>\n",
       "      <td>1990.0</td>\n",
       "      <td>Knox City Council</td>\n",
       "      <td>-37.85143</td>\n",
       "      <td>145.23157</td>\n",
       "      <td>Eastern Metropolitan</td>\n",
       "      <td>5424.0</td>\n",
       "    </tr>\n",
       "    <tr>\n",
       "      <th>27395</th>\n",
       "      <td>Vermont South</td>\n",
       "      <td>3 Ryrie Pl</td>\n",
       "      <td>4</td>\n",
       "      <td>h</td>\n",
       "      <td>1320000.0</td>\n",
       "      <td>S</td>\n",
       "      <td>Barry</td>\n",
       "      <td>11/11/2017</td>\n",
       "      <td>17.2</td>\n",
       "      <td>3133.0</td>\n",
       "      <td>...</td>\n",
       "      <td>2.0</td>\n",
       "      <td>2.0</td>\n",
       "      <td>790.0</td>\n",
       "      <td>172.0</td>\n",
       "      <td>1972.0</td>\n",
       "      <td>Whitehorse City Council</td>\n",
       "      <td>-37.86080</td>\n",
       "      <td>145.18420</td>\n",
       "      <td>Eastern Metropolitan</td>\n",
       "      <td>4280.0</td>\n",
       "    </tr>\n",
       "    <tr>\n",
       "      <th>2877</th>\n",
       "      <td>Carlton North</td>\n",
       "      <td>112 Newry St</td>\n",
       "      <td>4</td>\n",
       "      <td>h</td>\n",
       "      <td>1425000.0</td>\n",
       "      <td>S</td>\n",
       "      <td>Nelson</td>\n",
       "      <td>4/03/2017</td>\n",
       "      <td>3.2</td>\n",
       "      <td>3054.0</td>\n",
       "      <td>...</td>\n",
       "      <td>3.0</td>\n",
       "      <td>0.0</td>\n",
       "      <td>122.0</td>\n",
       "      <td>130.0</td>\n",
       "      <td>1890.0</td>\n",
       "      <td>Melbourne City Council</td>\n",
       "      <td>-37.78930</td>\n",
       "      <td>144.96960</td>\n",
       "      <td>Northern Metropolitan</td>\n",
       "      <td>3106.0</td>\n",
       "    </tr>\n",
       "  </tbody>\n",
       "</table>\n",
       "<p>5 rows × 21 columns</p>\n",
       "</div>"
      ],
      "text/plain": [
       "              Suburb                 Address  Rooms Type      Price Method  \\\n",
       "13378         Ormond           6/16 Walsh St      2    u   437500.0      S   \n",
       "14220     Travancore  456/38 Mt Alexander Rd      2    u   360000.0     SP   \n",
       "29961       Wantirna           4 Kellaway Ct      4    h  1188888.0      S   \n",
       "27395  Vermont South              3 Ryrie Pl      4    h  1320000.0      S   \n",
       "2877   Carlton North            112 Newry St      4    h  1425000.0      S   \n",
       "\n",
       "        SellerG        Date  Distance  Postcode      ...       Bathroom  Car  \\\n",
       "13378  Woodards   8/04/2017      11.8    3204.0      ...            1.0  1.0   \n",
       "14220     Pagan  20/05/2017       5.3    3032.0      ...            1.0  1.0   \n",
       "29961     Barry   6/01/2018      14.7    3152.0      ...            3.0  3.0   \n",
       "27395     Barry  11/11/2017      17.2    3133.0      ...            2.0  2.0   \n",
       "2877     Nelson   4/03/2017       3.2    3054.0      ...            3.0  0.0   \n",
       "\n",
       "       Landsize  BuildingArea  YearBuilt                 CouncilArea  \\\n",
       "13378       0.0          74.0     1970.0      Glen Eira City Council   \n",
       "14220       0.0          51.0     2010.0  Moonee Valley City Council   \n",
       "29961     960.0         264.0     1990.0           Knox City Council   \n",
       "27395     790.0         172.0     1972.0     Whitehorse City Council   \n",
       "2877      122.0         130.0     1890.0      Melbourne City Council   \n",
       "\n",
       "      Lattitude  Longtitude             Regionname Propertycount  \n",
       "13378 -37.90230   145.04610  Southern Metropolitan        3578.0  \n",
       "14220 -37.78470   144.93830   Western Metropolitan        1052.0  \n",
       "29961 -37.85143   145.23157   Eastern Metropolitan        5424.0  \n",
       "27395 -37.86080   145.18420   Eastern Metropolitan        4280.0  \n",
       "2877  -37.78930   144.96960  Northern Metropolitan        3106.0  \n",
       "\n",
       "[5 rows x 21 columns]"
      ]
     },
     "execution_count": 6,
     "metadata": {},
     "output_type": "execute_result"
    }
   ],
   "source": [
    "housing.head()"
   ]
  },
  {
   "cell_type": "code",
   "execution_count": 7,
   "metadata": {},
   "outputs": [],
   "source": [
    "# substantially increase the number of features\n",
    "housing = pd.get_dummies(housing)"
   ]
  },
  {
   "cell_type": "code",
   "execution_count": 8,
   "metadata": {},
   "outputs": [],
   "source": [
    "# choose our x and y\n",
    "y = housing['Price']\n",
    "X = housing.drop(['Price'], 1)"
   ]
  },
  {
   "cell_type": "code",
   "execution_count": 9,
   "metadata": {},
   "outputs": [],
   "source": [
    "# using random forest to determine which features are most important\n",
    "from sklearn import ensemble\n",
    "from sklearn.model_selection import cross_val_score\n",
    "\n",
    "rfr = ensemble.RandomForestRegressor()"
   ]
  },
  {
   "cell_type": "code",
   "execution_count": 10,
   "metadata": {},
   "outputs": [
    {
     "data": {
      "text/html": [
       "<div>\n",
       "<style scoped>\n",
       "    .dataframe tbody tr th:only-of-type {\n",
       "        vertical-align: middle;\n",
       "    }\n",
       "\n",
       "    .dataframe tbody tr th {\n",
       "        vertical-align: top;\n",
       "    }\n",
       "\n",
       "    .dataframe thead th {\n",
       "        text-align: right;\n",
       "    }\n",
       "</style>\n",
       "<table border=\"1\" class=\"dataframe\">\n",
       "  <thead>\n",
       "    <tr style=\"text-align: right;\">\n",
       "      <th></th>\n",
       "      <th>importance</th>\n",
       "    </tr>\n",
       "  </thead>\n",
       "  <tbody>\n",
       "    <tr>\n",
       "      <th>7</th>\n",
       "      <td>0.302877</td>\n",
       "    </tr>\n",
       "    <tr>\n",
       "      <th>8</th>\n",
       "      <td>0.162624</td>\n",
       "    </tr>\n",
       "    <tr>\n",
       "      <th>3463</th>\n",
       "      <td>0.139867</td>\n",
       "    </tr>\n",
       "    <tr>\n",
       "      <th>1</th>\n",
       "      <td>0.089026</td>\n",
       "    </tr>\n",
       "    <tr>\n",
       "      <th>10</th>\n",
       "      <td>0.043018</td>\n",
       "    </tr>\n",
       "  </tbody>\n",
       "</table>\n",
       "</div>"
      ],
      "text/plain": [
       "      importance\n",
       "7       0.302877\n",
       "8       0.162624\n",
       "3463    0.139867\n",
       "1       0.089026\n",
       "10      0.043018"
      ]
     },
     "execution_count": 10,
     "metadata": {},
     "output_type": "execute_result"
    }
   ],
   "source": [
    "# create a chart showing the most important features\n",
    "df = pd.DataFrame()\n",
    "df['importance'] = rfr.fit(X, y).feature_importances_\n",
    "df = df.sort_values(by='importance', ascending = False)\n",
    "df2 = df[:100]\n",
    "df2 = df2.reset_index(drop=True)\n",
    "df.head()"
   ]
  },
  {
   "cell_type": "code",
   "execution_count": 11,
   "metadata": {},
   "outputs": [
    {
     "data": {
      "text/plain": [
       "<matplotlib.axes._subplots.AxesSubplot at 0x2b6a6e0d080>"
      ]
     },
     "execution_count": 11,
     "metadata": {},
     "output_type": "execute_result"
    },
    {
     "data": {
      "image/png": "[encoded data removed]",
      "text/plain": [
       "<matplotlib.figure.Figure at 0x2b6a6df4400>"
      ]
     },
     "metadata": {},
     "output_type": "display_data"
    }
   ],
   "source": [
    "#create a graph showing the most important features\n",
    "plt.subplots(figsize=(12,8))\n",
    "sns.regplot(data = df2.reset_index(), x = 'index', y = 'importance')"
   ]
  },
  {
   "cell_type": "code",
   "execution_count": 12,
   "metadata": {},
   "outputs": [],
   "source": [
    "# turn index into a list and select the 30 most important columns/features\n",
    "df = df[:20]\n",
    "df_list = df.index.T.tolist()\n",
    "X2 = pd.DataFrame()\n",
    "X2 = X.iloc[:, df_list]\n",
    "X = X2"
   ]
  },
  {
   "cell_type": "code",
   "execution_count": 13,
   "metadata": {},
   "outputs": [
    {
     "data": {
      "text/html": [
       "<div>\n",
       "<style scoped>\n",
       "    .dataframe tbody tr th:only-of-type {\n",
       "        vertical-align: middle;\n",
       "    }\n",
       "\n",
       "    .dataframe tbody tr th {\n",
       "        vertical-align: top;\n",
       "    }\n",
       "\n",
       "    .dataframe thead th {\n",
       "        text-align: right;\n",
       "    }\n",
       "</style>\n",
       "<table border=\"1\" class=\"dataframe\">\n",
       "  <thead>\n",
       "    <tr style=\"text-align: right;\">\n",
       "      <th></th>\n",
       "      <th>BuildingArea</th>\n",
       "      <th>YearBuilt</th>\n",
       "      <th>Regionname_Southern Metropolitan</th>\n",
       "      <th>Distance</th>\n",
       "      <th>Longtitude</th>\n",
       "      <th>Lattitude</th>\n",
       "      <th>Landsize</th>\n",
       "      <th>Type_h</th>\n",
       "      <th>Type_u</th>\n",
       "      <th>Postcode</th>\n",
       "      <th>Regionname_Eastern Metropolitan</th>\n",
       "      <th>Propertycount</th>\n",
       "      <th>Rooms</th>\n",
       "      <th>Bedroom2</th>\n",
       "      <th>Bathroom</th>\n",
       "      <th>Car</th>\n",
       "      <th>CouncilArea_Glen Eira City Council</th>\n",
       "      <th>CouncilArea_Boroondara City Council</th>\n",
       "      <th>Address_39 Sandpiper Pl</th>\n",
       "      <th>SellerG_Collins</th>\n",
       "    </tr>\n",
       "  </thead>\n",
       "  <tbody>\n",
       "    <tr>\n",
       "      <th>13378</th>\n",
       "      <td>74.0</td>\n",
       "      <td>1970.0</td>\n",
       "      <td>1</td>\n",
       "      <td>11.8</td>\n",
       "      <td>145.04610</td>\n",
       "      <td>-37.90230</td>\n",
       "      <td>0.0</td>\n",
       "      <td>0</td>\n",
       "      <td>1</td>\n",
       "      <td>3204.0</td>\n",
       "      <td>0</td>\n",
       "      <td>3578.0</td>\n",
       "      <td>2</td>\n",
       "      <td>2.0</td>\n",
       "      <td>1.0</td>\n",
       "      <td>1.0</td>\n",
       "      <td>1</td>\n",
       "      <td>0</td>\n",
       "      <td>0</td>\n",
       "      <td>0</td>\n",
       "    </tr>\n",
       "    <tr>\n",
       "      <th>14220</th>\n",
       "      <td>51.0</td>\n",
       "      <td>2010.0</td>\n",
       "      <td>0</td>\n",
       "      <td>5.3</td>\n",
       "      <td>144.93830</td>\n",
       "      <td>-37.78470</td>\n",
       "      <td>0.0</td>\n",
       "      <td>0</td>\n",
       "      <td>1</td>\n",
       "      <td>3032.0</td>\n",
       "      <td>0</td>\n",
       "      <td>1052.0</td>\n",
       "      <td>2</td>\n",
       "      <td>2.0</td>\n",
       "      <td>1.0</td>\n",
       "      <td>1.0</td>\n",
       "      <td>0</td>\n",
       "      <td>0</td>\n",
       "      <td>0</td>\n",
       "      <td>0</td>\n",
       "    </tr>\n",
       "    <tr>\n",
       "      <th>29961</th>\n",
       "      <td>264.0</td>\n",
       "      <td>1990.0</td>\n",
       "      <td>0</td>\n",
       "      <td>14.7</td>\n",
       "      <td>145.23157</td>\n",
       "      <td>-37.85143</td>\n",
       "      <td>960.0</td>\n",
       "      <td>1</td>\n",
       "      <td>0</td>\n",
       "      <td>3152.0</td>\n",
       "      <td>1</td>\n",
       "      <td>5424.0</td>\n",
       "      <td>4</td>\n",
       "      <td>4.0</td>\n",
       "      <td>3.0</td>\n",
       "      <td>3.0</td>\n",
       "      <td>0</td>\n",
       "      <td>0</td>\n",
       "      <td>0</td>\n",
       "      <td>0</td>\n",
       "    </tr>\n",
       "    <tr>\n",
       "      <th>27395</th>\n",
       "      <td>172.0</td>\n",
       "      <td>1972.0</td>\n",
       "      <td>0</td>\n",
       "      <td>17.2</td>\n",
       "      <td>145.18420</td>\n",
       "      <td>-37.86080</td>\n",
       "      <td>790.0</td>\n",
       "      <td>1</td>\n",
       "      <td>0</td>\n",
       "      <td>3133.0</td>\n",
       "      <td>1</td>\n",
       "      <td>4280.0</td>\n",
       "      <td>4</td>\n",
       "      <td>4.0</td>\n",
       "      <td>2.0</td>\n",
       "      <td>2.0</td>\n",
       "      <td>0</td>\n",
       "      <td>0</td>\n",
       "      <td>0</td>\n",
       "      <td>0</td>\n",
       "    </tr>\n",
       "    <tr>\n",
       "      <th>2877</th>\n",
       "      <td>130.0</td>\n",
       "      <td>1890.0</td>\n",
       "      <td>0</td>\n",
       "      <td>3.2</td>\n",
       "      <td>144.96960</td>\n",
       "      <td>-37.78930</td>\n",
       "      <td>122.0</td>\n",
       "      <td>1</td>\n",
       "      <td>0</td>\n",
       "      <td>3054.0</td>\n",
       "      <td>0</td>\n",
       "      <td>3106.0</td>\n",
       "      <td>4</td>\n",
       "      <td>4.0</td>\n",
       "      <td>3.0</td>\n",
       "      <td>0.0</td>\n",
       "      <td>0</td>\n",
       "      <td>0</td>\n",
       "      <td>0</td>\n",
       "      <td>0</td>\n",
       "    </tr>\n",
       "  </tbody>\n",
       "</table>\n",
       "</div>"
      ],
      "text/plain": [
       "       BuildingArea  YearBuilt  Regionname_Southern Metropolitan  Distance  \\\n",
       "13378          74.0     1970.0                                 1      11.8   \n",
       "14220          51.0     2010.0                                 0       5.3   \n",
       "29961         264.0     1990.0                                 0      14.7   \n",
       "27395         172.0     1972.0                                 0      17.2   \n",
       "2877          130.0     1890.0                                 0       3.2   \n",
       "\n",
       "       Longtitude  Lattitude  Landsize  Type_h  Type_u  Postcode  \\\n",
       "13378   145.04610  -37.90230       0.0       0       1    3204.0   \n",
       "14220   144.93830  -37.78470       0.0       0       1    3032.0   \n",
       "29961   145.23157  -37.85143     960.0       1       0    3152.0   \n",
       "27395   145.18420  -37.86080     790.0       1       0    3133.0   \n",
       "2877    144.96960  -37.78930     122.0       1       0    3054.0   \n",
       "\n",
       "       Regionname_Eastern Metropolitan  Propertycount  Rooms  Bedroom2  \\\n",
       "13378                                0         3578.0      2       2.0   \n",
       "14220                                0         1052.0      2       2.0   \n",
       "29961                                1         5424.0      4       4.0   \n",
       "27395                                1         4280.0      4       4.0   \n",
       "2877                                 0         3106.0      4       4.0   \n",
       "\n",
       "       Bathroom  Car  CouncilArea_Glen Eira City Council  \\\n",
       "13378       1.0  1.0                                   1   \n",
       "14220       1.0  1.0                                   0   \n",
       "29961       3.0  3.0                                   0   \n",
       "27395       2.0  2.0                                   0   \n",
       "2877        3.0  0.0                                   0   \n",
       "\n",
       "       CouncilArea_Boroondara City Council  Address_39 Sandpiper Pl  \\\n",
       "13378                                    0                        0   \n",
       "14220                                    0                        0   \n",
       "29961                                    0                        0   \n",
       "27395                                    0                        0   \n",
       "2877                                     0                        0   \n",
       "\n",
       "       SellerG_Collins  \n",
       "13378                0  \n",
       "14220                0  \n",
       "29961                0  \n",
       "27395                0  \n",
       "2877                 0  "
      ]
     },
     "execution_count": 13,
     "metadata": {},
     "output_type": "execute_result"
    }
   ],
   "source": [
    "X.head()"
   ]
  },
  {
   "cell_type": "code",
   "execution_count": 14,
   "metadata": {},
   "outputs": [
    {
     "data": {
      "text/plain": [
       "LinearRegression(copy_X=True, fit_intercept=True, n_jobs=1, normalize=False)"
      ]
     },
     "execution_count": 14,
     "metadata": {},
     "output_type": "execute_result"
    }
   ],
   "source": [
    "#instantiate model\n",
    "regr = linear_model.LinearRegression()\n",
    "\n",
    "#fit model to data\n",
    "regr.fit(X, y)"
   ]
  },
  {
   "cell_type": "code",
   "execution_count": 15,
   "metadata": {},
   "outputs": [
    {
     "data": {
      "text/plain": [
       "array([0.68693757, 0.7032721 , 0.70913381, 0.69407002, 0.6406585 ,\n",
       "       0.7172006 , 0.57959471, 0.70223276, 0.67897007, 0.68876312])"
      ]
     },
     "execution_count": 15,
     "metadata": {},
     "output_type": "execute_result"
    }
   ],
   "source": [
    "cross_val_score(regr, X, y, cv=10)"
   ]
  },
  {
   "cell_type": "code",
   "execution_count": 16,
   "metadata": {},
   "outputs": [
    {
     "name": "stdout",
     "output_type": "stream",
     "text": [
      "R-squared:\n"
     ]
    },
    {
     "data": {
      "text/plain": [
       "0.7019640031158298"
      ]
     },
     "execution_count": 16,
     "metadata": {},
     "output_type": "execute_result"
    }
   ],
   "source": [
    "print('R-squared:')\n",
    "regr.score(X,y)"
   ]
  },
  {
   "cell_type": "markdown",
   "metadata": {},
   "source": [
    "Our accuracy for linear regression is pretty decent. We'll have to check to see if any other models perform even better."
   ]
  },
  {
   "cell_type": "code",
   "execution_count": 17,
   "metadata": {},
   "outputs": [],
   "source": [
    "from sklearn.svm import SVR\n",
    "\n",
    "svm = SVR()\n",
    "svm.fit(X, y)\n",
    "\n",
    "score = cross_val_score(svm, X, y, cv=5)"
   ]
  },
  {
   "cell_type": "code",
   "execution_count": 18,
   "metadata": {},
   "outputs": [
    {
     "data": {
      "text/plain": [
       "-0.075742873411073"
      ]
     },
     "execution_count": 18,
     "metadata": {},
     "output_type": "execute_result"
    }
   ],
   "source": [
    "svm.score(X, y)"
   ]
  },
  {
   "cell_type": "markdown",
   "metadata": {},
   "source": [
    "Support Vector Regression is horrible, in the negatives even. Perhaps I did something wrong."
   ]
  },
  {
   "cell_type": "code",
   "execution_count": 19,
   "metadata": {},
   "outputs": [
    {
     "data": {
      "text/plain": [
       "KNeighborsRegressor(algorithm='auto', leaf_size=30, metric='minkowski',\n",
       "          metric_params=None, n_jobs=1, n_neighbors=10, p=2,\n",
       "          weights='uniform')"
      ]
     },
     "execution_count": 19,
     "metadata": {},
     "output_type": "execute_result"
    }
   ],
   "source": [
    "from sklearn import neighbors\n",
    "\n",
    "knn = neighbors.KNeighborsRegressor(n_neighbors=10)\n",
    "\n",
    "knn.fit(X, y)"
   ]
  },
  {
   "cell_type": "code",
   "execution_count": 20,
   "metadata": {},
   "outputs": [
    {
     "data": {
      "text/plain": [
       "KNeighborsRegressor(algorithm='auto', leaf_size=30, metric='minkowski',\n",
       "          metric_params=None, n_jobs=1, n_neighbors=10, p=2,\n",
       "          weights='distance')"
      ]
     },
     "execution_count": 20,
     "metadata": {},
     "output_type": "execute_result"
    }
   ],
   "source": [
    "knn_w = neighbors.KNeighborsRegressor(n_neighbors=10, weights='distance')\n",
    "\n",
    "knn_w.fit(X, y)"
   ]
  },
  {
   "cell_type": "code",
   "execution_count": 21,
   "metadata": {},
   "outputs": [
    {
     "name": "stdout",
     "output_type": "stream",
     "text": [
      "Unweighted Accuracy: 0.50 (+/- 0.05)\n",
      "Weighted Accuracy: 0.56 (+/- 0.05)\n"
     ]
    }
   ],
   "source": [
    "score = cross_val_score(knn, X, y, cv=5)\n",
    "print(\"Unweighted Accuracy: %0.2f (+/- %0.2f)\" % (score.mean(), score.std() * 2))\n",
    "score_w = cross_val_score(knn_w, X, y, cv=5)\n",
    "print(\"Weighted Accuracy: %0.2f (+/- %0.2f)\" % (score_w.mean(), score_w.std() * 2))"
   ]
  },
  {
   "cell_type": "markdown",
   "metadata": {},
   "source": [
    "While the weighted KNN regression did perform better than the unweighted, both models did not perform well."
   ]
  },
  {
   "cell_type": "code",
   "execution_count": 22,
   "metadata": {},
   "outputs": [
    {
     "data": {
      "text/plain": [
       "array([0.84167313, 0.80586925, 0.82353544, 0.80666001, 0.81064281,\n",
       "       0.80558722, 0.81256486, 0.7443236 , 0.78144636, 0.81416713])"
      ]
     },
     "execution_count": 22,
     "metadata": {},
     "output_type": "execute_result"
    }
   ],
   "source": [
    "score = cross_val_score(rfr, X, y, cv=10)\n",
    "cross_val_score(rfr, X, y, cv=10)"
   ]
  },
  {
   "cell_type": "code",
   "execution_count": 23,
   "metadata": {},
   "outputs": [
    {
     "name": "stdout",
     "output_type": "stream",
     "text": [
      "RFR Score:\n",
      "0.8074603099142015\n"
     ]
    }
   ],
   "source": [
    "print('RFR Score:')\n",
    "print(score.mean())"
   ]
  },
  {
   "cell_type": "markdown",
   "metadata": {},
   "source": [
    "Random Forest Regressor seems to have performed the best."
   ]
  },
  {
   "cell_type": "code",
   "execution_count": 24,
   "metadata": {},
   "outputs": [
    {
     "data": {
      "image/png": "[encoded data removed]",
      "text/plain": [
       "<matplotlib.figure.Figure at 0x2b6a6ea6f98>"
      ]
     },
     "metadata": {},
     "output_type": "display_data"
    }
   ],
   "source": [
    "corrmat = X.corr()\n",
    "\n",
    "# Set up the matplotlib figure.\n",
    "f, ax = plt.subplots(figsize=(12, 9))\n",
    "\n",
    "# Draw the heatmap using seaborn\n",
    "sns.heatmap(corrmat, vmax=.8, square=True)\n",
    "plt.show()"
   ]
  },
  {
   "cell_type": "code",
   "execution_count": 25,
   "metadata": {},
   "outputs": [],
   "source": [
    "X['Rooms_times_Bedroom2'] = X['Rooms']*X['Bedroom2']\n",
    "X['Rooms_times_BuildingArea'] = X['Rooms']*X['BuildingArea']\n",
    "X['Bedroom2_times_BuildingArea'] = X['Bedroom2']*X['BuildingArea']\n",
    "X['Bedroom2_times_Bathroom'] = X['Bedroom2']*X['Bathroom']"
   ]
  },
  {
   "cell_type": "code",
   "execution_count": 26,
   "metadata": {},
   "outputs": [
    {
     "data": {
      "text/plain": [
       "array([0.83220613, 0.79804967, 0.79511275, 0.79011877, 0.8259214 ,\n",
       "       0.82968501, 0.78524653, 0.77108469, 0.77863144, 0.81630644])"
      ]
     },
     "execution_count": 26,
     "metadata": {},
     "output_type": "execute_result"
    }
   ],
   "source": [
    "score = cross_val_score(rfr, X, y, cv=10)\n",
    "cross_val_score(rfr, X, y, cv=10)"
   ]
  },
  {
   "cell_type": "code",
   "execution_count": 27,
   "metadata": {},
   "outputs": [
    {
     "name": "stdout",
     "output_type": "stream",
     "text": [
      "RFR Score:\n",
      "0.8008910129179915\n"
     ]
    }
   ],
   "source": [
    "print('RFR Score:')\n",
    "print(score.mean())"
   ]
  },
  {
   "cell_type": "markdown",
   "metadata": {},
   "source": [
    "My attempt to improve the RFR actually slightly worsened my accuracy. But the accuracy was already good (80%)."
   ]
  }
 ],
 "metadata": {
  "kernelspec": {
   "display_name": "Python 3",
   "language": "python",
   "name": "python3"
  },
  "language_info": {
   "codemirror_mode": {
    "name": "ipython",
    "version": 3
   },
   "file_extension": ".py",
   "mimetype": "text/x-python",
   "name": "python",
   "nbconvert_exporter": "python",
   "pygments_lexer": "ipython3",
   "version": "3.6.4"
  }
 },
 "nbformat": 4,
 "nbformat_minor": 2
}
