{
 "cells": [
  {
   "cell_type": "code",
   "execution_count": null,
   "metadata": {
    "collapsed": true
   },
   "outputs": [],
   "source": [
    "What’s the most expensive listing? \n",
    "What else can you tell me about the listing?\n",
    "    AmsterdamStag Stay. It is located in Centrum-West and hosted by someone named Jo. \n",
    "    It is an entire home for rent and goes for $999 a night. \n",
    "    It is available 340 days a year. I can also tell you (by googling it) \n",
    "    that it now goes for nearly $1200 a night and boards up to 10 people.\n",
    "\n",
    "select\n",
    "\t*\n",
    "from\n",
    "\tlistings\n",
    "order by price DESC"
   ]
  },
  {
   "cell_type": "code",
   "execution_count": null,
   "metadata": {
    "collapsed": true
   },
   "outputs": [],
   "source": [
    "What neighborhoods seem to be the most popular?\n",
    "    The greatest indicator available to determine popularity is reviews per month.\n",
    "    The three neighbourhoods with the highestest \"popularity\" would be:\n",
    "    Centrum-West=2620,54 | De Baarsjes=2541.67 | Centrum-OOst=1777.85\n",
    "\n",
    "SELECT \n",
    "\tneighbourhood,\n",
    "\tSUM(reviews_per_month)\n",
    "FROM \n",
    "\tlistings\n",
    "GROUP BY \n",
    "\t1\n",
    "ORDER BY SUM(reviews_per_month) DESC"
   ]
  },
  {
   "cell_type": "code",
   "execution_count": null,
   "metadata": {
    "collapsed": true
   },
   "outputs": [],
   "source": [
    "What time of year is the cheapest time to go to your city? What about the busiest\n",
    "    From a quick look at price during each date of the month,\n",
    "    it seems that April tends to be the cheapest month and\n",
    "    January through March is the most exepensive (busiest)\n",
    "\n",
    "update calendar set\n",
    "\tprice = replace(price, '$', '')\n",
    "    \n",
    "    \n",
    "select\n",
    "\tdate,\n",
    "\tAVG(price)\n",
    "from\n",
    "\tcalendar\n",
    "GROUP BY date"
   ]
  }
 ],
 "metadata": {
  "kernelspec": {
   "display_name": "Python 3",
   "language": "python",
   "name": "python3"
  },
  "language_info": {
   "codemirror_mode": {
    "name": "ipython",
    "version": 3
   },
   "file_extension": ".py",
   "mimetype": "text/x-python",
   "name": "python",
   "nbconvert_exporter": "python",
   "pygments_lexer": "ipython3",
   "version": "3.6.2"
  }
 },
 "nbformat": 4,
 "nbformat_minor": 2
}
