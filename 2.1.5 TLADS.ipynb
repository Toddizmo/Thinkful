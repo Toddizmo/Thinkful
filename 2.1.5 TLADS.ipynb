{
 "cells": [
  {
   "cell_type": "markdown",
   "metadata": {},
   "source": [
    "Country: categorical\n",
    "\n",
    "ESS round (year): interval\n",
    "\n",
    "Respondent's id number: ratio\n",
    "\n",
    "TV watching (average weekday): ratio\n",
    "\n",
    "People are trusted: interval\n",
    "\n",
    "People are fair: interval\n",
    "\n",
    "People help: interval\n",
    "\n",
    "Happy: interval\n",
    "\n",
    "Socially meet with friends, relatives, colleagues: interval\n",
    "\n",
    "Take part in social activies: interval\n",
    "\n",
    "Gender: categorical\n",
    "\n",
    "Age: ratio\n",
    "\n",
    "Partner: categorical"
   ]
  }
 ],
 "metadata": {
  "kernelspec": {
   "display_name": "Python 3",
   "language": "python",
   "name": "python3"
  },
  "language_info": {
   "codemirror_mode": {
    "name": "ipython",
    "version": 3
   },
   "file_extension": ".py",
   "mimetype": "text/x-python",
   "name": "python",
   "nbconvert_exporter": "python",
   "pygments_lexer": "ipython3",
   "version": "3.6.2"
  }
 },
 "nbformat": 4,
 "nbformat_minor": 2
}
