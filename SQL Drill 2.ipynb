{
 "cells": [
  {
   "cell_type": "markdown",
   "metadata": {},
   "source": [
    "What was the hottest day in our data set? Where was that?\n",
    "    134 °F, 94063 (Redwood City, CA)\n",
    "\n",
    "SELECT\n",
    "    MaxTemperatureF,\n",
    "\tZIP\n",
    "FROM\n",
    "\tweather\n",
    "ORDER by MaxTemperatureF DESC\n",
    "LIMIT 1"
   ]
  },
  {
   "cell_type": "markdown",
   "metadata": {},
   "source": [
    "How many trips started at each station?\n",
    "    Ranging from 2 trips (Franklin at Maple) to 23591 (San Fransisco Caltrain).\n",
    "    Over a total of 79 starting stations.\n",
    "\n",
    "SELECT\n",
    "\tstart_station,\n",
    "\tCOUNT(*) station_count\n",
    "FROM\n",
    "\ttrips\n",
    "GROUP BY 1"
   ]
  },
  {
   "cell_type": "markdown",
   "metadata": {},
   "source": [
    "What's the shortest trip that happened?\n",
    "    60 seconds (1 minute), which tied between 22 different trips.\n",
    "\n",
    "SELECT\n",
    "\tduration,\n",
    "\tstart_station,\n",
    "\tend_station\n",
    "FROM\n",
    "\ttrips\n",
    "WHERE duration = 60\n",
    "--after having executed to find that 60 is the shortest trip time\n",
    "ORDER BY duration"
   ]
  },
  {
   "cell_type": "markdown",
   "metadata": {},
   "source": [
    "What is the average trip duration, by end station?\n",
    "    Ranging from 257 seconds (4.3 minutes, 2nd at Folsom) to 4711 seconds (78.5 minutes, University and Emerson).\n",
    "    Over a total of 79 end_stations\n",
    "\n",
    "SELECT\n",
    "\tend_station,\n",
    "\tAVG(duration) duration\n",
    "FROM\n",
    "\ttrips\n",
    "GROUP BY 1"
   ]
  }
 ],
 "metadata": {
  "kernelspec": {
   "display_name": "Python 3",
   "language": "python",
   "name": "python3"
  },
  "language_info": {
   "codemirror_mode": {
    "name": "ipython",
    "version": 3
   },
   "file_extension": ".py",
   "mimetype": "text/x-python",
   "name": "python",
   "nbconvert_exporter": "python",
   "pygments_lexer": "ipython3",
   "version": "3.6.2"
  }
 },
 "nbformat": 4,
 "nbformat_minor": 2
}
