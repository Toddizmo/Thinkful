{
 "cells": [
  {
   "cell_type": "markdown",
   "metadata": {},
   "source": [
    "#### For each of the following questions, outline how you could use an A/B test to find an answer. Be sure to identify all five key components of an A/B test."
   ]
  },
  {
   "cell_type": "markdown",
   "metadata": {},
   "source": [
    "*1) Does a new supplement help people sleep better?*\n",
    "\n",
    "**two versions**: placebo vs supplement\n",
    "<br>\n",
    "**sample**: divided into age groups, genders, and medical condition\n",
    "<br>\n",
    "**hypothesis**: supplement will have a better effect than the placebo\n",
    "<br>\n",
    "**outcome**: subjects will sleep longer (measured in time)\n",
    "<br>\n",
    "**other measured variables**: subjects fall asleep faster and wake up less"
   ]
  },
  {
   "cell_type": "markdown",
   "metadata": {},
   "source": [
    "*2) Will new uniforms help a gym's business?*\n",
    "\n",
    "**two versions**: wearing the old uniform vs wearing the new uniform\n",
    "<br>\n",
    "**sample**: attendees of the gym divided into specific days of the week during one season\n",
    "<br>\n",
    "**hypothesis**: higher attendance will occur when new uniforms are implemented\n",
    "<br>\n",
    "**outcome**: attendance will go up, measured by number of individuals attending on same day of week - every week\n",
    "<br>\n",
    "**other measured variables**: prolonged gym visits, more gym memberships purchased, more merchandise purchased"
   ]
  },
  {
   "cell_type": "markdown",
   "metadata": {},
   "source": [
    "*3) Will a new homepage improve my online exotic pet rental business?*\n",
    "\n",
    "**two versions**: website with old homepage vs website with new homepage\n",
    "<br>\n",
    "**sample**: individuals viewing website divided into groups based on gender, age, and socioeconomic status\n",
    "<br>\n",
    "**hypothesis**: new homepage will increase sales\n",
    "<br>\n",
    "**outcome**: sales are increased and measured in money\n",
    "<br>\n",
    "**other measured variables**: website hits increase, web traffic on all website pages increase"
   ]
  },
  {
   "cell_type": "markdown",
   "metadata": {},
   "source": [
    "*4) If I put 'please read' in the email subject will more people read my emails?* \n",
    "\n",
    "**two versions**: emails sent out with 'please read' vs without\n",
    "<br>\n",
    "**sample**: email receivers seperated by age, gender, location, and possibly income\n",
    "<br>\n",
    "**hypothesis**: more emails read when incorporating 'please read' in the subject\n",
    "<br>\n",
    "**outcome**: more emails are opened and read, measured in number\n",
    "<br>\n",
    "**other measured variables**: increased time email is open, email is opened faster, links in email are clicked more often"
   ]
  }
 ],
 "metadata": {
  "kernelspec": {
   "display_name": "Python 3",
   "language": "python",
   "name": "python3"
  },
  "language_info": {
   "codemirror_mode": {
    "name": "ipython",
    "version": 3
   },
   "file_extension": ".py",
   "mimetype": "text/x-python",
   "name": "python",
   "nbconvert_exporter": "python",
   "pygments_lexer": "ipython3",
   "version": "3.6.2"
  }
 },
 "nbformat": 4,
 "nbformat_minor": 2
}
