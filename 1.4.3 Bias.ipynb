{
 "cells": [
  {
   "cell_type": "markdown",
   "metadata": {},
   "source": [
    "*For each of the following scenarios, call out the potential biases in the proposed experiment.*"
   ]
  },
  {
   "cell_type": "markdown",
   "metadata": {},
   "source": [
    "**You're testing advertising emails for a bathing suit company and you test one version of the email in February and the other in May.**\n",
    "\n",
    "Testing during different months can lead to very different results. It is also necessary to make sure that the sample is random and that the emails are sent in the most similar way possible (time of day, day of the week, etc.)"
   ]
  },
  {
   "cell_type": "markdown",
   "metadata": {},
   "source": [
    "**You open a clinic to treat anxiety and find that the people who visit show a higher rate of anxiety than the general population.**\n",
    "\n",
    "It's an anxiety clinic, you would literally expect more people to show up for treatment that actually have anxiety than not."
   ]
  },
  {
   "cell_type": "markdown",
   "metadata": {},
   "source": [
    "**You launch a new ad billboard based campaign and see an increase in website visits in the first week.**\n",
    "\n",
    "We'd need to know if the site was already growing in popularity. Location could also play a role in bias."
   ]
  },
  {
   "cell_type": "markdown",
   "metadata": {},
   "source": [
    "**You launch a loyalty program but see no change in visits in the first week.**\n",
    "\n",
    "Has the program been properly broadcast? Do people know about it? Are there any benefits to the loyality program that would incite a greater amount of visits?"
   ]
  }
 ],
 "metadata": {
  "kernelspec": {
   "display_name": "Python 3",
   "language": "python",
   "name": "python3"
  },
  "language_info": {
   "codemirror_mode": {
    "name": "ipython",
    "version": 3
   },
   "file_extension": ".py",
   "mimetype": "text/x-python",
   "name": "python",
   "nbconvert_exporter": "python",
   "pygments_lexer": "ipython3",
   "version": "3.6.2"
  }
 },
 "nbformat": 4,
 "nbformat_minor": 2
}
